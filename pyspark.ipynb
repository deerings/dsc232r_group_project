{
 "cells": [
  {
   "cell_type": "markdown",
   "id": "5d1daa8c-f894-4fee-b74b-2f8ab6b70635",
   "metadata": {},
   "source": [
    "# FEMA's National Flood Insurance Policy Database Data Exploration"
   ]
  },
  {
   "cell_type": "markdown",
   "id": "296d6da5-22f1-4bde-8d4f-34a969ed9394",
   "metadata": {},
   "source": [
    "### Load Libraries"
   ]
  },
  {
   "cell_type": "code",
   "execution_count": 1,
   "id": "13acd25f-90fc-48eb-823f-370db3aa29af",
   "metadata": {},
   "outputs": [
    {
     "name": "stderr",
     "output_type": "stream",
     "text": [
      "Matplotlib created a temporary cache directory at /scratch/sdeering/job_30329128/matplotlib-sn2hdpxx because the default path (/home/jovyan/.cache/matplotlib) is not a writable directory; it is highly recommended to set the MPLCONFIGDIR environment variable to a writable directory, in particular to speed up the import of Matplotlib and to better support multiprocessing.\n"
     ]
    }
   ],
   "source": [
    "import pandas as pd\n",
    "import matplotlib.pyplot as plt\n",
    "\n",
    "from pyspark.ml.stat import Correlation\n",
    "from pyspark.ml.feature import VectorAssembler\n",
    "from pyspark.ml.feature import Imputer\n",
    "from pyspark.sql import SparkSession\n",
    "from pyspark.sql.types import StructType, StructField, StringType, IntegerType, DateType, ByteType, LongType, FloatType, ShortType\n",
    "from pyspark.sql.functions import col, sum as spark_sum"
   ]
  },
  {
   "cell_type": "markdown",
   "id": "81025ff1-9dae-4f7a-857e-90a64d6e4179",
   "metadata": {},
   "source": [
    "### Initialize Spark Session"
   ]
  },
  {
   "cell_type": "code",
   "execution_count": 2,
   "id": "cf8b391c-8562-45da-984f-f50a7ec876ec",
   "metadata": {},
<<<<<<< HEAD
   "outputs": [],
=======
   "outputs": [
    {
     "name": "stderr",
     "output_type": "stream",
     "text": [
      "24/05/05 17:20:08 WARN Utils: Your hostname, MacBook-Pro.local resolves to a loopback address: 127.0.0.1; using 192.168.1.105 instead (on interface en0)\n",
      "24/05/05 17:20:08 WARN Utils: Set SPARK_LOCAL_IP if you need to bind to another address\n",
      "Setting default log level to \"WARN\".\n",
      "To adjust logging level use sc.setLogLevel(newLevel). For SparkR, use setLogLevel(newLevel).\n",
      "24/05/05 17:20:09 WARN NativeCodeLoader: Unable to load native-hadoop library for your platform... using builtin-java classes where applicable\n"
     ]
    }
   ],
>>>>>>> a8900ca26a2a2716469ad5e18885a33aeed7123b
   "source": [
    "spark = SparkSession.builder \\\n",
    "    .config(\"spark.driver.memory\", \"10g\") \\\n",
    "\t.config(\"spark.executor.memory\", \"2g\") \\\n",
    "    .config('spark.executor.instances', 5) \\\n",
    "\t.config(\"spark.sql.debug.maxToStringFields\", \"100\")\\\n",
    "    .appName(\"Flood Data\") \\\n",
    "\t.getOrCreate()"
   ]
  },
  {
   "cell_type": "markdown",
   "id": "7918cf43-bfd7-44fd-b72a-ae3fa6b39772",
   "metadata": {},
   "source": [
    "### Load data to Spark dataframe; Infer Schema"
   ]
  },
  {
   "cell_type": "code",
   "execution_count": 3,
   "id": "591ba87c-16da-4351-aa84-0c05d5d85139",
   "metadata": {},
   "outputs": [],
   "source": [
    "#path to data \n",
    "data_path = \"./NFIP/nfip-flood-policies.csv\"\n",
    "\n",
    "df = spark.read.option(\"header\",\"true\").option(\"inferSchema\",\"true\").csv(data_path)"
   ]
  },
  {
   "cell_type": "markdown",
   "id": "e1c74f6e-4b75-4be6-b2a9-8ed7c76216c0",
   "metadata": {},
   "source": [
    "## Perform the Data Exploration\n",
    "Below is the outline of the Data Exploration Section:\n",
    "- Print Schema\n",
    "- Column Description\n",
    "- Display the Number of Variables (Columnns)\n",
    "- Show the First Few Rows\n",
    "- Display Number of Observations\n",
    "- Missing Values in the Dataframe\n",
    "- Statistics Summary and Data Distribution\n",
    "- Correlations Among Variables\n",
    "- Scatterplots"
   ]
  },
  {
   "cell_type": "markdown",
   "id": "327c2c7c",
   "metadata": {},
   "source": [
    "### Print Schema\n",
    "\n",
    "Understanding the structure of data (column names and types) is crucial."
   ]
  },
  {
   "cell_type": "code",
   "execution_count": 4,
   "id": "55d45cb2-cccb-43e1-bfba-809b1aa61897",
   "metadata": {
    "scrolled": true
   },
   "outputs": [
    {
     "name": "stdout",
     "output_type": "stream",
     "text": [
      "root\n",
      " |-- agriculturestructureindicator: string (nullable = true)\n",
      " |-- basefloodelevation: double (nullable = true)\n",
      " |-- basementenclosurecrawlspacetype: integer (nullable = true)\n",
      " |-- cancellationdateoffloodpolicy: date (nullable = true)\n",
      " |-- censustract: long (nullable = true)\n",
      " |-- condominiumindicator: string (nullable = true)\n",
      " |-- construction: string (nullable = true)\n",
      " |-- countycode: integer (nullable = true)\n",
      " |-- crsdiscount: double (nullable = true)\n",
      " |-- deductibleamountinbuildingcoverage: string (nullable = true)\n",
      " |-- deductibleamountincontentscoverage: string (nullable = true)\n",
      " |-- elevatedbuildingindicator: string (nullable = true)\n",
      " |-- elevationcertificateindicator: string (nullable = true)\n",
      " |-- elevationdifference: integer (nullable = true)\n",
      " |-- federalpolicyfee: integer (nullable = true)\n",
      " |-- floodzone: string (nullable = true)\n",
      " |-- hfiaasurcharge: integer (nullable = true)\n",
      " |-- houseofworshipindicator: string (nullable = true)\n",
      " |-- latitude: double (nullable = true)\n",
      " |-- locationofcontents: string (nullable = true)\n",
      " |-- longitude: double (nullable = true)\n",
      " |-- lowestadjacentgrade: double (nullable = true)\n",
      " |-- lowestfloorelevation: double (nullable = true)\n",
      " |-- nonprofitindicator: string (nullable = true)\n",
      " |-- numberoffloorsininsuredbuilding: integer (nullable = true)\n",
      " |-- obstructiontype: string (nullable = true)\n",
      " |-- occupancytype: integer (nullable = true)\n",
      " |-- originalconstructiondate: date (nullable = true)\n",
      " |-- originalnbdate: date (nullable = true)\n",
      " |-- policycost: integer (nullable = true)\n",
      " |-- policycount: integer (nullable = true)\n",
      " |-- policyeffectivedate: date (nullable = true)\n",
      " |-- policyterminationdate: date (nullable = true)\n",
      " |-- policytermindicator: integer (nullable = true)\n",
      " |-- postfirmconstructionindicator: string (nullable = true)\n",
      " |-- primaryresidenceindicator: string (nullable = true)\n",
      " |-- propertystate: string (nullable = true)\n",
      " |-- reportedzipcode: string (nullable = true)\n",
      " |-- ratemethod: string (nullable = true)\n",
      " |-- regularemergencyprogramindicator: string (nullable = true)\n",
      " |-- reportedcity: string (nullable = true)\n",
      " |-- smallbusinessindicatorbuilding: string (nullable = true)\n",
      " |-- totalbuildinginsurancecoverage: integer (nullable = true)\n",
      " |-- totalcontentsinsurancecoverage: integer (nullable = true)\n",
      " |-- totalinsurancepremiumofthepolicy: integer (nullable = true)\n",
      "\n"
     ]
    }
   ],
   "source": [
    "df.printSchema()"
   ]
  },
  {
   "cell_type": "markdown",
   "id": "06482799",
   "metadata": {},
   "source": [
    "### Column Description"
   ]
  },
  {
   "attachments": {},
   "cell_type": "markdown",
   "id": "413a5dbb",
   "metadata": {},
   "source": [
    "**Description of the columns from the FEMA's National Flood Insurance Policy Database, grouped by their data types and purpose:**\n",
    "\n",
    "**Geographic and Location Details**\n",
    "- **censustract (long):** Census tract number indicating the specific area where the property is located, used for demographic analysis.\n",
    "- **countycode (integer):** Numeric code representing the county in which the property is insured.\n",
    "- **floodzone (string):** Designation of the flood zone according to FEMA's mapping, crucial for assessing the property's flood risk.\n",
    "- **latitude (double), longitude (double):** Geographic coordinates specifying the precise location of the property.\n",
    "- **propertystate (string):** The U.S. state where the property is located.\n",
    "- **reportedcity (string):** The city reported for the insured property.\n",
    "- **reportedzipcode (integer):** Zip code where the property is situated, used for localizing insurance coverage and risk.\n",
    "\n",
    "**Property and Construction Details**\n",
    "- **agriculturestructureindicator (string):** Indicates whether the property is used for agricultural purposes.\n",
    "- **basementenclosurecrawlspacetype (integer):** Type of basement or crawlspace present at the property, affecting flood risk assessment.\n",
    "- **construction (string):** Describes the type of construction materials and methods used, which can affect the property's vulnerability to flood damage.\n",
    "- **numberoffloorsininsuredbuilding (integer):** Total floors in the insured building, important for determining potential flood damage and insurance coverage needs.\n",
    "- **elevatedbuildingindicator (string):** Indicates whether the building is elevated, a key factor in reducing flood risk.\n",
    "\n",
    "**Policy Details**\n",
    "- **policycost (integer):** The total cost of the flood insurance policy.\n",
    "- **policycount (integer):** The number of policies associated with a single property or account.\n",
    "- **policyeffectivedate (date), policyterminationdate (date):** Start and end dates of the flood insurance coverage.\n",
    "- **totalbuildinginsurancecoverage (integer), totalcontentsinsurancecoverage (integer):** The amount of insurance coverage for the building and its contents, respectively.\n",
    "- **totalinsurancepremiumofthepolicy (integer):** Total premium amount for the flood insurance policy.\n",
    "\n",
    "**Flood Risk Assessment Specifics**\n",
    "- **basefloodelevation (double):** The base flood elevation expected for a particular area, critical for understanding flood risk levels.\n",
    "- **elevationcertificateindicator (string), elevationdifference (integer):** Presence of an elevation certificate and the difference in elevation, respectively, both crucial for assessing compliance with floodplain management.\n",
    "- **lowestadjacentgrade (double), lowestfloorelevation (double):** Measures of elevation that help determine the property's flood exposure.\n",
    "\n",
    "**Insurance Policy Features**\n",
    "- **crsdiscount (double):** Community Rating System discount applied to the policy, which can reduce insurance premiums based on community flood preparedness.\n",
    "- **deductibleamountinbuildingcoverage (integer), deductibleamountincontentscoverage (integer):** Deductible amounts for building and contents coverage, influencing out-of-pocket costs after a flood.\n",
    "- **hfiaasurcharge (integer):** Surcharge applied under the Homeowner Flood Insurance Affordability Act.\n",
    "- **federalpolicyfee (integer):** A fee associated with the federal policy governing flood insurance.\n",
    "\n",
    "**Special Indicators**\n",
    "- **condominiumindicator (string), primaryresidenceindicator (string):** Indicate whether the insured property is a condominium or the primary residence of the owner.\n",
    "- **houseofworshipindicator (string), nonprofitindicator (string):** Indicators of whether the property is used as a house of worship or is owned by a nonprofit organization, affecting policy terms and possibly qualifying for special considerations.\n",
    "- **postfirmconstructionindicator (string):** Indicates if the building was constructed after the community's first Flood Insurance Rate Map was issued, which can affect insurance rates.\n",
    "- **smallbusinessindicatorbuilding (string):** Indicates whether the insured building is used for small business purposes.\n",
    "\n",
    "**Additional Policy and Coverage Information**\n",
    "- **originalconstructiondate (date), originalnbdate (date):** Dates of original construction and the building's initial notebook entry, important for historical property assessments.\n",
    "- **cancellationdateoffloodpolicy (date):** Date when the flood policy was cancelled, if applicable.\n",
    "- **regularemergencyprogramindicator (string):** Indicates the type of FEMA program under which the policy is covered, distinguishing between regular and emergency management programs.\n",
    "- **ratemethod (integer):** Describes the method used to calculate the insurance rate, impacting how premiums are determined.\n",
    "- **locationofcontents (string):** Specifies where within the property the insured contents are located, relevant for claims and risk assessments."
   ]
  },
  {
   "cell_type": "markdown",
   "id": "79314eec",
   "metadata": {},
   "source": [
    "### Display number of Variables (Columns)\n"
   ]
  },
  {
   "cell_type": "code",
   "execution_count": 5,
   "id": "2067f5ad-5bd4-4c10-920e-554682945ac5",
   "metadata": {},
   "outputs": [
    {
     "name": "stdout",
     "output_type": "stream",
     "text": [
      "Number of Columns: 45\n"
     ]
    }
   ],
   "source": [
    "num_variables = len(df.columns)\n",
    "print(\"Number of Columns:\", num_variables)"
   ]
  },
  {
   "cell_type": "markdown",
   "id": "de894071",
   "metadata": {},
   "source": [
    "### Show the First Few Rows"
   ]
  },
  {
   "cell_type": "code",
   "execution_count": 6,
   "id": "1cc644f3-a9f6-4f22-8b3b-eee3f90b4e3e",
   "metadata": {
    "scrolled": true
   },
   "outputs": [
    {
     "name": "stdout",
     "output_type": "stream",
     "text": [
      "-RECORD 0--------------------------------------------------\n",
      " agriculturestructureindicator      | NULL                 \n",
      " basefloodelevation                 | NULL                 \n",
      " basementenclosurecrawlspacetype    | 2                    \n",
      " cancellationdateoffloodpolicy      | NULL                 \n",
      " censustract                        | 33013038500          \n",
      " condominiumindicator               | N                    \n",
      " construction                       | N                    \n",
      " countycode                         | 33013                \n",
      " crsdiscount                        | 0.0                  \n",
      " deductibleamountinbuildingcoverage | 0                    \n",
      " deductibleamountincontentscoverage | 0                    \n",
      " elevatedbuildingindicator          | N                    \n",
      " elevationcertificateindicator      | NULL                 \n",
      " elevationdifference                | 999                  \n",
      " federalpolicyfee                   | 13                   \n",
      " floodzone                          | X                    \n",
      " hfiaasurcharge                     | 0                    \n",
      " houseofworshipindicator            | NULL                 \n",
      " latitude                           | 43.3                 \n",
      " locationofcontents                 | Basement/Enclosur... \n",
      " longitude                          | -71.8                \n",
      " lowestadjacentgrade                | NULL                 \n",
      " lowestfloorelevation               | NULL                 \n",
      " nonprofitindicator                 | NULL                 \n",
      " numberoffloorsininsuredbuilding    | 2                    \n",
      " obstructiontype                    | NULL                 \n",
      " occupancytype                      | 1                    \n",
      " originalconstructiondate           | 1974-12-30           \n",
      " originalnbdate                     | 2008-08-19           \n",
      " policycost                         | 388                  \n",
      " policycount                        | 1                    \n",
      " policyeffectivedate                | 2009-08-19           \n",
      " policyterminationdate              | 2010-08-19           \n",
      " policytermindicator                | 1                    \n",
      " postfirmconstructionindicator      | N                    \n",
      " primaryresidenceindicator          | Y                    \n",
      " propertystate                      | NH                   \n",
      " reportedzipcode                    | 03278                \n",
      " ratemethod                         | 7                    \n",
      " regularemergencyprogramindicator   | R                    \n",
      " reportedcity                       | WARNER               \n",
      " smallbusinessindicatorbuilding     | NULL                 \n",
      " totalbuildinginsurancecoverage     | 250000               \n",
      " totalcontentsinsurancecoverage     | 100000               \n",
      " totalinsurancepremiumofthepolicy   | 375                  \n",
      "-RECORD 1--------------------------------------------------\n",
      " agriculturestructureindicator      | NULL                 \n",
      " basefloodelevation                 | NULL                 \n",
      " basementenclosurecrawlspacetype    | 0                    \n",
      " cancellationdateoffloodpolicy      | NULL                 \n",
      " censustract                        | 22063040700          \n",
      " condominiumindicator               | N                    \n",
      " construction                       | N                    \n",
      " countycode                         | 22063                \n",
      " crsdiscount                        | 0.05                 \n",
      " deductibleamountinbuildingcoverage | 1                    \n",
      " deductibleamountincontentscoverage | 1                    \n",
      " elevatedbuildingindicator          | N                    \n",
      " elevationcertificateindicator      | NULL                 \n",
      " elevationdifference                | 999                  \n",
      " federalpolicyfee                   | 35                   \n",
      " floodzone                          | AE                   \n",
      " hfiaasurcharge                     | 0                    \n",
      " houseofworshipindicator            | NULL                 \n",
      " latitude                           | 30.5                 \n",
      " locationofcontents                 | Lowest floor only... \n",
      " longitude                          | -91.0                \n",
      " lowestadjacentgrade                | NULL                 \n",
      " lowestfloorelevation               | NULL                 \n",
      " nonprofitindicator                 | NULL                 \n",
      " numberoffloorsininsuredbuilding    | 1                    \n",
      " obstructiontype                    | NULL                 \n",
      " occupancytype                      | 3                    \n",
      " originalconstructiondate           | 1974-07-01           \n",
      " originalnbdate                     | 1997-10-04           \n",
      " policycost                         | 315                  \n",
      " policycount                        | 1                    \n",
      " policyeffectivedate                | 2009-10-04           \n",
      " policyterminationdate              | 2010-10-04           \n",
      " policytermindicator                | 1                    \n",
      " postfirmconstructionindicator      | N                    \n",
      " primaryresidenceindicator          | Y                    \n",
      " propertystate                      | LA                   \n",
      " reportedzipcode                    | 70726                \n",
      " ratemethod                         | 1                    \n",
      " regularemergencyprogramindicator   | R                    \n",
      " reportedcity                       | DENHAM SPRINGS       \n",
      " smallbusinessindicatorbuilding     | NULL                 \n",
      " totalbuildinginsurancecoverage     | 16400                \n",
      " totalcontentsinsurancecoverage     | 8800                 \n",
      " totalinsurancepremiumofthepolicy   | 280                  \n",
      "-RECORD 2--------------------------------------------------\n",
      " agriculturestructureindicator      | NULL                 \n",
      " basefloodelevation                 | NULL                 \n",
      " basementenclosurecrawlspacetype    | 0                    \n",
      " cancellationdateoffloodpolicy      | NULL                 \n",
      " censustract                        | 45051060204          \n",
      " condominiumindicator               | N                    \n",
      " construction                       | N                    \n",
      " countycode                         | 45051                \n",
      " crsdiscount                        | 0.0                  \n",
      " deductibleamountinbuildingcoverage | 0                    \n",
      " deductibleamountincontentscoverage | 0                    \n",
      " elevatedbuildingindicator          | N                    \n",
      " elevationcertificateindicator      | 1                    \n",
      " elevationdifference                | 999                  \n",
      " federalpolicyfee                   | 13                   \n",
      " floodzone                          | X                    \n",
      " hfiaasurcharge                     | 0                    \n",
      " houseofworshipindicator            | NULL                 \n",
      " latitude                           | 33.7                 \n",
      " locationofcontents                 | Lowest floor only... \n",
      " longitude                          | -79.0                \n",
      " lowestadjacentgrade                | NULL                 \n",
      " lowestfloorelevation               | NULL                 \n",
      " nonprofitindicator                 | NULL                 \n",
      " numberoffloorsininsuredbuilding    | 1                    \n",
      " obstructiontype                    | NULL                 \n",
      " occupancytype                      | 1                    \n",
      " originalconstructiondate           | 2003-07-01           \n",
      " originalnbdate                     | 2005-08-13           \n",
      " policycost                         | 348                  \n",
      " policycount                        | 1                    \n",
      " policyeffectivedate                | 2009-08-13           \n",
      " policyterminationdate              | 2010-08-13           \n",
      " policytermindicator                | 1                    \n",
      " postfirmconstructionindicator      | Y                    \n",
      " primaryresidenceindicator          | Y                    \n",
      " propertystate                      | SC                   \n",
      " reportedzipcode                    | 29579                \n",
      " ratemethod                         | 7                    \n",
      " regularemergencyprogramindicator   | R                    \n",
      " reportedcity                       | MYRTLE BEACH         \n",
      " smallbusinessindicatorbuilding     | NULL                 \n",
      " totalbuildinginsurancecoverage     | 250000               \n",
      " totalcontentsinsurancecoverage     | 100000               \n",
      " totalinsurancepremiumofthepolicy   | 335                  \n",
      "-RECORD 3--------------------------------------------------\n",
      " agriculturestructureindicator      | NULL                 \n",
      " basefloodelevation                 | 519.0                \n",
      " basementenclosurecrawlspacetype    | 2                    \n",
      " cancellationdateoffloodpolicy      | 2016-04-01           \n",
      " censustract                        | 1055001200           \n",
      " condominiumindicator               | N                    \n",
      " construction                       | N                    \n",
      " countycode                         | 1055                 \n",
      " crsdiscount                        | 0.0                  \n",
      " deductibleamountinbuildingcoverage | 1                    \n",
      " deductibleamountincontentscoverage | 1                    \n",
      " elevatedbuildingindicator          | Y                    \n",
      " elevationcertificateindicator      | NULL                 \n",
      " elevationdifference                | -2                   \n",
      " federalpolicyfee                   | 35                   \n",
      " floodzone                          | AE                   \n",
      " hfiaasurcharge                     | 0                    \n",
      " houseofworshipindicator            | NULL                 \n",
      " latitude                           | 34.0                 \n",
      " locationofcontents                 | NULL                 \n",
      " longitude                          | -86.0                \n",
      " lowestadjacentgrade                | 517.3                \n",
      " lowestfloorelevation               | 517.3                \n",
      " nonprofitindicator                 | NULL                 \n",
      " numberoffloorsininsuredbuilding    | 3                    \n",
      " obstructiontype                    | 50                   \n",
      " occupancytype                      | 1                    \n",
      " originalconstructiondate           | 1989-01-01           \n",
      " originalnbdate                     | 2006-04-14           \n",
      " policycost                         | 951                  \n",
      " policycount                        | 1                    \n",
      " policyeffectivedate                | 2009-04-14           \n",
      " policyterminationdate              | 2010-04-14           \n",
      " policytermindicator                | 1                    \n",
      " postfirmconstructionindicator      | Y                    \n",
      " primaryresidenceindicator          | Y                    \n",
      " propertystate                      | AL                   \n",
      " reportedzipcode                    | 35901                \n",
      " ratemethod                         | 2                    \n",
      " regularemergencyprogramindicator   | R                    \n",
      " reportedcity                       | GADSDEN              \n",
      " smallbusinessindicatorbuilding     | NULL                 \n",
      " totalbuildinginsurancecoverage     | 174900               \n",
      " totalcontentsinsurancecoverage     | 21000                \n",
      " totalinsurancepremiumofthepolicy   | 916                  \n",
      "-RECORD 4--------------------------------------------------\n",
      " agriculturestructureindicator      | NULL                 \n",
      " basefloodelevation                 | 7.0                  \n",
      " basementenclosurecrawlspacetype    | 0                    \n",
      " cancellationdateoffloodpolicy      | NULL                 \n",
      " censustract                        | 12086000115          \n",
      " condominiumindicator               | N                    \n",
      " construction                       | N                    \n",
      " countycode                         | 12086                \n",
      " crsdiscount                        | 0.0                  \n",
      " deductibleamountinbuildingcoverage | 0                    \n",
      " deductibleamountincontentscoverage | 0                    \n",
      " elevatedbuildingindicator          | N                    \n",
      " elevationcertificateindicator      | 3                    \n",
      " elevationdifference                | 0                    \n",
      " federalpolicyfee                   | 35                   \n",
      " floodzone                          | A10                  \n",
      " hfiaasurcharge                     | 0                    \n",
      " houseofworshipindicator            | NULL                 \n",
      " latitude                           | 26.0                 \n",
      " locationofcontents                 | Lowest floor only... \n",
      " longitude                          | -80.1                \n",
      " lowestadjacentgrade                | NULL                 \n",
      " lowestfloorelevation               | 6.9                  \n",
      " nonprofitindicator                 | NULL                 \n",
      " numberoffloorsininsuredbuilding    | 1                    \n",
      " obstructiontype                    | NULL                 \n",
      " occupancytype                      | 1                    \n",
      " originalconstructiondate           | 1957-07-01           \n",
      " originalnbdate                     | 1996-04-04           \n",
      " policycost                         | 1323                 \n",
      " policycount                        | 1                    \n",
      " policyeffectivedate                | 2009-04-04           \n",
      " policyterminationdate              | 2010-04-04           \n",
      " policytermindicator                | 1                    \n",
      " postfirmconstructionindicator      | N                    \n",
      " primaryresidenceindicator          | Y                    \n",
      " propertystate                      | FL                   \n",
      " reportedzipcode                    | 33160                \n",
      " ratemethod                         | 1                    \n",
      " regularemergencyprogramindicator   | R                    \n",
      " reportedcity                       | GOLDEN BEACH         \n",
      " smallbusinessindicatorbuilding     | NULL                 \n",
      " totalbuildinginsurancecoverage     | 250000               \n",
      " totalcontentsinsurancecoverage     | 100000               \n",
      " totalinsurancepremiumofthepolicy   | 1288                 \n",
      "only showing top 5 rows\n",
      "\n"
     ]
    }
   ],
   "source": [
    "df.show(5,vertical=True)"
   ]
  },
  {
   "cell_type": "markdown",
   "id": "3541ea90",
   "metadata": {},
   "source": [
    "### Display Number of Observations"
   ]
  },
  {
   "cell_type": "code",
   "execution_count": 7,
   "id": "0f37f095-f79b-47a4-9761-6a0a220ffa77",
   "metadata": {},
   "outputs": [
    {
     "data": {
      "text/plain": [
       "50406943"
      ]
     },
     "execution_count": 7,
     "metadata": {},
     "output_type": "execute_result"
    }
   ],
   "source": [
    "df.count()"
   ]
  },
  {
   "cell_type": "markdown",
   "id": "aa4ea34b",
   "metadata": {},
   "source": [
    "FEMA's National Flood Insurance Policy Database, containing over 50 million (50,406,943) policy transactions."
   ]
  },
  {
   "cell_type": "markdown",
   "id": "f46603b6",
   "metadata": {},
   "source": [
    "### Missing Values in the Dataframe"
   ]
  },
  {
   "cell_type": "code",
   "execution_count": 8,
   "id": "46c77deb-7d94-471c-85c3-ceea1fa9ee45",
   "metadata": {},
   "outputs": [],
   "source": [
    "#find number of missing values in the dataframe\n",
    "missing_vals = df.select(*(spark_sum(col(i).isNull().cast(\"int\")).alias(i) for i in df.columns))"
   ]
  },
  {
   "cell_type": "code",
   "execution_count": 9,
   "id": "6554286b-9bcf-4465-964f-f0431fbdb0ab",
   "metadata": {},
   "outputs": [
    {
     "name": "stdout",
     "output_type": "stream",
     "text": [
      "-RECORD 0--------------------------------------\n",
      " agriculturestructureindicator      | 38923313 \n",
      " basefloodelevation                 | 33636759 \n",
      " basementenclosurecrawlspacetype    | 802      \n",
      " cancellationdateoffloodpolicy      | 43614057 \n",
      " censustract                        | 467119   \n",
      " condominiumindicator               | 6        \n",
      " construction                       | 13       \n",
      " countycode                         | 48999    \n",
      " crsdiscount                        | 0        \n",
      " deductibleamountinbuildingcoverage | 661993   \n",
      " deductibleamountincontentscoverage | 5561584  \n",
      " elevatedbuildingindicator          | 258      \n",
      " elevationcertificateindicator      | 32606397 \n",
      " elevationdifference                | 0        \n",
      " federalpolicyfee                   | 0        \n",
      " floodzone                          | 169145   \n",
      " hfiaasurcharge                     | 0        \n",
      " houseofworshipindicator            | 34476251 \n",
      " latitude                           | 338699   \n",
      " locationofcontents                 | 15389767 \n",
      " longitude                          | 338699   \n",
      " lowestadjacentgrade                | 34940579 \n",
      " lowestfloorelevation               | 33060602 \n",
      " nonprofitindicator                 | 34493094 \n",
      " numberoffloorsininsuredbuilding    | 162301   \n",
      " obstructiontype                    | 40629070 \n",
      " occupancytype                      | 6        \n",
      " originalconstructiondate           | 180318   \n",
      " originalnbdate                     | 0        \n",
      " policycost                         | 0        \n",
      " policycount                        | 0        \n",
      " policyeffectivedate                | 0        \n",
      " policyterminationdate              | 0        \n",
      " policytermindicator                | 3        \n",
      " postfirmconstructionindicator      | 180276   \n",
      " primaryresidenceindicator          | 21884    \n",
      " propertystate                      | 0        \n",
      " reportedzipcode                    | 7        \n",
      " ratemethod                         | 902967   \n",
      " regularemergencyprogramindicator   | 2        \n",
      " reportedcity                       | 2        \n",
      " smallbusinessindicatorbuilding     | 33451148 \n",
      " totalbuildinginsurancecoverage     | 0        \n",
      " totalcontentsinsurancecoverage     | 0        \n",
      " totalinsurancepremiumofthepolicy   | 0        \n",
      "\n"
     ]
    }
   ],
   "source": [
    "missing_vals.show(vertical= True)"
   ]
  },
  {
   "cell_type": "markdown",
   "id": "c81c68f1",
   "metadata": {},
   "source": [
    "**Here's a description of the missing value situation in the FEMA Flood Insurance Policy Database:** [NEED TO FIX THIS]\n",
    "\n",
    "1. **High Missing Values:**\n",
    "- **Base Flood Elevation, Latitude, Longitude, Lowest Adjacent Grade, Lowest Floor Elevation:** These fields each have around 50,406,943 missing values. This suggests a significant lack of geographic and elevation data, which are critical in flood insurance calculations.\n",
    "- **Elevation Certificate Indicator, Elevation Difference:** Both fields are missing approximately 32,806,397 and 32,897,994 values respectively, indicating that elevation certificates, which are vital for verifying compliance with floodplain management regulations, are largely absent.\n",
    "- **Obstruction Type:** Missing around 40,793,526 values, indicating that details about obstructions which can affect flood risk assessments are predominantly not reported.\n",
    "- **House of Worship Indicator, Nonprofit Indicator:** Each has over 34,476,251 and 34,493,094 missing entries respectively, indicating a lack of identification of these property types, which might have different considerations in policy terms.\n",
    "\n",
    "2. **Moderate Missing Values:**\n",
    "- **Deductible Amount in Building Coverage, Deductible Amount in Contents Coverage:** Missing 15,649,149 and 18,265,104 values respectively, which implies incomplete data on policy deductibles that could affect premium calculations and risk assessments.\n",
    "- **Location of Contents:** With 15,389,767 missing entries, there's substantial missing information on where contents are located within the insured buildings, which is vital for damage assessments.\n",
    "\n",
    "3. **Low Missing Values:**\n",
    "- **Census Tract, Flood Zone:** Missing 467,119 and 169,145 entries respectively. Although relatively lower, these still represent significant gaps, especially as these fields are crucial for location-specific risk assessment.\n",
    "- **Number of Floors in Insured Building:** Missing data on 162,301 entries could affect understanding building structure and associated risk.\n",
    "\n",
    "4. **Minimal to No Missing Values:**\n",
    "- Fields like **CRS Discount, Federal Policy Fee**, and various policy-related dates (effectiveness, termination) and costs show zero missing values, indicating complete data in terms of policy transaction details.\n",
    "- Similarly, **County Code, Construction, Condominium Indicator, Occupancy Type** show minimal missing data (under 50,000), suggesting good coverage of basic property and policyholder information.\n",
    "\n",
    "Overall, the dataset shows a strong presence of policy and basic property information but suffers from a significant absence of detailed geographic and structural data. This gap in data can hamper effective risk assessment and pricing of flood insurance policies, especially in areas prone to flooding where such data is most critical. Addressing these missing values, either by data imputation where appropriate or by collecting missing data, could significantly enhance the robustness of any analysis or predictive modeling based on this dataset."
   ]
  },
  {
   "cell_type": "markdown",
   "id": "68e0471c",
   "metadata": {},
   "source": [
    "### Statistics Summary and Data Distribution"
   ]
  },
  {
   "cell_type": "code",
<<<<<<< HEAD
   "execution_count": 10,
=======
   "execution_count": 11,
>>>>>>> a8900ca26a2a2716469ad5e18885a33aeed7123b
   "id": "8760f304",
   "metadata": {},
   "outputs": [
    {
<<<<<<< HEAD
=======
     "name": "stderr",
     "output_type": "stream",
     "text": [
      "24/05/05 17:29:34 WARN SparkStringUtils: Truncated the string representation of a plan since it was too large. This behavior can be adjusted by setting 'spark.sql.debug.maxToStringFields'.\n",
      "[Stage 9:>                                                          (0 + 1) / 1]\r"
     ]
    },
    {
>>>>>>> a8900ca26a2a2716469ad5e18885a33aeed7123b
     "name": "stdout",
     "output_type": "stream",
     "text": [
      "-RECORD 0------------------------------------------------\n",
      " summary                          | count                \n",
      " basefloodelevation               | 16770184             \n",
      " basementenclosurecrawlspacetype  | 50406141             \n",
      " censustract                      | 49939824             \n",
      " countycode                       | 50357944             \n",
      " crsdiscount                      | 50406943             \n",
      " elevationdifference              | 50406943             \n",
      " federalpolicyfee                 | 50406943             \n",
      " hfiaasurcharge                   | 50406943             \n",
      " latitude                         | 50068244             \n",
      " longitude                        | 50068244             \n",
      " lowestadjacentgrade              | 15466364             \n",
      " lowestfloorelevation             | 17346341             \n",
      " numberoffloorsininsuredbuilding  | 50244642             \n",
      " occupancytype                    | 50406937             \n",
      " policycost                       | 50406943             \n",
      " policycount                      | 50406943             \n",
      " policytermindicator              | 50406940             \n",
      " totalbuildinginsurancecoverage   | 50406943             \n",
      " totalcontentsinsurancecoverage   | 50406943             \n",
      " totalinsurancepremiumofthepolicy | 50406943             \n",
      "-RECORD 1------------------------------------------------\n",
      " summary                          | mean                 \n",
      " basefloodelevation               | 119.46875184553842   \n",
      " basementenclosurecrawlspacetype  | 0.37034783122953213  \n",
      " censustract                      | 2.600713413696665E10 \n",
      " countycode                       | 26131.694903946038   \n",
      " crsdiscount                      | 0.0638045804523593   \n",
      " elevationdifference              | 652.7287821044811    \n",
      " federalpolicyfee                 | 37.28163846397113    \n",
      " hfiaasurcharge                   | 35.978938476788805   \n",
      " latitude                         | 32.56980881534298    \n",
      " longitude                        | -87.84068065981351   \n",
      " lowestadjacentgrade              | 129.1970600006573    \n",
      " lowestfloorelevation             | 385.6220114835789    \n",
      " numberoffloorsininsuredbuilding  | 1.6506924061674078   \n",
      " occupancytype                    | 1.3606187576920217   \n",
      " policycost                       | 912.2705097787818    \n",
      " policycount                      | 1.2533995961627746   \n",
      " policytermindicator              | 1.0064443507183733   \n",
      " totalbuildinginsurancecoverage   | 237988.65857626003   \n",
      " totalcontentsinsurancecoverage   | 56495.85875104547    \n",
      " totalinsurancepremiumofthepolicy | 782.522127437881     \n",
      "-RECORD 2------------------------------------------------\n",
      " summary                          | stddev               \n",
      " basefloodelevation               | 522.4923899327453    \n",
      " basementenclosurecrawlspacetype  | 0.8565172820726049   \n",
      " censustract                      | 1.57505783815547E10  \n",
      " countycode                       | 15890.818432604121   \n",
      " crsdiscount                      | 0.09100289197081944  \n",
      " elevationdifference              | 477.66093269871527   \n",
      " federalpolicyfee                 | 74.43304422666706    \n",
      " hfiaasurcharge                   | 79.39438961634104    \n",
      " latitude                         | 5.783491098896586    \n",
      " longitude                        | 13.358819579013812   \n",
      " lowestadjacentgrade              | 609.9164851452954    \n",
      " lowestfloorelevation             | 1676.4233283396445   \n",
      " numberoffloorsininsuredbuilding  | 0.8270384564297135   \n",
      " occupancytype                    | 0.9757148873746709   \n",
      " policycost                       | 1808.6990867989805   \n",
      " policycount                      | 5.098220813627468    \n",
      " policytermindicator              | 0.11354681866145568  \n",
      " totalbuildinginsurancecoverage   | 1004615.9070116358   \n",
      " totalcontentsinsurancecoverage   | 59525.97385845581    \n",
      " totalinsurancepremiumofthepolicy | 1649.2813681763807   \n",
      "-RECORD 3------------------------------------------------\n",
      " summary                          | min                  \n",
      " basefloodelevation               | -9999.0              \n",
      " basementenclosurecrawlspacetype  | 0                    \n",
      " censustract                      | 1003                 \n",
      " countycode                       | 1001                 \n",
      " crsdiscount                      | 0.0                  \n",
      " elevationdifference              | -9995                \n",
      " federalpolicyfee                 | -1600                \n",
      " hfiaasurcharge                   | -500                 \n",
      " latitude                         | -14.3                \n",
      " longitude                        | -170.7               \n",
      " lowestadjacentgrade              | -9999.9              \n",
      " lowestfloorelevation             | -9997.9              \n",
      " numberoffloorsininsuredbuilding  | 1                    \n",
      " occupancytype                    | 1                    \n",
      " policycost                       | -8731                \n",
      " policycount                      | 1                    \n",
      " policytermindicator              | 1                    \n",
      " totalbuildinginsurancecoverage   | 0                    \n",
      " totalcontentsinsurancecoverage   | 0                    \n",
      " totalinsurancepremiumofthepolicy | -5928                \n",
      "-RECORD 4------------------------------------------------\n",
      " summary                          | max                  \n",
      " basefloodelevation               | 85640.0              \n",
      " basementenclosurecrawlspacetype  | 4                    \n",
      " censustract                      | 78030961200          \n",
      " countycode                       | 78030                \n",
      " crsdiscount                      | 0.45                 \n",
      " elevationdifference              | 9998                 \n",
      " federalpolicyfee                 | 4000                 \n",
      " hfiaasurcharge                   | 2575                 \n",
      " latitude                         | 69.9                 \n",
      " longitude                        | 145.8                \n",
      " lowestadjacentgrade              | 99990.9              \n",
      " lowestfloorelevation             | 99989.0              \n",
      " numberoffloorsininsuredbuilding  | 6                    \n",
      " occupancytype                    | 6                    \n",
      " policycost                       | 1115140              \n",
      " policycount                      | 1203                 \n",
      " policytermindicator              | 9                    \n",
      " totalbuildinginsurancecoverage   | 249750000            \n",
      " totalcontentsinsurancecoverage   | 6000000              \n",
      " totalinsurancepremiumofthepolicy | 1061158              \n",
      "\n"
     ]
    }
   ],
   "source": [
    "numerical_columns = [col_name for col_name, data_type in df.dtypes if data_type in [\"int\", \"bigint\", \"double\"]]\n",
    "\n",
    "# Select only numerical columns\n",
    "numerical_df = df.select(*numerical_columns)\n",
    "\n",
    "# Generate summary statistics\n",
    "summary_stats = numerical_df.describe()\n",
    "\n",
    "# Show summary statistics\n",
    "summary_stats.show(vertical = True)"
   ]
  },
  {
   "cell_type": "markdown",
   "id": "a7e1b200",
   "metadata": {},
   "source": [
    "The summary statistics for the FEMA National Flood Insurance Policy Database provide a comprehensive overview of various policy and property-related numerical attributes. These statistics include measures of central tendency, dispersion, and range, all of which are critical for understanding the distribution and potential data quality issues within the dataset. Below is a detailed analysis of the key statistical summaries:\n",
    "\n",
    "**Central Tendency and Dispersion**\n",
    "1. **Base Flood Elevation:**\n",
    "- Average (Mean): 119.47 ft.\n",
    "- Standard Deviation: 522.49 ft.\n",
    "- Range: -9999 - 85,640 ft.\n",
    "2. **Lowest Adjacent Grade:**\n",
    "- Average (Mean): 129.20 ft.\n",
    "- Standard Deviation: 609.92 ft.\n",
    "- Range: -9,999 - 99,990.9 ft.\n",
    "3. **Lowest Floor Elevation:**\n",
    "- Average (Mean): 385.62 ft.\n",
    "- Standard Deviation: 1,676.42 ft.\n",
    "- Range: -9,997.9 - 99,989 ft.\n",
    "4. **Basement Enclosure Crawl Space Type:**\n",
    "- Average (Mean): 0.37, indicating a slight bias towards lower classifications.\n",
    "- Standard Deviation: 0.86, showing moderate variability within the data.\n",
    "- Range: Min 0 to Max 4, spanning several classification levels.\n",
    "5. **Census Tract:**\n",
    "- Average (Mean): Approximately 2.6 x 10¹⁰.\n",
    "- Standard Deviation: About 1.58 x 10¹⁰, suggesting a wide spread across census tracts.\n",
    "6. **CRS Discount:**\n",
    "- Average: 0.064, typically low across the dataset.\n",
    "- Standard Deviation: 0.091, with most data points close to zero but some higher values.\n",
    "7. **Deductible Amount in Building and Contents Coverage:**\n",
    "- Building Coverage Average: 1.66 with a deviation of 1.46.\n",
    "- Contents Coverage Average: 0.98 with a deviation of 1.05.\n",
    "- Both show low average deductible amounts but with notable variation.\n",
    "8. **Elevation Difference:**\n",
    "- Average: 1.69, indicating minor differences in elevation on average.\n",
    "- Standard Deviation: 3.39, suggesting significant outliers affecting the elevation difference.\n",
    "9. **Policy Related Figures (Policy Cost, Policy Count, Total Insurance Coverage, etc.):**\n",
    "- These values have a high mean and standard deviation, indicating a significant spread in the policy costs and coverages, reflecting diverse insurance policies and property valuations.\n",
    "\n",
    "**Extremes (Minimum and Maximum Values)**\n",
    "- Notable minimums include negative values in **Federal Policy Fee and HFIAA Surcharge**, possibly indicating refunds or adjustments.\n",
    "- The maximum values in **Total Building Insurance Coverage and Total Insurance Premium of the Policy** reach into the hundreds of millions, highlighting cases with exceptionally high insurance coverage.\n",
    "\n",
    "**Implications**\n",
    "The substantial missing data in critical geographical and elevation columns could significantly hinder risk assessment accuracy. The wide variability in policy costs and coverage levels underscores the diverse nature of the insured properties. Accurate and complete data in these fields are crucial for effective risk management and policy pricing in flood insurance.\n",
    "\n",
    "This analysis provides a basis for further data cleaning, particularly in addressing missing values and outliers, which are essential for improving data quality and the reliability of subsequent analyses and decision-making processes based on this dataset."
   ]
  },
  {
   "cell_type": "markdown",
   "id": "f57c08be-71bc-4c28-823e-d1b2537cc6d6",
   "metadata": {},
   "source": [
    "### Correlations Among Variables"
   ]
  },
  {
   "cell_type": "code",
<<<<<<< HEAD
   "execution_count": 11,
=======
   "execution_count": 12,
>>>>>>> a8900ca26a2a2716469ad5e18885a33aeed7123b
   "id": "8de39205-bbba-4da1-8a6a-aa5b67e4855c",
   "metadata": {},
   "outputs": [
    {
     "name": "stdout",
     "output_type": "stream",
     "text": [
      "-RECORD 0---------------------------------------\n",
      " basefloodelevation               | NULL        \n",
      " basementenclosurecrawlspacetype  | 2           \n",
      " censustract                      | 33013038500 \n",
      " countycode                       | 33013       \n",
      " crsdiscount                      | 0.0         \n",
      " elevationdifference              | 999         \n",
      " federalpolicyfee                 | 13          \n",
      " hfiaasurcharge                   | 0           \n",
      " latitude                         | 43.3        \n",
      " longitude                        | -71.8       \n",
      " lowestadjacentgrade              | NULL        \n",
      " lowestfloorelevation             | NULL        \n",
      " numberoffloorsininsuredbuilding  | 2           \n",
      " occupancytype                    | 1           \n",
      " policycost                       | 388         \n",
      " policycount                      | 1           \n",
      " policytermindicator              | 1           \n",
      " totalbuildinginsurancecoverage   | 250000      \n",
      " totalcontentsinsurancecoverage   | 100000      \n",
      " totalinsurancepremiumofthepolicy | 375         \n",
      "-RECORD 1---------------------------------------\n",
      " basefloodelevation               | NULL        \n",
      " basementenclosurecrawlspacetype  | 0           \n",
      " censustract                      | 22063040700 \n",
      " countycode                       | 22063       \n",
      " crsdiscount                      | 0.05        \n",
      " elevationdifference              | 999         \n",
      " federalpolicyfee                 | 35          \n",
      " hfiaasurcharge                   | 0           \n",
      " latitude                         | 30.5        \n",
      " longitude                        | -91.0       \n",
      " lowestadjacentgrade              | NULL        \n",
      " lowestfloorelevation             | NULL        \n",
      " numberoffloorsininsuredbuilding  | 1           \n",
      " occupancytype                    | 3           \n",
      " policycost                       | 315         \n",
      " policycount                      | 1           \n",
      " policytermindicator              | 1           \n",
      " totalbuildinginsurancecoverage   | 16400       \n",
      " totalcontentsinsurancecoverage   | 8800        \n",
      " totalinsurancepremiumofthepolicy | 280         \n",
      "-RECORD 2---------------------------------------\n",
      " basefloodelevation               | NULL        \n",
      " basementenclosurecrawlspacetype  | 0           \n",
      " censustract                      | 45051060204 \n",
      " countycode                       | 45051       \n",
      " crsdiscount                      | 0.0         \n",
      " elevationdifference              | 999         \n",
      " federalpolicyfee                 | 13          \n",
      " hfiaasurcharge                   | 0           \n",
      " latitude                         | 33.7        \n",
      " longitude                        | -79.0       \n",
      " lowestadjacentgrade              | NULL        \n",
      " lowestfloorelevation             | NULL        \n",
      " numberoffloorsininsuredbuilding  | 1           \n",
      " occupancytype                    | 1           \n",
      " policycost                       | 348         \n",
      " policycount                      | 1           \n",
      " policytermindicator              | 1           \n",
      " totalbuildinginsurancecoverage   | 250000      \n",
      " totalcontentsinsurancecoverage   | 100000      \n",
      " totalinsurancepremiumofthepolicy | 335         \n",
      "-RECORD 3---------------------------------------\n",
      " basefloodelevation               | 519.0       \n",
      " basementenclosurecrawlspacetype  | 2           \n",
      " censustract                      | 1055001200  \n",
      " countycode                       | 1055        \n",
      " crsdiscount                      | 0.0         \n",
      " elevationdifference              | -2          \n",
      " federalpolicyfee                 | 35          \n",
      " hfiaasurcharge                   | 0           \n",
      " latitude                         | 34.0        \n",
      " longitude                        | -86.0       \n",
      " lowestadjacentgrade              | 517.3       \n",
      " lowestfloorelevation             | 517.3       \n",
      " numberoffloorsininsuredbuilding  | 3           \n",
      " occupancytype                    | 1           \n",
      " policycost                       | 951         \n",
      " policycount                      | 1           \n",
      " policytermindicator              | 1           \n",
      " totalbuildinginsurancecoverage   | 174900      \n",
      " totalcontentsinsurancecoverage   | 21000       \n",
      " totalinsurancepremiumofthepolicy | 916         \n",
      "-RECORD 4---------------------------------------\n",
      " basefloodelevation               | 7.0         \n",
      " basementenclosurecrawlspacetype  | 0           \n",
      " censustract                      | 12086000115 \n",
      " countycode                       | 12086       \n",
      " crsdiscount                      | 0.0         \n",
      " elevationdifference              | 0           \n",
      " federalpolicyfee                 | 35          \n",
      " hfiaasurcharge                   | 0           \n",
      " latitude                         | 26.0        \n",
      " longitude                        | -80.1       \n",
      " lowestadjacentgrade              | NULL        \n",
      " lowestfloorelevation             | 6.9         \n",
      " numberoffloorsininsuredbuilding  | 1           \n",
      " occupancytype                    | 1           \n",
      " policycost                       | 1323        \n",
      " policycount                      | 1           \n",
      " policytermindicator              | 1           \n",
      " totalbuildinginsurancecoverage   | 250000      \n",
      " totalcontentsinsurancecoverage   | 100000      \n",
      " totalinsurancepremiumofthepolicy | 1288        \n",
      "only showing top 5 rows\n",
      "\n"
     ]
    }
   ],
   "source": [
    "numerical_df.show(5,vertical=True)"
   ]
  },
  {
   "cell_type": "code",
<<<<<<< HEAD
   "execution_count": null,
   "id": "815d99a1-7348-4b2c-a42a-1aee2231685a",
   "metadata": {},
   "outputs": [],
   "source": [
    "#sample_num_df = numerical_df.sample(False, 0.5,seed=42)\n",
    "sample_num_df = numerical_df #.drop('basefloodelevation','latitude','longitude','lowestadjacentgrade','lowestfloorelevation')\n",
    "#sample_num_df = sample_num_df.fillna(0)\n",
    "#sample_num_df = sample_num_df.dropna()\n",
=======
   "execution_count": 13,
   "id": "815d99a1-7348-4b2c-a42a-1aee2231685a",
   "metadata": {},
   "outputs": [
    {
     "name": "stderr",
     "output_type": "stream",
     "text": [
      "                                                                                \r"
     ]
    },
    {
     "data": {
      "text/plain": [
       "DataFrame[features: vector]"
      ]
     },
     "execution_count": 13,
     "metadata": {},
     "output_type": "execute_result"
    }
   ],
   "source": [
    "import pandas as pd\n",
    "\n",
    "\n",
    "num_df_dropped = numerical_df.drop('basefloodelevation','latitude','longitude','lowestadjacentgrade','lowestfloorelevation')\n",
>>>>>>> a8900ca26a2a2716469ad5e18885a33aeed7123b
    "\n",
    "v_col = \"features\"\n",
    "input = num_df_dropped.columns\n",
    "output = [v_col + str(i) for i in range(len(input))]\n",
    "imputer = Imputer(strategy='mean',inputCols=input,outputCols=output)\n",
    "imputed_df = imputer.fit(num_df_dropped).transform(num_df_dropped) \n",
    "\n",
    "assembler = VectorAssembler(inputCols=output,outputCol=v_col)\n",
    "numerical_df_vector = assembler.transform(imputed_df).select(v_col)\n",
    "numerical_df_vector"
   ]
  },
  {
   "cell_type": "code",
<<<<<<< HEAD
   "execution_count": null,
   "id": "24a84814-8007-4d66-9ff1-a65c567c8f06",
   "metadata": {},
   "outputs": [],
=======
   "execution_count": 14,
   "id": "24a84814-8007-4d66-9ff1-a65c567c8f06",
   "metadata": {},
   "outputs": [
    {
     "name": "stderr",
     "output_type": "stream",
     "text": [
      "24/05/05 17:47:01 WARN InstanceBuilder: Failed to load implementation from:dev.ludovic.netlib.blas.JNIBLAS\n",
      "                                                                                \r"
     ]
    },
    {
     "name": "stdout",
     "output_type": "stream",
     "text": [
      "[[1.0, 0.1362390358684549, 0.13222438896911154, -0.13374568394718683, 0.15131028789055212, 0.0015086650337750639, -0.15818683851792784, 0.021515636223077703, 0.039205129679828934, 0.4205917981132782, 0.5982425523315253, -0.06389760287441462, 0.07213744564440353, 0.008797902979000462, -0.024505685578106864, -0.189166248964083, -0.06343028257339024, 0.006946886998778843, -0.09892408517021711, 0.06932592812476271], [0.1362390358684549, 1.0, 0.9861052821687085, -0.23633772584537877, -0.015750279701414523, -0.008547830783034996, -0.02466908457563645, -0.04651095355139787, -0.0017065025678084952, 0.13092070392149213, 0.0376233641808503, -0.021518544770044806, -0.009406725795160387, -0.023542521100064738, 0.03562507918662197, 0.08585317162751505, 0.1268144994695155, -0.02664276057268567, 0.014045383330901507, -0.007888058597759437], [0.13222438896911154, 0.9861052821687085, 1.0, -0.23953380466231308, -0.01666870410289115, -0.009070867940185095, -0.02257988399471824, -0.04591061242264458, -0.0038094031436245878, 0.12667043463679628, 0.03611444575519996, -0.02083336431546968, -0.010202709301517726, -0.023350267827395906, 0.04136907348096719, 0.0728985670372189, 0.1202932130546811, -0.02736003235722579, 0.008361075386161258, -0.008511916163269006], [-0.13374568394718683, -0.23633772584537877, -0.23953380466231308, 1.0, 0.12280136982072969, 0.10083331434329314, 0.14040974889492408, 0.1261809584870922, 0.048954413176472394, -0.06978076131143905, -0.09715089602625691, 0.047011647765207006, 0.06739894223234527, 0.028147108870329614, -0.03970568669785352, -0.13151159218440583, -0.5619767116287031, 0.025212130060008466, -0.14439480599137747, 0.0586387037091923], [0.15131028789055212, -0.015750279701414523, -0.01666870410289115, 0.12280136982072969, 1.0, 0.3407146167352545, -0.06719106139052887, 0.08117076511490492, 0.07186294354886522, 0.07159804189361502, 0.07481425895037858, 0.06397577951896244, 0.18479969508354088, 0.018467592463464324, -0.02060395880836875, -0.030625481540017038, -0.33611131205844874, 0.016131810559082724, -0.23626063338878603, 0.17938866847621046], [0.0015086650337750639, -0.008547830783034996, -0.009070867940185095, 0.10083331434329314, 0.3407146167352545, 1.0, -0.036701609757838975, -0.024219697994916696, -0.09496702038963627, 0.005571434216750373, 0.00850639497863761, -0.005721979660434508, 0.09339171245654883, -0.008565454262618738, -0.036903574196660585, -0.06343564775017232, -0.0822125196355046, -0.006519089194199153, 0.13241304924381772, 0.10440922597592235], [-0.15818683851792784, -0.02466908457563645, -0.02257988399471824, 0.14040974889492408, -0.06719106139052887, -0.036701609757838975, 1.0, 0.00951319954873031, -0.004194486318277213, -0.028045118953764114, -0.21710877556548744, -0.0005537377630123893, -0.11202947239354948, -0.0063341708606963285, -0.006727730071518371, -0.03908036209275033, -0.1151542525503125, -0.005334693031151173, -0.004965240294384903, -0.11466766335929048], [0.021515636223077703, -0.04651095355139787, -0.04591061242264458, 0.1261809584870922, 0.08117076511490492, -0.024219697994916696, 0.00951319954873031, 1.0, 0.15998037490116274, 0.10729663798512859, 0.03053219438666848, 0.14237367075146548, 0.3864721337330112, 0.5481074038104508, -0.028390574934202863, -0.05646870492803743, -0.1724746731761798, 0.49635660866817927, -0.09552873635534823, 0.3359488202322962], [0.039205129679828934, -0.0017065025678084952, -0.0038094031436245878, 0.048954413176472394, 0.07186294354886522, -0.09496702038963627, -0.004194486318277213, 0.15998037490116274, 1.0, 0.05622556787460689, 0.029121051001892922, 0.3014557593894686, 0.18235192862173988, 0.03194987319743769, -0.02571907189115425, -0.03396075171241357, -0.03971332846299332, 0.038710982066891116, 0.014049042681092583, 0.11148432510815007], [0.4205917981132782, 0.13092070392149213, 0.12667043463679628, -0.06978076131143905, 0.07159804189361502, 0.005571434216750373, -0.028045118953764114, 0.10729663798512859, 0.05622556787460689, 1.0, 0.15625165090865967, 0.030588790472823712, 0.08060603844556678, 0.069806846888033, -0.044488019701195966, -0.20504275160285715, -0.065444386817836, 0.0596000476043734, -0.06299148189515302, 0.07387415456990583], [0.5982425523315253, 0.0376233641808503, 0.03611444575519996, -0.09715089602625691, 0.07481425895037858, 0.00850639497863761, -0.21710877556548744, 0.03053219438666848, 0.029121051001892922, 0.15625165090865967, 1.0, -0.012818600405022888, 0.047877900699115614, 0.02501387589678034, -0.10421498846705209, -0.04101400124388178, 0.04504100092389133, 0.030707220819958924, 0.00795030343183633, 0.04401431002302271], [-0.06389760287441462, -0.021518544770044806, -0.02083336431546968, 0.047011647765207006, 0.06397577951896244, -0.005721979660434508, -0.0005537377630123893, 0.14237367075146548, 0.3014557593894686, 0.030588790472823712, -0.012818600405022888, 1.0, 0.25987507020571776, 0.08065471349337365, -0.020939086228725683, -0.019251148197049296, -0.1522399337452217, 0.08355504625754466, 0.1211947541532844, 0.2411040088493328], [0.07213744564440353, -0.009406725795160387, -0.010202709301517726, 0.06739894223234527, 0.18479969508354088, 0.09339171245654883, -0.11202947239354948, 0.3864721337330112, 0.18235192862173988, 0.08060603844556678, 0.047877900699115614, 0.25987507020571776, 1.0, 0.49588758667292615, -0.009773379888579667, -0.061829758865885105, -0.20495423150683167, 0.5147020510962004, 0.05342580468854644, 0.9938718539469004], [0.008797902979000462, -0.023542521100064738, -0.023350267827395906, 0.028147108870329614, 0.018467592463464324, -0.008565454262618738, -0.0063341708606963285, 0.5481074038104508, 0.03194987319743769, 0.069806846888033, 0.02501387589678034, 0.08065471349337365, 0.49588758667292615, 1.0, -0.002820924544063132, -0.021744667092462568, -0.03814971176478593, 0.9346500961070284, -0.024532698397620394, 0.4816657533023758], [-0.024505685578106864, 0.03562507918662197, 0.04136907348096719, -0.03970568669785352, -0.02060395880836875, -0.036903574196660585, -0.006727730071518371, -0.028390574934202863, -0.02571907189115425, -0.044488019701195966, -0.10421498846705209, -0.020939086228725683, -0.009773379888579667, -0.002820924544063132, 1.0, 0.0003450298829748768, -0.009595031185987994, -0.01184696324422497, -0.0463923411468774, -0.006256007464303936], [-0.189166248964083, 0.08585317162751505, 0.0728985670372189, -0.13151159218440583, -0.030625481540017038, -0.06343564775017232, -0.03908036209275033, -0.05646870492803743, -0.03396075171241357, -0.20504275160285715, -0.04101400124388178, -0.019251148197049296, -0.061829758865885105, -0.021744667092462568, 0.0003450298829748768, 1.0, 0.16853712519538921, -0.021170877368651878, 0.03623408715463078, -0.05900370266257711], [-0.06343028257339024, 0.1268144994695155, 0.1202932130546811, -0.5619767116287031, -0.33611131205844874, -0.0822125196355046, -0.1151542525503125, -0.1724746731761798, -0.03971332846299332, -0.065444386817836, 0.04504100092389133, -0.1522399337452217, -0.20495423150683167, -0.03814971176478593, -0.009595031185987994, 0.16853712519538921, 1.0, -0.024431227824438437, 0.3798719196262364, -0.20107188896522332], [0.006946886998778843, -0.02664276057268567, -0.02736003235722579, 0.025212130060008466, 0.016131810559082724, -0.006519089194199153, -0.005334693031151173, 0.49635660866817927, 0.038710982066891116, 0.0596000476043734, 0.030707220819958924, 0.08355504625754466, 0.5147020510962004, 0.9346500961070284, -0.01184696324422497, -0.021170877368651878, -0.024431227824438437, 1.0, 0.021330561144657915, 0.5017542593666563], [-0.09892408517021711, 0.014045383330901507, 0.008361075386161258, -0.14439480599137747, -0.23626063338878603, 0.13241304924381772, -0.004965240294384903, -0.09552873635534823, 0.014049042681092583, -0.06299148189515302, 0.00795030343183633, 0.1211947541532844, 0.05342580468854644, -0.024532698397620394, -0.0463923411468774, 0.03623408715463078, 0.3798719196262364, 0.021330561144657915, 1.0, 0.058099200543920905], [0.06932592812476271, -0.007888058597759437, -0.008511916163269006, 0.0586387037091923, 0.17938866847621046, 0.10440922597592235, -0.11466766335929048, 0.3359488202322962, 0.11148432510815007, 0.07387415456990583, 0.04401431002302271, 0.2411040088493328, 0.9938718539469004, 0.4816657533023758, -0.006256007464303936, -0.05900370266257711, -0.20107188896522332, 0.5017542593666563, 0.058099200543920905, 1.0]]\n"
     ]
    }
   ],
>>>>>>> a8900ca26a2a2716469ad5e18885a33aeed7123b
   "source": [
    "matrix = Correlation.corr(numerical_df_vector,v_col).collect()[0][0]\n",
    "corr_matrix = matrix.toArray().tolist()\n",
    "print(corr_matrix)"
   ]
  },
  {
   "cell_type": "code",
<<<<<<< HEAD
   "execution_count": null,
   "id": "a6f7fb26-e714-4477-8744-0ee9f7099bc8",
   "metadata": {},
   "outputs": [],
=======
   "execution_count": 15,
   "id": "a6f7fb26-e714-4477-8744-0ee9f7099bc8",
   "metadata": {},
   "outputs": [
    {
     "data": {
      "text/plain": [
       "['basementenclosurecrawlspacetype',\n",
       " 'censustract',\n",
       " 'countycode',\n",
       " 'crsdiscount',\n",
       " 'deductibleamountinbuildingcoverage',\n",
       " 'deductibleamountincontentscoverage',\n",
       " 'elevationdifference',\n",
       " 'federalpolicyfee',\n",
       " 'hfiaasurcharge',\n",
       " 'numberoffloorsininsuredbuilding',\n",
       " 'obstructiontype',\n",
       " 'occupancytype',\n",
       " 'policycost',\n",
       " 'policycount',\n",
       " 'policytermindicator',\n",
       " 'reportedzipcode',\n",
       " 'ratemethod',\n",
       " 'totalbuildinginsurancecoverage',\n",
       " 'totalcontentsinsurancecoverage',\n",
       " 'totalinsurancepremiumofthepolicy']"
      ]
     },
     "execution_count": 15,
     "metadata": {},
     "output_type": "execute_result"
    }
   ],
>>>>>>> a8900ca26a2a2716469ad5e18885a33aeed7123b
   "source": [
    "num_df_dropped.columns"
   ]
  },
  {
   "cell_type": "code",
<<<<<<< HEAD
   "execution_count": null,
   "id": "27bc495c-9b0c-4c2a-862a-e3911976008f",
   "metadata": {},
   "outputs": [],
=======
   "execution_count": 16,
   "id": "27bc495c-9b0c-4c2a-862a-e3911976008f",
   "metadata": {},
   "outputs": [
    {
     "name": "stderr",
     "output_type": "stream",
     "text": [
      "/Library/Frameworks/Python.framework/Versions/3.12/lib/python3.12/site-packages/pyspark/python/lib/pyspark.zip/pyspark/daemon.py:154: DeprecationWarning: This process (pid=77004) is multi-threaded, use of fork() may lead to deadlocks in the child.\n",
      "                                                                                \r"
     ]
    },
    {
     "name": "stdout",
     "output_type": "stream",
     "text": [
      "+-------------------------------+--------------------+--------------------+--------------------+\n",
      "|basementenclosurecrawlspacetype|         censustract|          countycode|         crsdiscount|\n",
      "+-------------------------------+--------------------+--------------------+--------------------+\n",
      "|                            1.0|  0.1362390358684549| 0.13222438896911154|-0.13374568394718683|\n",
      "|             0.1362390358684549|                 1.0|  0.9861052821687085|-0.23633772584537877|\n",
      "|            0.13222438896911154|  0.9861052821687085|                 1.0|-0.23953380466231308|\n",
      "|           -0.13374568394718683|-0.23633772584537877|-0.23953380466231308|                 1.0|\n",
      "|            0.15131028789055212|-0.01575027970141...|-0.01666870410289115| 0.12280136982072969|\n",
      "|           0.001508665033775...|-0.00854783078303...|-0.00907086794018...| 0.10083331434329314|\n",
      "|           -0.15818683851792784|-0.02466908457563645|-0.02257988399471824| 0.14040974889492408|\n",
      "|           0.021515636223077703|-0.04651095355139787|-0.04591061242264458|  0.1261809584870922|\n",
      "|           0.039205129679828934|-0.00170650256780...|-0.00380940314362...|0.048954413176472394|\n",
      "|             0.4205917981132782| 0.13092070392149213| 0.12667043463679628|-0.06978076131143905|\n",
      "|             0.5982425523315253|  0.0376233641808503| 0.03611444575519996|-0.09715089602625691|\n",
      "|           -0.06389760287441462|-0.02151854477004...|-0.02083336431546968|0.047011647765207006|\n",
      "|            0.07213744564440353|-0.00940672579516...|-0.01020270930151...| 0.06739894223234527|\n",
      "|           0.008797902979000462|-0.02354252110006...|-0.02335026782739...|0.028147108870329614|\n",
      "|           -0.02450568557810...| 0.03562507918662197| 0.04136907348096719|-0.03970568669785352|\n",
      "|             -0.189166248964083| 0.08585317162751505|  0.0728985670372189|-0.13151159218440583|\n",
      "|           -0.06343028257339024|  0.1268144994695155|  0.1202932130546811| -0.5619767116287031|\n",
      "|           0.006946886998778843|-0.02664276057268567|-0.02736003235722579|0.025212130060008466|\n",
      "|           -0.09892408517021711|0.014045383330901507|0.008361075386161258|-0.14439480599137747|\n",
      "|            0.06932592812476271|-0.00788805859775...|-0.00851191616326...|  0.0586387037091923|\n",
      "+-------------------------------+--------------------+--------------------+--------------------+\n",
      "\n"
     ]
    }
   ],
>>>>>>> a8900ca26a2a2716469ad5e18885a33aeed7123b
   "source": [
    "columns = ['basementenclosurecrawlspacetype',\n",
    " 'censustract',\n",
    " 'countycode',\n",
    " 'crsdiscount',\n",
    " 'deductibleamountinbuildingcoverage',\n",
    " 'deductibleamountincontentscoverage',\n",
    " 'elevationdifference',\n",
    " 'federalpolicyfee',\n",
    " 'hfiaasurcharge',\n",
    " 'numberoffloorsininsuredbuilding',\n",
    " 'obstructiontype',\n",
    " 'occupancytype',\n",
    " 'policycost',\n",
    " 'policycount',\n",
    " 'policytermindicator',\n",
    " 'reportedzipcode',\n",
    " 'ratemethod',\n",
    " 'totalbuildinginsurancecoverage',\n",
    " 'totalcontentsinsurancecoverage',\n",
    " 'totalinsurancepremiumofthepolicy']\n",
    "df_c = spark.createDataFrame(corr_matrix,columns)\n",
    "df_c.select('basementenclosurecrawlspacetype',\n",
    " 'censustract',\n",
    " 'countycode','crsdiscount').show(20)"
   ]
  },
  {
   "cell_type": "code",
<<<<<<< HEAD
   "execution_count": null,
   "id": "2dd59ba2-1e7e-48af-aab5-ce12e63ebbca",
   "metadata": {},
   "outputs": [],
=======
   "execution_count": 17,
   "id": "2dd59ba2-1e7e-48af-aab5-ce12e63ebbca",
   "metadata": {},
   "outputs": [
    {
     "name": "stdout",
     "output_type": "stream",
     "text": [
      "+----------------------------------+----------------------------------+--------------------+--------------------+\n",
      "|deductibleamountinbuildingcoverage|deductibleamountincontentscoverage| elevationdifference|    federalpolicyfee|\n",
      "+----------------------------------+----------------------------------+--------------------+--------------------+\n",
      "|               0.15131028789055212|              0.001508665033775...|-0.15818683851792784|0.021515636223077703|\n",
      "|              -0.01575027970141...|              -0.00854783078303...|-0.02466908457563645|-0.04651095355139787|\n",
      "|              -0.01666870410289115|              -0.00907086794018...|-0.02257988399471824|-0.04591061242264458|\n",
      "|               0.12280136982072969|               0.10083331434329314| 0.14040974889492408|  0.1261809584870922|\n",
      "|                               1.0|                0.3407146167352545|-0.06719106139052887| 0.08117076511490492|\n",
      "|                0.3407146167352545|                               1.0|-0.03670160975783...|-0.02421969799491...|\n",
      "|              -0.06719106139052887|              -0.03670160975783...|                 1.0| 0.00951319954873031|\n",
      "|               0.08117076511490492|              -0.02421969799491...| 0.00951319954873031|                 1.0|\n",
      "|               0.07186294354886522|              -0.09496702038963627|-0.00419448631827...| 0.15998037490116274|\n",
      "|               0.07159804189361502|              0.005571434216750373|-0.02804511895376...| 0.10729663798512859|\n",
      "|               0.07481425895037858|               0.00850639497863761|-0.21710877556548744| 0.03053219438666848|\n",
      "|               0.06397577951896244|              -0.00572197966043...|-5.53737763012389...| 0.14237367075146548|\n",
      "|               0.18479969508354088|               0.09339171245654883|-0.11202947239354948|  0.3864721337330112|\n",
      "|              0.018467592463464324|              -0.00856545426261...|-0.00633417086069...|  0.5481074038104508|\n",
      "|              -0.02060395880836875|              -0.03690357419666...|-0.00672773007151...|-0.02839057493420...|\n",
      "|              -0.03062548154001...|              -0.06343564775017232|-0.03908036209275033|-0.05646870492803743|\n",
      "|              -0.33611131205844874|               -0.0822125196355046| -0.1151542525503125| -0.1724746731761798|\n",
      "|              0.016131810559082724|              -0.00651908919419...|-0.00533469303115...| 0.49635660866817927|\n",
      "|              -0.23626063338878603|               0.13241304924381772|-0.00496524029438...|-0.09552873635534823|\n",
      "|               0.17938866847621046|               0.10440922597592235|-0.11466766335929048|  0.3359488202322962|\n",
      "+----------------------------------+----------------------------------+--------------------+--------------------+\n",
      "\n"
     ]
    }
   ],
>>>>>>> a8900ca26a2a2716469ad5e18885a33aeed7123b
   "source": [
    "df_c.select('deductibleamountinbuildingcoverage',\n",
    " 'deductibleamountincontentscoverage',\n",
    " 'elevationdifference',\n",
    " 'federalpolicyfee').show(20)"
   ]
  },
  {
   "cell_type": "code",
<<<<<<< HEAD
   "execution_count": null,
   "id": "0310dcee-68c8-452a-a83f-20273013c028",
   "metadata": {},
   "outputs": [],
=======
   "execution_count": 18,
   "id": "0310dcee-68c8-452a-a83f-20273013c028",
   "metadata": {},
   "outputs": [
    {
     "name": "stdout",
     "output_type": "stream",
     "text": [
      "+--------------------+-------------------------------+--------------------+--------------------+\n",
      "|      hfiaasurcharge|numberoffloorsininsuredbuilding|     obstructiontype|       occupancytype|\n",
      "+--------------------+-------------------------------+--------------------+--------------------+\n",
      "|0.039205129679828934|             0.4205917981132782|  0.5982425523315253|-0.06389760287441462|\n",
      "|-0.00170650256780...|            0.13092070392149213|  0.0376233641808503|-0.02151854477004...|\n",
      "|-0.00380940314362...|            0.12667043463679628| 0.03611444575519996|-0.02083336431546968|\n",
      "|0.048954413176472394|           -0.06978076131143905|-0.09715089602625691|0.047011647765207006|\n",
      "| 0.07186294354886522|            0.07159804189361502| 0.07481425895037858| 0.06397577951896244|\n",
      "|-0.09496702038963627|           0.005571434216750373| 0.00850639497863761|-0.00572197966043...|\n",
      "|-0.00419448631827...|           -0.02804511895376...|-0.21710877556548744|-5.53737763012389...|\n",
      "| 0.15998037490116274|            0.10729663798512859| 0.03053219438666848| 0.14237367075146548|\n",
      "|                 1.0|            0.05622556787460689|0.029121051001892922|  0.3014557593894686|\n",
      "| 0.05622556787460689|                            1.0| 0.15625165090865967|0.030588790472823712|\n",
      "|0.029121051001892922|            0.15625165090865967|                 1.0|-0.01281860040502...|\n",
      "|  0.3014557593894686|           0.030588790472823712|-0.01281860040502...|                 1.0|\n",
      "| 0.18235192862173988|            0.08060603844556678|0.047877900699115614| 0.25987507020571776|\n",
      "| 0.03194987319743769|              0.069806846888033| 0.02501387589678034| 0.08065471349337365|\n",
      "|-0.02571907189115425|           -0.04448801970119...|-0.10421498846705209|-0.02093908622872...|\n",
      "|-0.03396075171241357|           -0.20504275160285715|-0.04101400124388178|-0.01925114819704...|\n",
      "|-0.03971332846299332|             -0.065444386817836| 0.04504100092389133| -0.1522399337452217|\n",
      "|0.038710982066891116|             0.0596000476043734|0.030707220819958924| 0.08355504625754466|\n",
      "|0.014049042681092583|           -0.06299148189515302| 0.00795030343183633|  0.1211947541532844|\n",
      "| 0.11148432510815007|            0.07387415456990583| 0.04401431002302271|  0.2411040088493328|\n",
      "+--------------------+-------------------------------+--------------------+--------------------+\n",
      "\n"
     ]
    }
   ],
>>>>>>> a8900ca26a2a2716469ad5e18885a33aeed7123b
   "source": [
    "df_c.select('hfiaasurcharge','numberoffloorsininsuredbuilding','obstructiontype',\n",
    " 'occupancytype').show(20)"
   ]
  },
  {
   "cell_type": "code",
<<<<<<< HEAD
   "execution_count": null,
   "id": "3ca97081-e7db-4b49-b4ef-63ebd3cf3fb4",
   "metadata": {},
   "outputs": [],
=======
   "execution_count": 19,
   "id": "3ca97081-e7db-4b49-b4ef-63ebd3cf3fb4",
   "metadata": {},
   "outputs": [
    {
     "name": "stdout",
     "output_type": "stream",
     "text": [
      "+--------------------+--------------------+--------------------+--------------------+\n",
      "|          policycost|         policycount| policytermindicator|     reportedzipcode|\n",
      "+--------------------+--------------------+--------------------+--------------------+\n",
      "| 0.07213744564440353|0.008797902979000462|-0.02450568557810...|  -0.189166248964083|\n",
      "|-0.00940672579516...|-0.02354252110006...| 0.03562507918662197| 0.08585317162751505|\n",
      "|-0.01020270930151...|-0.02335026782739...| 0.04136907348096719|  0.0728985670372189|\n",
      "| 0.06739894223234527|0.028147108870329614|-0.03970568669785352|-0.13151159218440583|\n",
      "| 0.18479969508354088|0.018467592463464324|-0.02060395880836875|-0.03062548154001...|\n",
      "| 0.09339171245654883|-0.00856545426261...|-0.03690357419666...|-0.06343564775017232|\n",
      "|-0.11202947239354948|-0.00633417086069...|-0.00672773007151...|-0.03908036209275033|\n",
      "|  0.3864721337330112|  0.5481074038104508|-0.02839057493420...|-0.05646870492803743|\n",
      "| 0.18235192862173988| 0.03194987319743769|-0.02571907189115425|-0.03396075171241357|\n",
      "| 0.08060603844556678|   0.069806846888033|-0.04448801970119...|-0.20504275160285715|\n",
      "|0.047877900699115614| 0.02501387589678034|-0.10421498846705209|-0.04101400124388178|\n",
      "| 0.25987507020571776| 0.08065471349337365|-0.02093908622872...|-0.01925114819704...|\n",
      "|                 1.0| 0.49588758667292615|-0.00977337988857...|-0.06182975886588...|\n",
      "| 0.49588758667292615|                 1.0|-0.00282092454406...|-0.02174466709246...|\n",
      "|-0.00977337988857...|-0.00282092454406...|                 1.0|3.450298829748768E-4|\n",
      "|-0.06182975886588...|-0.02174466709246...|3.450298829748768E-4|                 1.0|\n",
      "|-0.20495423150683167|-0.03814971176478593|-0.00959503118598...| 0.16853712519538921|\n",
      "|  0.5147020510962004|  0.9346500961070284|-0.01184696324422497|-0.02117087736865...|\n",
      "| 0.05342580468854644|-0.02453269839762...| -0.0463923411468774| 0.03623408715463078|\n",
      "|  0.9938718539469004|  0.4816657533023758|-0.00625600746430...|-0.05900370266257711|\n",
      "+--------------------+--------------------+--------------------+--------------------+\n",
      "\n"
     ]
    }
   ],
>>>>>>> a8900ca26a2a2716469ad5e18885a33aeed7123b
   "source": [
    "df_c.select('policycost',\n",
    " 'policycount',\n",
    " 'policytermindicator','reportedzipcode').show(20)"
   ]
  },
  {
   "cell_type": "code",
   "execution_count": 20,
   "id": "aaba275f-ced7-4e91-97c9-3ddae7cf122e",
   "metadata": {},
   "outputs": [
    {
     "name": "stdout",
     "output_type": "stream",
     "text": [
      "+--------------------+------------------------------+------------------------------+--------------------------------+\n",
      "|          ratemethod|totalbuildinginsurancecoverage|totalcontentsinsurancecoverage|totalinsurancepremiumofthepolicy|\n",
      "+--------------------+------------------------------+------------------------------+--------------------------------+\n",
      "|-0.06343028257339024|          0.006946886998778843|          -0.09892408517021711|             0.06932592812476271|\n",
      "|  0.1268144994695155|          -0.02664276057268567|          0.014045383330901507|            -0.00788805859775...|\n",
      "|  0.1202932130546811|          -0.02736003235722579|          0.008361075386161258|            -0.00851191616326...|\n",
      "| -0.5619767116287031|          0.025212130060008466|          -0.14439480599137747|              0.0586387037091923|\n",
      "|-0.33611131205844874|          0.016131810559082724|          -0.23626063338878603|             0.17938866847621046|\n",
      "| -0.0822125196355046|          -0.00651908919419...|           0.13241304924381772|             0.10440922597592235|\n",
      "| -0.1151542525503125|          -0.00533469303115...|          -0.00496524029438...|            -0.11466766335929048|\n",
      "| -0.1724746731761798|           0.49635660866817927|          -0.09552873635534823|              0.3359488202322962|\n",
      "|-0.03971332846299332|          0.038710982066891116|          0.014049042681092583|             0.11148432510815007|\n",
      "|  -0.065444386817836|            0.0596000476043734|          -0.06299148189515302|             0.07387415456990583|\n",
      "| 0.04504100092389133|          0.030707220819958924|           0.00795030343183633|             0.04401431002302271|\n",
      "| -0.1522399337452217|           0.08355504625754466|            0.1211947541532844|              0.2411040088493328|\n",
      "|-0.20495423150683167|            0.5147020510962004|           0.05342580468854644|              0.9938718539469004|\n",
      "|-0.03814971176478593|            0.9346500961070284|          -0.02453269839762...|              0.4816657533023758|\n",
      "|-0.00959503118598...|          -0.01184696324422497|           -0.0463923411468774|            -0.00625600746430...|\n",
      "| 0.16853712519538921|          -0.02117087736865...|           0.03623408715463078|            -0.05900370266257711|\n",
      "|                 1.0|          -0.02443122782443...|            0.3798719196262364|            -0.20107188896522332|\n",
      "|-0.02443122782443...|                           1.0|          0.021330561144657915|              0.5017542593666563|\n",
      "|  0.3798719196262364|          0.021330561144657915|                           1.0|            0.058099200543920905|\n",
      "|-0.20107188896522332|            0.5017542593666563|          0.058099200543920905|                             1.0|\n",
      "+--------------------+------------------------------+------------------------------+--------------------------------+\n",
      "\n"
     ]
    }
   ],
   "source": [
    "df_c.select( 'ratemethod',\n",
    " 'totalbuildinginsurancecoverage',\n",
    " 'totalcontentsinsurancecoverage',\n",
    " 'totalinsurancepremiumofthepolicy').show(20)"
   ]
  },
  {
   "cell_type": "markdown",
   "id": "7bd69061-c8d2-4a65-b1fe-5bd45aa286f7",
   "metadata": {},
   "source": [
    "**This correlation matrix demonstrates the correlations among all the imputed_df columns in a readable format.**"
   ]
  },
  {
   "cell_type": "markdown",
   "id": "c9f5b933-e369-4bee-b609-6d70597657ff",
   "metadata": {},
   "source": [
    "### Scatterplots "
   ]
  },
  {
   "cell_type": "code",
<<<<<<< HEAD
   "execution_count": null,
   "id": "6554a239-9402-4b17-901d-258733d8d3e2",
   "metadata": {},
   "outputs": [],
   "source": [
    "#num_pdf = sample_num_df.toPandas()\n",
    "#num_pdf.plot.scatter(x='countycode',y='censustract')\n",
    "#changed_df.plot.scatter(x='countycode',y='censustract')\n",
    "\n",
    "#import os\n",
    "#os.environ['PYARROW_IGNORE_TIMEZONE'] = '1'\n",
    "#import pyspark.pandas as ps\n",
    "#changed_num_df = changed_df.sample(False, 0.001)\n",
    "#num_pdf = ps.DataFrame(changed_num_df)\n",
    "#num_pdf.plot.scatter(x='countycode',y='censustract')\n",
    "\n",
    "changed_num_df = changed_df.sample(False, 0.5)\n",
    "num_pdf = changed_num_df.toPandas()\n",
    "print(num_pdf)\n",
    "#plt.scatter(x='countycode',y='censustract')\n",
    "#plt.title('\n",
    "#plt.show()"
   ]
=======
   "execution_count": 21,
   "id": "6554a239-9402-4b17-901d-258733d8d3e2",
   "metadata": {},
   "outputs": [
    {
     "name": "stderr",
     "output_type": "stream",
     "text": [
      "                                                                                \r"
     ]
    },
    {
     "name": "stdout",
     "output_type": "stream",
     "text": [
      "         basementenclosurecrawlspacetype   censustract  countycode  \\\n",
      "0                                    2.0  3.605941e+10     36059.0   \n",
      "1                                    0.0  2.209507e+10     22095.0   \n",
      "2                                    0.0  4.100795e+10     41007.0   \n",
      "3                                    1.0  3.301100e+10     33011.0   \n",
      "4                                    0.0  1.201104e+10     12011.0   \n",
      "...                                  ...           ...         ...   \n",
      "5040495                              3.0           NaN     37101.0   \n",
      "5040496                              0.0  1.207597e+10     12075.0   \n",
      "5040497                              1.0  1.703183e+10     17031.0   \n",
      "5040498                              2.0  3.105501e+10     31055.0   \n",
      "5040499                              0.0  6.059063e+09      6059.0   \n",
      "\n",
      "         crsdiscount  deductibleamountinbuildingcoverage  \\\n",
      "0               0.00                                 0.0   \n",
      "1               0.05                                 0.0   \n",
      "2               0.00                                 5.0   \n",
      "3               0.00                                 0.0   \n",
      "4               0.15                                 0.0   \n",
      "...              ...                                 ...   \n",
      "5040495         0.00                                 NaN   \n",
      "5040496         0.20                                 2.0   \n",
      "5040497         0.00                                 2.0   \n",
      "5040498         0.15                                 2.0   \n",
      "5040499         0.00                                 NaN   \n",
      "\n",
      "         deductibleamountincontentscoverage  elevationdifference  \\\n",
      "0                                       0.0                  NaN   \n",
      "1                                       0.0                  1.0   \n",
      "2                                       0.0                  NaN   \n",
      "3                                       0.0                  2.0   \n",
      "4                                       0.0                  NaN   \n",
      "...                                     ...                  ...   \n",
      "5040495                                 NaN                  NaN   \n",
      "5040496                                 NaN                  NaN   \n",
      "5040497                                 0.0                  NaN   \n",
      "5040498                                 0.0                  NaN   \n",
      "5040499                                 NaN                  NaN   \n",
      "\n",
      "         federalpolicyfee  hfiaasurcharge  numberoffloorsininsuredbuilding  \\\n",
      "0                      13               0                              3.0   \n",
      "1                      35               0                              1.0   \n",
      "2                      35               0                              2.0   \n",
      "3                      35               0                              3.0   \n",
      "4                       0               0                              1.0   \n",
      "...                   ...             ...                              ...   \n",
      "5040495                25             250                              2.0   \n",
      "5040496                50              25                              1.0   \n",
      "5040497                 0               1                              4.0   \n",
      "5040498                 0               0                              3.0   \n",
      "5040499                 0               0                              3.0   \n",
      "\n",
      "         ...  features10  features11  features12  features13  features14  \\\n",
      "0        ...          28           1         388           1           1   \n",
      "1        ...          28           1         582           1           1   \n",
      "2        ...          28           1        2603           1           1   \n",
      "3        ...          54           1         380           1           1   \n",
      "4        ...          28           1         680           1           1   \n",
      "...      ...         ...         ...         ...         ...         ...   \n",
      "5040495  ...          60           1         681           1           1   \n",
      "5040496  ...          10           1        1257           1           1   \n",
      "5040497  ...          28           1        1309           1           1   \n",
      "5040498  ...          28           1        2515           1           1   \n",
      "5040499  ...          28           1         607           1           1   \n",
      "\n",
      "         features15  features16  features17  features18  features19  \n",
      "0             11003           7      250000      100000         375  \n",
      "1             70068           1      163000       25000         547  \n",
      "2             97102           1      250000           0        2568  \n",
      "3              3103           1      171600       54400         345  \n",
      "4             33312           1      122000        4000         645  \n",
      "...             ...         ...         ...         ...         ...  \n",
      "5040495       27504           7      150000       60000         353  \n",
      "5040496       34498           1       96800       10500        1028  \n",
      "5040497       60419           1      160900           0        1094  \n",
      "5040498       68022           1      250000           0        2122  \n",
      "5040499       92661           3      250000      100000         310  \n",
      "\n",
      "[5040500 rows x 40 columns]\n"
     ]
    }
   ],
   "source": [
    "import matplotlib.pyplot as plt\n",
    "sample_imputed_df = imputed_df.sample(False, 0.1)\n",
    "num_pdf = sample_imputed_df.toPandas()"
   ]
  },
  {
   "cell_type": "code",
   "execution_count": 22,
   "id": "31982436-87ec-49a4-8640-1800f1b4e4a4",
   "metadata": {},
   "outputs": [
    {
     "data": {
      "image/png": "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",
      "text/plain": [
       "<Figure size 640x480 with 1 Axes>"
      ]
     },
     "metadata": {},
     "output_type": "display_data"
    }
   ],
   "source": [
    "plt.scatter(x=num_pdf['policycost'],y=num_pdf['totalinsurancepremiumofthepolicy'])\n",
    "plt.xlabel('Policy Cost')\n",
    "plt.ylabel('Total Insurance Premium of the Policy')\n",
    "plt.title('Policy Cost vs Total Insurance Premium of the Policy')\n",
    "plt.show()"
   ]
  },
  {
   "cell_type": "markdown",
   "id": "8ed154cf-2bab-457f-8e46-76f8da268efa",
   "metadata": {},
   "source": [
    "**This scatterplot demonstrates the positive correlation between Policy Cost and Total Insurance Premium of the Policy as it is 0.9939.**"
   ]
  },
  {
   "cell_type": "code",
   "execution_count": 23,
   "id": "8677d366-12de-47e1-b6f5-8d20372f1e65",
   "metadata": {},
   "outputs": [
    {
     "data": {
      "image/png": "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",
      "text/plain": [
       "<Figure size 640x480 with 1 Axes>"
      ]
     },
     "metadata": {},
     "output_type": "display_data"
    }
   ],
   "source": [
    "plt.scatter(x=num_pdf['countycode'],y=num_pdf['censustract'])\n",
    "plt.xlabel('County Code')\n",
    "plt.ylabel('Census Tract')\n",
    "plt.title('County Code vs Census Tract')\n",
    "plt.show()"
   ]
  },
  {
   "cell_type": "markdown",
   "id": "18793ee8-636a-4424-9508-ee63e969cb1d",
   "metadata": {},
   "source": [
    "**County code and Census Tract have a positve correlation of 0.9861 as shown from this scatterplot.**"
   ]
  },
  {
   "cell_type": "code",
   "execution_count": 24,
   "id": "582200df-839f-4850-a672-c2ba94a6a708",
   "metadata": {},
   "outputs": [
    {
     "data": {
      "image/png": "iVBORw0KGgoAAAANSUhEUgAAAjcAAAHHCAYAAABDUnkqAAAAOXRFWHRTb2Z0d2FyZQBNYXRwbG90bGliIHZlcnNpb24zLjguNCwgaHR0cHM6Ly9tYXRwbG90bGliLm9yZy8fJSN1AAAACXBIWXMAAA9hAAAPYQGoP6dpAACDs0lEQVR4nO3dd1hT59sH8G+CbBkiMlQEFBfiHhV3rdZVR21drau12lqtWrVV2rrqbu0eav25qtZR69ZSqaOO4qqiUtziZqgIKAhIct4/eJMSSOCccEIG3891cV3m5OTkzjHJufOM+1EIgiCAiIiIyEYozR0AERERkZyY3BAREZFNYXJDRERENoXJDREREdkUJjdERERkU5jcEBERkU1hckNEREQ2hckNERER2RQmN0RERGRTmNyUIR06dECHDh20t2/cuAGFQoFVq1aZLSayPkFBQRg+fLhZnlvfe3bmzJlQKBSiHq9QKDBz5kzt7VWrVkGhUODGjRvyBkpEZsXkxoJpvng1f05OTqhVqxbGjh2LpKQkc4dXIklJSZg8eTLq1KkDFxcXuLq6omnTppgzZw5SU1PNHR4A4JdffsHXX39t7jAwfPhwnfeBoT8xCceePXt0Lu6mVDA+V1dXhIaGYs6cOcjMzCyVGCyZJil78OCBuUOxWVu3bkW3bt3g7e0NBwcHVK5cGf3798f+/fvNHRqZWDlzB0DF+/TTTxEcHIysrCwcOXIEixcvxp49exAbGwsXFxejjxsYGIinT5/C3t5exmiLd/LkSXTv3h1PnjzB4MGD0bRpUwDAqVOnsGDBAhw6dAh79+4t1Zj0+eWXXxAbG4sJEyaYNY63334bnTp10t6Oj4/H9OnTMWrUKLRt21a7vUaNGsUea8+ePfjhhx9KLcHp3Lkzhg4dCgB48uQJDh8+jGnTpuHs2bP49ddfJR9P7vfskCFDMHDgQDg6OspyPLIMgiDgzTffxKpVq9C4cWNMnDgRfn5+SEhIwNatW/HCCy/g6NGjaNWqlblDJRNhcmMFunXrhmbNmgEA3nrrLVSsWBFffvkltm/fjkGDBhl9XE1rUGlKTU3Fyy+/DDs7O5w5cwZ16tTRuX/u3LlYtmxZqcZk6cLDwxEeHq69ferUKUyfPh3h4eEYPHiwGSMrXq1atXRifOedd5CTk4MtW7YgKytL8vtP7vesnZ0d7OzsZDuerVCr1cjJySn17we5fPHFF1i1ahUmTJiAL7/8Uqfb8uOPP8aaNWtQrpzlXf5yc3OhVqvh4OBg7lCsHrulrFDHjh0B5P2CB/I+ELNnz0aNGjXg6OiIoKAgfPTRR8jOzi7yOIbG3Fy8eBH9+/dHpUqV4OzsjNq1a+Pjjz8GABw4cAAKhQJbt24tdLxffvkFCoUC0dHRBp9z6dKluHv3Lr788stCiQ0A+Pr64pNPPtHZ9uOPP6JevXpwdHRE5cqVMWbMmEJdV4bGgRQcZ3Tw4EEoFAps2rQJc+fORdWqVeHk5IQXXngBV69e1Xnc7t27cfPmTW23SlBQkMHXFRYWhueff77QdrVajSpVquDVV1/VbtuwYQOaNm0KNzc3uLu7o379+vjmm28MHlusX3/9FU2bNoWzszO8vb0xePBg3L17V3v/8OHD8cMPPwDQ7TLSWLRoEVq1aoWKFSvC2dkZTZs2xebNm0scV0F+fn5QKBQ6Fxex/39ix4llZ2fj/fffR6VKleDm5oZevXrhzp07hfbTN+YmKCgIL730Eo4cOYIWLVrAyckJ1atXx88//1zo8efOnUP79u3h7OyMqlWrYs6cOVi5cqXR43g6dOiAsLAwxMXF4fnnn4eLiwuqVKmCzz77rNC+3333HerVqwcXFxdUqFABzZo1wy+//KK9f/jw4Xrfs/rGKCkUCowdOxbr1q3TftYiIyMBiH9faI6xbds2hIWFwdHREfXq1dMeJ7+7d+9ixIgRqFy5MhwdHREcHIzRo0cjJydHu09qaiomTJiAgIAAODo6IiQkBAsXLoRarS7yHD59+hTz589HnTp1sGjRIr3jsYYMGYIWLVpob1+/fh39+vWDl5cXXFxc0LJlS+zevVt7f1JSEsqVK4dZs2YVOtalS5egUCjw/fffS4pd815etGgRvv76a+33d1xcHHJycjB9+nQ0bdoUHh4ecHV1Rdu2bXHgwIFCz//w4UMMGTIE7u7u8PT0xLBhw3D27FmD3+2vvvoqvLy84OTkhGbNmmHHjh1Fnk9rZXmpKxXr2rVrAICKFSsCyGvNWb16NV599VVMmjQJx48fx/z583HhwgW9SUhRzp07h7Zt28Le3h6jRo1CUFAQrl27hp07d2Lu3Lno0KEDAgICsG7dOrz88ss6j123bh1q1Kih08pQ0I4dO+Ds7KxzsS/KzJkzMWvWLHTq1AmjR4/GpUuXsHjxYpw8eRJHjx41untiwYIFUCqVmDx5MtLS0vDZZ5/h9ddfx/HjxwHk/bpLS0vDnTt38NVXXwEAypcvb/B4AwYMwMyZM5GYmAg/Pz/t9iNHjuDevXsYOHAgACAqKgqDBg3CCy+8gIULFwIALly4gKNHj2L8+PFGvRYg7yL9xhtvoHnz5pg/fz6SkpLwzTff4OjRozhz5gw8PT3x9ttv4969e4iKisKaNWsKHeObb75Br1698PrrryMnJwcbNmxAv379sGvXLvTo0cOouLKysrRjSjIyMnD06FGsXr0ar732mkl/Ob/11ltYu3YtXnvtNbRq1Qr79++X9BquXr2KV199FSNGjMCwYcOwYsUKDB8+HE2bNkW9evUA5F2gn3/+eSgUCkRERMDV1RX/+9//StzF9ejRI3Tt2hV9+/ZF//79sXnzZkyZMgX169dHt27dAADLli3DuHHj8Oqrr2L8+PHIysrCuXPncPz4cbz22mtGPe/+/fuxadMmjB07Ft7e3trESMr74siRI9iyZQveffdduLm54dtvv8Urr7yCW7duab+v7t27hxYtWiA1NRWjRo1CnTp1cPfuXWzevBmZmZlwcHBAZmYm2rdvj7t37+Ltt99GtWrV8PfffyMiIgIJCQlFjoU7cuQIUlJSMGHCBFGtcklJSWjVqhUyMzMxbtw4VKxYEatXr0avXr2wefNmvPzyy/D19UX79u2xadMmzJgxQ+fxGzduhJ2dHfr16wcAkmNfuXIlsrKyMGrUKDg6OsLLywvp6en43//+h0GDBmHkyJF4/Pgxli9fji5duuDEiRNo1KgRgLwfTz179sSJEycwevRo1KlTB9u3b8ewYcMKvc5///0XrVu3RpUqVTB16lS4urpi06ZN6NOnD3777bdC3+dWTyCLtXLlSgGA8Oeffwr3798Xbt++LWzYsEGoWLGi4OzsLNy5c0eIiYkRAAhvvfWWzmMnT54sABD279+v3da+fXuhffv22tvx8fECAGHlypXabe3atRPc3NyEmzdv6hxPrVZr/x0RESE4OjoKqamp2m3JyclCuXLlhBkzZhT5mipUqCA0bNhQ1OtPTk4WHBwchBdffFFQqVTa7d9//70AQFixYoV2W2BgoDBs2LBCxyj4mg8cOCAAEOrWrStkZ2drt3/zzTcCAOH8+fPabT169BACAwNFxXrp0iUBgPDdd9/pbH/33XeF8uXLC5mZmYIgCML48eMFd3d3ITc3V9Rx9Tl58qTO/1tOTo7g4+MjhIWFCU+fPtXut2vXLgGAMH36dO22MWPGCIY+9poYNXJycoSwsDChY8eOOtsNneuCAOj969Onj5CVlSXqmGLeszNmzNB5TZrPxLvvvqtzrNdee00AoPMe1XzG4uPjdWIBIBw6dEi7LTk5WXB0dBQmTZqk3fbee+8JCoVCOHPmjHbbw4cPBS8vr0LH1EcT9/3793VeLwDh559/1m7Lzs4W/Pz8hFdeeUW7rXfv3kK9evWKPP6wYcP0vn8Lni9ByPu/UiqVwr///ltof7HvCwCCg4ODcPXqVe22s2fPFvpcDB06VFAqlcLJkycLPZfme2b27NmCq6urcPnyZZ37p06dKtjZ2Qm3bt0y8Kr/+yxv3brV4D75TZgwQQAgHD58WLvt8ePHQnBwsBAUFKT97lm6dGmh7whBEITQ0FCdcyE2ds172d3dXUhOTtbZNzc3V+f7SRAE4dGjR4Kvr6/w5ptvarf99ttvAgDh66+/1m5TqVRCx44dC31OXnjhBaF+/fo6nz21Wi20atVKqFmzpqhzZU3YLWUFOnXqhEqVKiEgIAADBw5E+fLlsXXrVlSpUgV79uwBAEycOFHnMZMmTQIAnabV4ty/fx+HDh3Cm2++iWrVquncl79pd+jQocjOztZpmt64cSNyc3OLHQOSnp4ONzc3UfH8+eefyMnJwYQJE6BU/vdWHTlyJNzd3SW9toLeeOMNnX5tzcDc69evG3W8WrVqoVGjRti4caN2m0qlwubNm9GzZ084OzsDADw9PZGRkYGoqCijYy/o1KlTSE5OxrvvvqszRqJHjx6oU6eO6POkiRHIaz1IS0tD27Ztcfr0aaNj6927N6KiohAVFYXt27cjIiICkZGReO211yAIgtHHLYrmMzFu3Did7VIGhoeGhuoM1q5UqRJq166t8/6IjIxEeHi49lc0AHh5eeH11183LvD/V758eZ3PkYODA1q0aKHz3J6enrhz5w5OnjxZoufKr3379ggNDS20Xcr7olOnTjoD2xs0aAB3d3dt7Gq1Gtu2bUPPnj214wjz03zP/Prrr2jbti0qVKiABw8eaP86deoElUqFQ4cOGXwd6enpACD6e2bPnj1o0aIF2rRpo91Wvnx5jBo1Cjdu3EBcXBwAoG/fvihXrpzOZzw2NhZxcXEYMGCAdpvU2F955RVUqlRJZ5udnZ32+0mtViMlJQW5ublo1qyZznmPjIyEvb09Ro4cqd2mVCoxZswYneOlpKRg//796N+/Px4/fqyN6eHDh+jSpQuuXLmi04VtC8p0cnPo0CH07NkTlStXhkKhwLZt2yQf448//kDLli3h5uaGSpUq4ZVXXpG9ZsYPP/yAqKgoHDhwAHFxcbh+/Tq6dOkCALh58yaUSiVCQkJ0HuPn5wdPT0/cvHlT9PNovoDCwsKK3K9OnTpo3rw51q1bp922bt06tGzZslAcBbm7u+Px48ei4tHEXrt2bZ3tDg4OqF69uqTXVlDB5K1ChQoA8r68jTVgwAAcPXpU+yVx8OBBJCcn63zxvfvuu6hVqxa6deuGqlWr4s0339Q7JkEKQ+cJyPu/Enuedu3ahZYtW8LJyQleXl6oVKkSFi9ejLS0NKNjq1q1Kjp16oROnTqhV69emDdvHubMmYMtW7Zg165dRh+3KJrPRMHZY/rOjyEF3x9A3nsk//vj5s2bet/vxX0GilO1atVC40QKPveUKVNQvnx5tGjRAjVr1sSYMWNw9OjREj1vcHCw3u1S3hfFnbf79+8jPT292O+YK1euIDIyEpUqVdL508waTE5ONvhYd3d3AJD0PaPvvVG3bl3t/QDg7e2NF154AZs2bdLus3HjRpQrVw59+/Y1OnZD53316tVo0KABnJycULFiRVSqVAm7d+/WOe83b96Ev79/oVmzBd+DV69ehSAImDZtWqG4NN1sRZ1Ta1Smk5uMjAw0bNhQO8hSqvj4ePTu3RsdO3ZETEwM/vjjDzx48EDnjS6HFi1aoFOnTujQoQPq1q2r04qhIbaImVyGDh2Kv/76C3fu3MG1a9dw7NgxUTN36tSpg8uXL+sMHJSDodevUqn0bjfUF1+S1oQBAwZAEATtFOdNmzbBw8MDXbt21e7j4+ODmJgY7NixA7169cKBAwfQrVs3vX3kpenw4cPo1asXnJyc8OOPP2LPnj2IiooySQvLCy+8AAA6v2Cl/v+ZmineH3I+d926dXHp0iVs2LABbdq0wW+//YY2bdrojAeRek7zt9BoSH1fyHXe1Go1OnfurG31K/j3yiuvGHysZqLC+fPnJT2nGAMHDsTly5cRExMDIO8z/sILL8Db29vo2PWd97Vr12L48OGoUaMGli9fjsjISERFRaFjx47FDqjWR/OYyZMnG4yrpEm5pSnTA4q7deumHaCnT3Z2Nj7++GOsX78eqampCAsLw8KFC7WzN/755x+oVCrMmTNHm3BMnjwZvXv3xrNnz0qlfkxgYCDUajWuXLmi/aUB5A2SS01NRWBgoOhjVa9eHUBeU2txBg4ciIkTJ2L9+vXauiP5WygM6dmzJ6Kjo/Hbb78VO41dE/ulS5e0sQFATk4O4uPjdWq/VKhQQW/xv5s3b+o8VgqpCWNwcDBatGiBjRs3YuzYsdiyZQv69OlTaICpg4MDevbsiZ49e0KtVuPdd9/F0qVLMW3aNKO+YPKfJ81MOo1Lly7pvAcMvabffvsNTk5O+OOPP3TiXblypeR4ipObmwsgr+6Nhpz/f5rPxLVr13R+kV+6dMm4gIt4nvwz7DT0bTMFV1dXDBgwAAMGDEBOTg769u2LuXPnIiIiAk5OTkWeU7Hkfl9UqlQJ7u7uxX7H1KhRA0+ePNH5jIvVpk0bVKhQAevXr8dHH31U7KDiwMBAve+Nixcvau/X6NOnD95++21t19Tly5cREREhW+wamzdvRvXq1bFlyxadz2zBwcyBgYE4cOAAMjMzdVpvCr4HNZ8he3v7EsVlTcp0y01xxo4di+joaGzYsAHnzp1Dv3790LVrV1y5cgUA0LRpUyiVSqxcuRIqlQppaWlYs2YNOnXqVGqF8bp37w4AhUbgf/nllwAgaYZIpUqV0K5dO6xYsQK3bt3Sua/gLy9vb29069YNa9euxbp169C1a1edXy+GvPPOO/D398ekSZNw+fLlQvcnJydjzpw5APL67x0cHPDtt9/qPP/y5cuRlpam89pq1KiBY8eO6bQI7dq1C7dv3xb34vVwdXWV3CUzYMAAHDt2DCtWrMCDBw8KJXwPHz7Uua1UKtGgQQMAKHbqviHNmjWDj48PlixZonOM33//HRcuXNA5T66urgBQ6KJnZ2cHhUKh86v+xo0bRnXVFmfnzp0AgIYNG2q3yfn/p/nB8u233+psl7vadJcuXRAdHa39FQ/kjW3I311rKgXfRw4ODggNDYUgCHj27BmAvHOalpaGc+fOaffTFLETS+73hVKpRJ8+fbBz506cOnWq0P2az3n//v0RHR2NP/74o9A+qamp2gRZHxcXF0yZMgUXLlzAlClT9LYarV27FidOnACQ9x164sQJnRIWGRkZ+OmnnxAUFKQzDsnT0xNdunTBpk2bsGHDBjg4OKBPnz46xy5J7BqahCx/7MePHy9UZqNLly549uyZTm0wtVpdqDfCx8cHHTp0wNKlS5GQkFDo+e7fv19sTNamTLfcFOXWrVtYuXIlbt26hcqVKwPIa5WJjIzEypUrMW/ePAQHB2Pv3r3o378/3n77bahUKoSHh2sHNJaGhg0bYtiwYfjpp5+QmpqK9u3b48SJE1i9ejX69Omjt/ZKUb799lu0adMGTZo0wahRoxAcHIwbN25g9+7dOl/iQF7XlGZK9+zZs0Udv0KFCti6dSu6d++ORo0a6VQoPn36NNavX6+dSl6pUiVERERg1qxZ6Nq1K3r16oVLly7hxx9/RPPmzXW6wd566y1s3rwZXbt2Rf/+/XHt2jWsXbtWVNVeQ5o2bYqNGzdi4sSJaN68OcqXL4+ePXsW+Zj+/ftj8uTJmDx5Mry8vAr9SnrrrbeQkpKCjh07omrVqrh58ya+++47NGrUSKflTQp7e3ssXLgQb7zxBtq3b49BgwZpp4IHBQXh/fff13lNQN5g2y5dusDOzg4DBw5Ejx498OWXX6Jr16547bXXkJycjB9++AEhISE6F0epLl++jLVr1wLImyJ77NgxrF69GiEhIRgyZIjOeZHr/69Ro0YYNGgQfvzxR6SlpaFVq1bYt2+f7C0qH374IdauXYvOnTvjvffe004Fr1atGlJSUkzaVfziiy/Cz88PrVu3hq+vLy5cuIDvv/8ePXr00A6kHThwIKZMmYKXX34Z48aNQ2ZmJhYvXoxatWqJHiRuivfFvHnzsHfvXrRv3x6jRo1C3bp1kZCQgF9//RVHjhyBp6cnPvjgA+zYsQMvvfSSdgp+RkYGzp8/j82bN+PGjRtF/pj64IMP8O+//+KLL77AgQMH8Oqrr8LPzw+JiYnYtm0bTpw4gb///hsAMHXqVKxfvx7dunXDuHHj4OXlhdWrVyM+Ph6//fZboWEAAwYMwODBg/Hjjz+iS5cu8PT0LPTcJYkdAF566SVs2bIFL7/8Mnr06IH4+HgsWbIEoaGhOi2effr0QYsWLTBp0iRcvXoVderUwY4dO5CSkgJAt6X2hx9+QJs2bVC/fn2MHDkS1atXR1JSEqKjo3Hnzh2cPXtW1P+f1TDDDC2LhAJTBzXTaF1dXXX+ypUrJ/Tv318QBEFISEgQatasKXzwwQfC6dOnhb/++kto37698MILL+hMnTaWZpqqvimT+T179kyYNWuWEBwcLNjb2wsBAQFCREREoem2YqbVCoIgxMbGCi+//LLg6ekpODk5CbVr1xamTZtW6Hmzs7OFChUqCB4eHjpTkMW4d++e8P777wu1atUSnJycBBcXF6Fp06bC3LlzhbS0NJ19v//+e6FOnTqCvb294OvrK4wePVp49OhRoWN+8cUXQpUqVQRHR0ehdevWwqlTpwxOBf/11191HqvvXDx58kR47bXXBE9PTwGA6GnhrVu31js9XxAEYfPmzcKLL74o+Pj4CA4ODkK1atWEt99+W0hISBB1bEEoPBVcY+PGjULjxo0FR0dHwcvLS3j99deFO3fu6OyTm5srvPfee0KlSpUEhUKhMyV4+fLlQs2aNQVHR0ehTp06wsqVK/VOGzZ2KridnZ1QtWpVYdSoUUJSUlKh/cX8/4mZCi4IgvD06VNh3LhxQsWKFQVXV1ehZ8+ewu3bt0VPBe/Ro0eh+ArGIgiCcObMGaFt27aCo6OjULVqVWH+/PnCt99+KwAQEhMTizw/hqaC65viXXBa99KlS4V27doJFStWFBwdHYUaNWoIH3zwQaHPzt69e4WwsDDBwcFBqF27trB27VqDU8HHjBmjN06x7wtDx9D3frl586YwdOhQoVKlSoKjo6NQvXp1YcyYMTrTnx8/fixEREQIISEhgoODg+Dt7S20atVKWLRokZCTk6M31oI0nzcvLy+hXLlygr+/vzBgwADh4MGDOvtdu3ZNePXVV7XfeS1atBB27dql95jp6emCs7OzAEBYu3at3n3ExK55L3/++eeFHq9Wq4V58+YJgYGBgqOjo9C4cWNh165deqf3379/X3jttdcENzc3wcPDQxg+fLhw9OhRAYCwYcOGQq9z6NChgp+fn2Bvby9UqVJFeOmll4TNmzeLOp/WRCEIpTBCzgpoqu5qmhg3btyI119/Hf/++2+hPtvy5cvDz88P06ZNQ2RkpM50zDt37iAgIADR0dFo2bJlab6EUpebm4vKlSujZ8+eWL58ubnDIbIIEyZMwNKlS/HkyRMu7UBmsW3bNrz88ss4cuQIWrdube5wzILdUgY0btwYKpUKycnJOvUu8svMzCzUZKn5MjNmRLu12bZtG+7fv69dGJGorHn69KnObJeHDx9izZo1aNOmDRMbKhUF34MqlQrfffcd3N3d0aRJEzNGZl5lOrl58uSJTj98fHw8YmJi4OXlhVq1auH111/H0KFD8cUXX6Bx48a4f/8+9u3bhwYNGqBHjx7o0aMHvvrqK3z66acYNGgQHj9+jI8++giBgYFo3LixGV+ZaR0/fhznzp3D7Nmz0bhxY7Rv397cIRGZRXh4uLZEQ1JSEpYvX4709HRMmzbN3KFRGfHee+/h6dOnCA8PR3Z2NrZs2YK///4b8+bN0zvNvMwwd7+YOWnGXxT80/QP5+TkCNOnTxeCgoIEe3t7wd/fX3j55ZeFc+fOaY+xfv16oXHjxoKrq6tQqVIloVevXsKFCxfM9IpKx7BhwwQ7OzuhadOmhUqRE5UlERERQs2aNQVnZ2fBxcVFaNOmjRAVFWXusKgMWbdundCkSRPB3d1dcHBwEEJDQwstA1MWccwNERER2RTWuSEiIiKbwuSGiIiIbEqZG1CsVqtx7949uLm5lfp6TERERGQcQRDw+PFjVK5cWe8ai/mVueTm3r17CAgIMHcYREREZITbt2+jatWqRe5T5pIbTWny27dvw93d3czREBERkRjp6ekICAjQXseLUuaSG01XlLu7O5MbIiIiKyNmSAkHFBMREZFNYXJDRERENoXJDREREdkUJjdERERkU5jcEBERkU1hckNEREQ2hckNERER2RQmN0RERGRTmNwQERGRTTFrcjN//nw0b94cbm5u8PHxQZ8+fXDp0qUiH7Nq1SooFAqdPycnp1KKmIiIyPxUagHR1x5ie8xdRF97CJVaMHdIFsWsyy/89ddfGDNmDJo3b47c3Fx89NFHePHFFxEXFwdXV1eDj3N3d9dJgri6NxERlRWRsQmYtTMOCWlZ2m3+Hk6Y0TMUXcP8zRiZ5TBrchMZGalze9WqVfDx8cE///yDdu3aGXycQqGAn5+fqcMjIiKyKJGxCRi99jQKttMkpmVh9NrTWDy4CRMcWNiYm7S0NACAl5dXkfs9efIEgYGBCAgIQO/evfHvv/+WRnhERERmo1ILmLUzrlBiA0C7bdbOOHZRwYKSG7VajQkTJqB169YICwszuF/t2rWxYsUKbN++HWvXroVarUarVq1w584dvftnZ2cjPT1d54+IiMjanIhP0emKKkgAkJCWhRPxKaUXlIUya7dUfmPGjEFsbCyOHDlS5H7h4eEIDw/X3m7VqhXq1q2LpUuXYvbs2YX2nz9/PmbNmiV7vERERKUp+bHhxMaY/WyZRbTcjB07Frt27cKBAwdQtWpVSY+1t7dH48aNcfXqVb33R0REIC0tTft3+/ZtOUImIiIqVT5u4mYGi93Plpk1uREEAWPHjsXWrVuxf/9+BAcHSz6GSqXC+fPn4e+vfwCVo6Mj3N3ddf6IiIisTYtgL/h7OMHQ/GAF8mZNtQguetxqWWDW5GbMmDFYu3YtfvnlF7i5uSExMRGJiYl4+vSpdp+hQ4ciIiJCe/vTTz/F3r17cf36dZw+fRqDBw/GzZs38dZbb5njJRAREZUKO6UCM3qGAkChBEdze0bPUNgpzVcexVLq75h1zM3ixYsBAB06dNDZvnLlSgwfPhwAcOvWLSiV/+Vgjx49wsiRI5GYmIgKFSqgadOm+PvvvxEaGlpaYRMREZlF1zB/LB7cpFCdGz8LqHNjSfV3FIIglKk5Y+np6fDw8EBaWhq7qIiIyCqp1AJOxKcg+XEWfNzyuqLM2WJjqP6OJiI56u9IuX5bzGwpIiIiEsdOqUB4jYrmDgNA8fV3FMirv9M51K/UEjCLmC1FRERE1skS6+8wuSEiIiKjWWL9HSY3REREZDRLrL/D5IaIiIiMZon1d5jcEBERkdEssf4OkxsiIiIqEU39HT8P3a4nPw8nWaaBS8Wp4ERERFRiXcP80TnUzyLq7zC5ISIiIllYSv0ddksRERGRTWFyQ0RERDaFyQ0RERHZFCY3REREZFOY3BAREZFNYXJDRERENoXJDREREdkUJjdERERkU5jcEBERkU1hckNEREQ2hckNERER2RQmN0RERGRTmNwQERGRTWFyQ0RERDaFyQ0RERHZFCY3REREZFOY3BAREZFNYXJDRERENoXJDREREdkUJjdERERkU5jcEBERkU1hckNEREQ2hckNERER2RQmN0RERGRTmNwQERGRTWFyQ0RERDaFyQ0RERHZFCY3REREZFOY3BAREZFNYXJDRERENqWcuQMgIiIylkot4ER8CpIfZ8HHzQktgr1gp1SYOywyMyY3RERklSJjEzBrZxwS0rK02/w9nDCjZyi6hvmbMTIyN3ZLERGR1YmMTcDotad1EhsASEzLwui1pxEZm2CmyMgSMLkhIiKrolILmLUzDoKe+zTbZu2Mg0qtbw8qC5jcEBGRVTkRn1KoxSY/AUBCWhZOxKeUXlBkUZjcEBGRVUl+bDixMWY/sj1GJzc5OTm4dOkScnNz5YyHiIioSD5uTrLuR7ZHcnKTmZmJESNGwMXFBfXq1cOtW7cAAO+99x4WLFgge4BERET5tQj2gr+HEwxN+FYgb9ZUi2Cv0gyLLIjk5CYiIgJnz57FwYMH4eT0X1bcqVMnbNy4UdbgiIiICrJTKjCjZygAFEpwNLdn9AxlvZsyTHJys23bNnz//fdo06YNFIr/3jj16tXDtWvXZA2OiIhIn65h/lg8uAn8PHS7nvw8nLB4cBPWuSnjJBfxu3//Pnx8fAptz8jI0El2iIiITKlrmD86h/qxQjEVIrnlplmzZti9e7f2tiah+d///ofw8HD5IiMiIiqGnVKB8BoV0btRFYTXqMjEhgAY0XIzb948dOvWDXFxccjNzcU333yDuLg4/P333/jrr79MESMRERGRaJJbbtq0aYOYmBjk5uaifv362Lt3L3x8fBAdHY2mTZuaIkYiIiIi0RSCIJSp+tTp6enw8PBAWloa3N3dzR0OERERiSDl+i25Wyo9PV3vdoVCAUdHRzg4OEg9JBEREZFsJCc3np6eRc6Kqlq1KoYPH44ZM2ZAqeTqDkRERFS6JCc3q1atwscff4zhw4ejRYsWAIATJ05g9erV+OSTT3D//n0sWrQIjo6O+Oijj2QPmIiIiKgokptWVq9ejS+++AKzZ89Gz5490bNnT8yePRuLFi3Cxo0b8fHHH+Pbb7/Fzz//XOyx5s+fj+bNm8PNzQ0+Pj7o06cPLl26VOzjfv31V9SpUwdOTk6oX78+9uzZI/VlEBERkY2SnNz8/fffaNy4caHtjRs3RnR0NIC8GVWaNaeK8tdff2HMmDE4duwYoqKi8OzZM7z44ovIyMgo8vkHDRqEESNG4MyZM+jTpw/69OmD2NhYqS+FiIiIbJDk2VK1atVC3759Cy2SOXXqVGzduhWXLl3CqVOn0Lt3b9y9e1dSMJrqx3/99RfatWund58BAwYgIyMDu3bt0m5r2bIlGjVqhCVLlhT7HJwtRUREZH1MOltq0aJF6NevH37//Xc0b94cAHDq1ClcvHgRmzdvBgCcPHkSAwYMkBx4WloaAMDLy/BKrtHR0Zg4caLOti5dumDbtm1698/OzkZ2drb2tqHZXkRERGQbJCc3vXr1wqVLl7B06VLt+Jhu3bph27ZtCAoKAgCMHj1aciBqtRoTJkxA69atERYWZnC/xMRE+Pr66mzz9fVFYmKi3v3nz5+PWbNmSY6HiIiIrJPk5AYAgoKCMH/+fFkDGTNmDGJjY3HkyBFZjxsREaHT0pOeno6AgABZn4OIiIgsh1HJDQBkZmbi1q1byMnJ0dneoEEDyccaO3Ysdu3ahUOHDqFq1apF7uvn54ekpCSdbUlJSfDz89O7v6OjIxwdHSXHRERERNZJcnJz//59vPHGG/j999/13q9SqUQfSxAEvPfee9i6dSsOHjyI4ODgYh8THh6Offv2YcKECdptUVFRXJGciIiIABgxFXzChAlITU3F8ePH4ezsjMjISKxevRo1a9bEjh07JB1rzJgxWLt2LX755Re4ubkhMTERiYmJePr0qXafoUOHIiIiQnt7/PjxiIyMxBdffIGLFy9i5syZOHXqFMaOHSv1pRAREZENktxys3//fmzfvh3NmjWDUqlEYGAgOnfuDHd3d8yfPx89evQQfazFixcDADp06KCzfeXKlRg+fDgA4NatWzrLOLRq1Qq//PILPvnkE3z00UeoWbMmtm3bVuQgZCIiIio7JCc3GRkZ8PHxAQBUqFAB9+/fR61atVC/fn2cPn1a0rHElNg5ePBgoW39+vVDv379JD0XERERlQ2Su6Vq166tnQLesGFDLF26FHfv3sWSJUvg7+8ve4BEREREUkhuuRk/fjwSEhIAADNmzEDXrl2xbt06ODg4YNWqVXLHR0RERCSJ5OUXCsrMzMTFixdRrVo1eHt7yxWXyXD5BSIiIusj5fotqVvq2bNnqFGjBi5cuKDd5uLigiZNmlhFYkNERES2T1JyY29vj6ysLFPFQkRERFRikgcUjxkzBgsXLkRubq4p4iEiIiIqEckDik+ePIl9+/Zh7969qF+/PlxdXXXu37Jli2zBEREREUklObnx9PTEK6+8YopYiIiIiEpMcnKzcuVKU8RBREREJAvJY24AIDc3F3/++SeWLl2Kx48fAwDu3buHJ0+eyBocERERkVSSW25u3ryJrl274tatW8jOzkbnzp3h5uaGhQsXIjs7G0uWLDFFnERERESiSG65GT9+PJo1a4ZHjx7B2dlZu/3ll1/Gvn37ZA2OiIiISCrJLTeHDx/G33//DQcHB53tQUFBuHv3rmyBERERERlDcsuNWq2GSqUqtP3OnTtwc3OTJSgiIiIiY0lObl588UV8/fXX2tsKhQJPnjzBjBkz0L17dzljIyIiIpJM8sKZd+7cQZcuXSAIAq5cuYJmzZrhypUr8Pb2xqFDh+Dj42OqWGXBhTOJqCxSqQWciE9B8uMs+Lg5oUWwF+yUCnOHRSSalOu3UauC5+bmYsOGDTh37hyePHmCJk2a4PXXX9cZYGypmNwQUVkTGZuAWTvjkJD239qA/h5OmNEzFF3D/M0YGZF4Jk1usrKy4OTkVKIAzYnJDRGVJZGxCRi99jQKftFr2mwWD27CBIesgpTrt+QxNz4+Phg2bBiioqKgVquNDpKIiExLpRYwa2dcocQGgHbbrJ1xUKklN+ATWTTJyc3q1auRmZmJ3r17o0qVKpgwYQJOnTplitiIiKgETsSn6HRFFSQASEjLwon4lNILiqgUSE5uXn75Zfz6669ISkrCvHnzEBcXh5YtW6JWrVr49NNPTREjEREZIfmx4cTGmP2IrIVRa0sBgJubG9544w3s3bsX586dg6urK2bNmiVnbEREVAI+buLGR4rdj8haGJ3cZGVlYdOmTejTpw+aNGmClJQUfPDBB3LGRkREJdAi2Av+Hk4wNOFbgbxZUy2CvUozLCKTk5zc/PHHHxg2bBh8fX0xevRo+Pr6Yu/evbh58yYWLFhgihiJiMgIdkoFZvQMBYBCCY7m9oyeoax3QzbHqDE3T58+xc8//4zExEQsXboU7dq1M0VsRERUQl3D/LF4cBP4eeh2Pfl5OHEaONksyQtnJiUlcQ0pIiIr0jXMH51D/VihmMoMycmNm5sbVCoVtm3bhgsXLgAAQkND0bt3b9jZ2ckeIBERlZydUoHwGhXNHQZRqZCc3Fy9ehXdu3fH3bt3Ubt2bQDA/PnzERAQgN27d6NGjRqyB0lEREQkluQxN+PGjUONGjVw+/ZtnD59GqdPn8atW7cQHByMcePGmSJGIiIiItEkt9z89ddfOHbsGLy8/ps6WLFiRSxYsACtW7eWNTgiIiIiqSQnN46Ojnj8+HGh7U+ePIGDg4MsQRERUdmgUgsc6Eyyk5zcvPTSSxg1ahSWL1+OFi1aAACOHz+Od955B7169ZI9QCIisk2RsQmYtTNOZ/0rfw8nzOgZyinqVCKSx9x8++23qFGjBsLDw+Hk5AQnJye0bt0aISEh+Oabb0wRIxER2ZjI2ASMXnu60MKeiWlZGL32NCJjE8wUGdkCyS03np6e2L59O65evaqdCl63bl2EhITIHhwREdkelVrArJ1xEPTcJyCvevKsnXHoHOrHLioyiqTkJj09HeXLl4dSqURISIg2oVGr1UhPT4e7u7tJgiQiIttxIj6lUItNfgKAhLQsnIhPYW0eMorobqmtW7eiWbNmyMoq/IZ8+vQpmjdvjp07d8oaHBER2Z7kx4YTG2P2IypIdHKzePFifPjhh3BxcSl0n6urK6ZMmYLvv/9e1uCIiEgalVpA9LWH2B5zF9HXHkKl1tf5Y14+bk7F7yRhP6KCRHdLxcbG4scffzR4f7t27fDJJ5/IEhQREUlnLbOPWgR7wd/DCYlpWXrH3SiQt7Bni2AvPfcSFU90y82jR4+Qm5tr8P5nz57h0aNHsgRFRETSWNPsIzulAjN6hgLIS2Ty09ye0TOUg4nJaKKTm6CgIJw6dcrg/adOnUJgYKAsQRERkXjFzT4C8mYfWVIXVdcwfywe3AR+HrpdT34eTlg8uIlFtTSR9RHdLdW3b198/PHH6Ny5M3x9fXXuS0xMxCeffILBgwfLHiARERXNWmcfdQ3zR+dQP1YoNgIrOxdNdHIzdepUbN++HTVr1sTgwYO1K4JfvHgR69atQ0BAAKZOnWqyQImISD9rnn1kp1RYVMJlDaxlbJU5iU5u3NzccPToUURERGDjxo3a8TWenp4YPHgw5s6dCzc3N5MFSkRE+nH2UdmhGVtVsINRM7aKXXp5FIIgSO6EFQQBDx48gCAIqFSpEhQK62kKS09Ph4eHB9LS0lh0kIhsgkotoM3C/cXOPjoypSO7LqyY5v/ZUBekrf8/S7l+S15bCgAUCgUqVaoEHx8fq0psiIhsEWcflQ1SxlaVdUYlN0REZFk4+8j2WfPYqtImeeFMIiKyTJx9ZNs4tko8ttwQERFZAU1lZ0OpqgJ5s6ZY2bmELTdZWVlwcmKGSERkCThF2LZpxlaNXnsaCkBn8DjHVumS3HKjVqsxe/ZsVKlSBeXLl8f169cBANOmTcPy5ctlD5CIqKwxZvFLa1p+gYzHsVXiSG65mTNnDlavXo3PPvsMI0eO1G4PCwvD119/jREjRsgaIBFRWWJM60txyy8okLf8QudQP/6qtwEcW1U8yS03P//8M3766Se8/vrrsLOz025v2LAhLl68KGtwRERlibGtL5wiXPZoKjv3blQF4TUqMrEpQHJyc/fuXYSEhBTarlar8ezZM1mCIiIqa0qy+CWnCBPpkpzchIaG4vDhw4W2b968GY0bN5YlKCKisqYkrS+cIkykS/KYm+nTp2PYsGG4e/cu1Go1tmzZgkuXLuHnn3/Grl27TBEjEZHNK0nri2aKcHHLL3CKMJUVkltuevfujZ07d+LPP/+Eq6srpk+fjgsXLmDnzp3o3LmzKWIkIrJ5JWl94fILRLqMKuLXtm1bREVFITk5GZmZmThy5AhefPFFycc5dOgQevbsicqVK0OhUGDbtm1F7n/w4EEoFIpCf4mJica8DCIii1HSAm2cIkz0H8ndUidPnoRarcZzzz2ns/348eOws7NDs2bNRB8rIyMDDRs2xJtvvom+ffuKftylS5d0VgT18fER/VgiIjFyctVYE30DN1MyEejlgiHhQXAoZ7qi7nIUaOMUYaI8kpObMWPG4MMPPyyU3Ny9excLFy7E8ePHRR+rW7du6Natm9QQ4OPjA09PT8mPIyISY/6eOCw7HI/8E5Pm7rmAkW2DEdE91GTPq2l9KVjnxk9ClWHNFGGiskxychMXF4cmTZoU2t64cWPExcXJElRxGjVqhOzsbISFhWHmzJlo3bq1wX2zs7ORnZ2tvZ2enl4aIRKRlZq/Jw5LD8UX2q4WoN1u6gSHrS9EJSO5jdXR0RFJSUmFtickJKBcOdMuMu7v748lS5bgt99+w2+//YaAgAB06NABp0+fNviY+fPnw8PDQ/sXEBBg0hiJyHrl5Kqx7HDhxCa/ZYfjkZOrNmkcLNBGVDIKQRCKX7Qkn0GDBiEhIQHbt2+Hh4cHACA1NRV9+vSBj48PNm3aZFwgCgW2bt2KPn36SHpc+/btUa1aNaxZs0bv/fpabgICApCWlqYzboeIaPnh65i9+0Kx+03rURcj2lYvhYiISCM9PR0eHh6irt+Sm1oWLVqEdu3aITAwUFu0LyYmBr6+vgYTDFNq0aIFjhw5YvB+R0dHODo6lmJERGStbqZkyrqfsVRqgd1SRCUgObmpUqUKzp07h3Xr1uHs2bNwdnbGG2+8gUGDBsHe3t4UMRYpJiYG/v6c4khEJRfo5SLrfsYwZuFMItJl1CAZV1dXjBo1qsRP/uTJE1y9elV7Oz4+HjExMfDy8kK1atUQERGBu3fv4ueffwYAfP311wgODka9evWQlZWF//3vf9i/fz/27t1b4liIiIaEB2HungvQs3yTllKRt58paBbOLPj0Cf+/cCbr1RCJY1Ryc+XKFRw4cADJyclQq3UH1k2fPl30cU6dOoXnn39ee3vixIkAgGHDhmHVqlVISEjArVu3tPfn5ORg0qRJuHv3LlxcXNCgQQP8+eefOscgIiqOoRo2DuWUGNk2WO9sKY2RbYNNUu+mqIUzgby6N7N2xqFzqB+7qIiKIXlA8bJlyzB69Gh4e3vDz88PCsV/HzKFQlHkzCVLIGVAEhHZHn01bJQK6NSwEbOP3KKvPcSgZceK3W/9yJasY0NlkkkHFM+ZMwdz587FlClTjA6QiMgcxNawiegeikkv1inVCsWJaU9l3Y+oLJOc3Dx69Aj9+vUzRSxERCYjtobNpBfraLuoSnO6d0pGjqz7EZVlkn+G9OvXjwN4icjqrIm+UeRAYSCvBWdN9I1Siacgr/LiSlaI3Y+oLJPcchMSEoJp06bh2LFjqF+/fqHp3+PGjZMtOCIiuVhKDRtD/Nydit9Jwn5EZZnk5Oann35C+fLl8ddff+Gvv/7SuU+hUDC5ISKLZAk1bIrSItgL/h5OOvVtCvL3yCvoR0RFk5zcxMcX3WdNRGSJzF3Dpjh2SgVm9AzF6LV5M07zh6mZkzqjZyingROJYLqh/0REpSwnV43lh69j+vZYLD98XWeBS00Nm6KYqoaNWF3D/LF4cBP4eeh2Pfl5OLGAH5EEkuvcAMCdO3ewY8cO3Lp1Czk5uiP3v/zyS9mCMwXWuSGyTWJr05ijho1UXFuKqDAp12/Jyc2+ffvQq1cvVK9eHRcvXkRYWBhu3LgBQRDQpEkT7N+/v0TBmxqTGyLbolILmLDhNHaeSzS4z9vtdBMXQxWKichySbl+S/40R0REYPLkyTh//jycnJzw22+/4fbt22jfvj3r3xBRqYqMTUDrBfuLTGyAvPo1+buo7JQKhFb2QNPACgit7MFWESIbI3lA8YULF7B+/fq8B5crh6dPn6J8+fL49NNP0bt3b4wePVr2IImICjK0yKQ+mvo1I9pW56rbRGWA5JYbV1dX7Tgbf39/XLt2TXvfgwcP5IuMiMiA4haZ1OdmSqY2ISo43Trx/1fdjoxNkDdQIjILyS03LVu2xJEjR1C3bl10794dkyZNwvnz57Flyxa0bNnSFDESEek4EZ9SZD0YfQIquBhMiATkTbfmqttEtkFycvPll1/iyZMnAIBZs2bhyZMn2LhxI2rWrGnxM6WIyDYkP5aW2CgVQB0/tyITIgFAQloWTsSncNVtIisnKblRqVS4c+cOGjRoACCvi2rJkiUmCYyIyBAfN2lLEIxsG4yUTHELTkpNnIjI8kgac2NnZ4cXX3wRjx49MlU8RETFahpYAWJ6jhT4bxq42IRIauJERJZH8oDisLAwXL9+3RSxEBGJ8s/NR8Wu8A0AP7/ZQlvfRrN2k6GcSAGu3URkKyQnN3PmzMHkyZOxa9cuJCQkID09XeePiMjUxHYd5e+K0qzdBKBQgsO1m4hsi+QBxd27dwcA9OrVCwrFf18CgiBAoVBApVLJFx0RkR7GdjFp1m4qWOfGzwLq3HDJBSL5SE5uDhw4YIo4iIhE04y5KW6F76aBFQpt7xrmj86hfhaVSLCwIJG8JCc37du3N0UcRFSGSW21EDPmRi3k7advWredUmEx070NVVrWFBbkauBE0klObg4dOlTk/e3atTM6GCIqe4xptRA75sbSp3UXVWmZhQWJjCc5uenQoUOhbfnH3nDMDRGJZWyrhdQxN5Y6nqW4SsssLEhkHMnJTcEaN8+ePcOZM2cwbdo0zJ07V7bAiMi2laTVQjOtOzEtS+/jFcgbJNwi2Muix7PYSgsUkaWRPBXcw8ND58/b2xudO3fGwoUL8eGHH5oiRiKyQVJaLQoSO607Ki7RohfKZGFBItOQnNwY4uvri0uXLsl1OCKycSVttdBM6/bz0L3w+3k4YfHgJugc6ldkyxCQ1zKkElMN0ERKs7CgSi0g+tpDbI+5i+hrD836uolMTXK31Llz53RuC4KAhIQELFiwAI0aNZIrLiKycXK0WhQ1rTv62kOLH8+iaYEavfY0FIBOIiZnYUFL7pojMgXJyU2jRo2gUCggCLpZf8uWLbFixQrZAiMi2yZl3ExRDE3rtpbxLKYuLMip5lQWSU5u4uPjdW4rlUpUqlQJTk7sEyYi8UzdaiG2ZejB42yo1IJZZ0+ZqrAgp5pTWaUQCjbBGCE1NRWenp4yhGN66enp8PDwQFpaGtzd3c0dDlGZZ6ouE5VaQJuF+w22DOVnS100+ae9P3icjdm7LxT7mPUjW3KqOVk8KddvyS03CxcuRFBQEAYMGAAA6N+/PzZv3gx/f3/s2bMHDRs2NC5qIrIZUurKmKrVoqiWoYJspYtGX6Iohrm75ojkJjm5WbJkCdatWwcAiIqKQlRUFCIjI7Fp0yZ88MEH2Lt3r+xBEpH1MKYlxlTLIRgaz1KQLXTRGBpbIwanmpOtkTwVPDExEQEBAQCAXbt2oX///njxxRfx4Ycf4uTJk7IHSETWQ3OBtaS6Ml3D/HFkSkdM61G3yP2Kqqtj6YoaW1MUOaeaE1kSyclNhQoVcPv2bQBAZGQkOnXqBCBvSjiXXiAqu4obvAqYr66MnVIBbzdHUftaYxdNcQUR9ZFzqjmRpZHcLdW3b1+89tprqFmzJh4+fIhu3boBAM6cOYOQkBDZAyQi62Dp6yRZajVgOda9MiYhk2uqOZElkpzcfPXVVwgKCsLt27fx2WefoXz58gCAhIQEvPvuu7IHSETWwdLryshVV0dOcs0Uk5KQeTrb443WQRjbsSZbbMhmyTIV3JpwKjiRPHJy1VgTfQM3UzIR6OWCWr5uGLLiRLGPM+e0Y82YIEB/XZ3SnC1laACwMbFImfZujtdKJAeTTgUHgCtXruDAgQNITk6GWq3WuW/69OnGHJKIrMj8PXFYdjge+YfPKBWAi4MdnuaoLKZlpCBTVwMWS+7ielKmvdvCzDCi4khObpYtW4bRo0fD29sbfn5+UCj++2AoFAomN0Q2bu7uvMSmILUAZObkTSow5TpJJSWlro4c42H0McX4JLHT3o09PpE1kZzczJkzB3PnzsWUKVNMEQ8RWbBdMff0Jjb5KRSAT3lHJD3O1m6ztMGrYurqmHKxSVONT9Ikbl9FXcL3B67JfnwiayE5uXn06BH69etniliIyIJFxiZg7IYzxe4nCMBbbasjrIqH7C0epcXUi02acuaWnVKB1iGVRCU3LN5HtkpynZt+/fqxCjFRGaMZIyLW7UeZCK9REb0bVUGjAE/M3BGLIcuPY9q283iaY9n1sEqjXo9m5pahdK+kxfVMfXwiSye55SYkJATTpk3DsWPHUL9+fdjb2+vcP27cONmCIyLLILVIXKCXCwBg5M8nERWXrN1++Aqw5tgtdA71wbKhzWWPUw6lUa/H1Cuim/r4RJZO8lTw4OBgwwdTKHD9+vUSB2VKnApOJE7+wbRXkp7g+wNXRT1OqQAuzu6GMb/8o5PYFFTLtzx2vdcWDuUkNyCb1PaYuxi/IabY/b4Z2Ai9G1Up0XOZclxPaRyfqDSZdCp4fHzRgwmJyPrtOXcPn2yPRUrGM8mPHdk2GCq1UGRiAwCXk56g1ie/o2cDP3w9sInFtCKUZiVjU62IXlrHJ7JURtW5ISLbNX9PHJYeMu5HzMi2wYjoHopPtp4X/Zid5xKx/+If+KJ/Q4toTSjtSsamWhG9tI5PZIlEJzcTJ04Utd+XX35pdDBEZF57ziUYndh8P7AxXmpUGQBw9k6qpMdm5KhkmYUkB45XIbJ+opObM2eKnwKav6AfEVkPlVrAsWsP8eFvZyU/Vt8YDncn+yIeoZ+A0qmaK6Ywn6VUMiYi44hObg4cOGDKOIjIDFRqAd/8eRk/Hb6OrGfq4h/w/8Y+XwM1fd0MJgej2lTH0WsPJcdj6qq5UgbYluXxKqaqzExUWjjmhqiMioxNwPgNMcjOFZ/UaLQOqVRkAtKmdiU4lFMix4hjm6pqrjGF+crieBXOsCJbYFlzMImoVETGJuCdtaeNSmy8XO2LHUxrp1Tg24GNjIrNFFVzS6Mwny3QJIAF6/xoEsDI2AQzRUYkDZMbojJGpRYwc4f4asMFzekdJqqLomuYP5YMbgKf8uLG35iyaq6UwnxlFRNAsiVMbojKmBPxKUhMN67r56UG/ujeoLLo/buG+SP6o85YP7IlOtapZHA/U89CMtVClbaECSDZEo65ISoD7qdn4+UfjyAl4xkc7Y3/TdM51FfyYzTjVsJrVEROrhofbTmHPbGJyMy3xpSpZyGVZmE+a8UEkGyJ5OTm3LlzercrFAo4OTmhWrVqcHR0LHFgRCSP+jP/wOOsXO3tzGfGL1z54HE2VGrB6NYVh3JKLOrfCAtfLd3ZOKVdmM8aMQEkWyJ5bSmlUllkPRt7e3sMGDAAS5cuhZOT5X0IuLYUlSW1Pt6DHJW8YySsdeaMZrAsoL8wnyUUEDQnlVpAm4X7i00Aj0zpyGnhZBZSrt+S26e3bt2KmjVr4qeffkJMTAxiYmLw008/oXbt2vjll1+wfPly7N+/H5988kmxxzp06BB69uyJypUrQ6FQYNu2bcU+5uDBg2jSpAkcHR0REhKCVatWSX0JRGVCxG8xsic2gPXOnNEU5vPz0P3R5efhVOYTG+C/yszAfwmfBiszk7WR3C01d+5cfPPNN+jSpYt2W/369VG1alVMmzYNJ06cgKurKyZNmoRFixYVeayMjAw0bNgQb775Jvr27Vvsc8fHx6NHjx545513sG7dOuzbtw9vvfUW/P39deIhKstUagFf/3kJ60/eNcnxBeRd7IypJmzu4nBluTCfGKzMTLZCcreUs7Mzzpw5gzp16uhsv3jxIho3boynT5/ixo0bCA0NRWZmpvhAFAps3boVffr0MbjPlClTsHv3bsTGxmq3DRw4EKmpqYiMjBT1POyWIlulUgv4fv8VLD10XWewbnEc7RToXt8fGTkqNA+qgMEtg/DL8ZuYvftCsY8d0rIapr1UDw7lim8EZnE462HuJJRIHynXb8ktN3Xq1MGCBQvw008/wcHBAQDw7NkzLFiwQJvw3L17F76+0mdVFCc6OhqdOnXS2dalSxdMmDDB4GOys7ORnZ2tvZ2eni57XETmtvPsPXy4+SyeSlhCQaOSmyO+GthYZ5u3m7hJAWuO3cK647e0q4EbYkx1YDKfsliZmWyL5OTmhx9+QK9evVC1alU0aNAAAHD+/HmoVCrs2rULAHD9+nW8++678kYKIDExsVDS5Ovri/T0dDx9+hTOzs6FHjN//nzMmjVL9liILMXIn08iKi7Z6MdvfbdNoW1SZsSoBWhXEteX4BRXHM7YLq7SlJOrxproG7iZkolALxcMCQ8S1VpFROYhOblp1aoV4uPjsW7dOly+fBkA0K9fP7z22mtwc3MDAAwZMkTeKEsgIiICEydO1N5OT09HQECAGSMiks/sXf+WKLFxcyqHSu6FW2laBHvBz91JUrG/nw7HY9KLdQpd9KUUh7PE1oL5e+Kw7HA88hfmnbvnQrGtVfqwu4eodBhVxM/NzQ3vvPOO3LEUy8/PD0lJSTrbkpKS4O7urrfVBgAcHR1Zd4ds0q6Yu1h+5IbRj3ewU+D8TP0D8e2UCgxqUQ1f/XlZ9PEEAVj99w2MbFddZ7s1F4ebvydO2yqVX3GtVfpwzBFR6TEqubly5QoOHDiA5ORkqNW6ffzTp0+XJTB9wsPDsWfPHp1tUVFRCA8PN9lzElmiyNgEjN0QY/TjBzWvgvmvNCpynyBvF8nHPXkjpVByY63F4XJy1Vh2uHBik98yA61VBXHMEVHpkpzcLFu2DKNHj4a3tzf8/Px0CvopFApJyc2TJ09w9epV7e34+HjExMTAy8sL1apVQ0REBO7evYuff/4ZAPDOO+/g+++/x4cffog333wT+/fvx6ZNm7B7926pL4PIKqnUAo5df4ipv503+hjfD2yElxpVKXY/Y5INFwe7QtustTrwmugbKG6NSLWQt9+IttUN7mMLY46IrI3k5GbOnDmYO3cupkyZUuInP3XqFJ5//nntbc3YmGHDhmHVqlVISEjArVu3tPcHBwdj9+7deP/99/HNN9+gatWq+N///scaN1Qm7Dh9F1O2njNqRhQAeLrYY0Hf+qJbCIpLSvR5pXHVQts0xeFGrz0NBfRXB7bE4nA3U8SVsihuP2sfc0RkjSQnN48ePUK/fv1kefIOHTqgqDI7+qoPd+jQAWfOnJHl+YmswdMcFVot2IdHmc+MeryzvRLvtA/B2I4hkhKI/EmJGC4OdmhV01vvfdZYHC7QS1y3XHH7WfOYIyJrJTm56devH/bu3WuWAcVEZU1Jp3k3DfTEprdbGd0qYigp0efL/g2LfB5rqw48JDwIc/dcKLJrSqnI268o1jrmiMiaSU5uQkJCMG3aNBw7dgz169eHvb29zv3jxo2TLTiisqykiU2HWt54u31IiePIn5RExSViy+k7SH363yrjvm4OmNU7TFTrizUVh3Mop8TItsF6Z0tpjGwbXOxgYmsdc0RkzSQvvxAcHGz4YAoFrl+/XuKgTInLL5A1SHmSgyZzomQ5ltzTjctarRZ9dW6UCkiqc8MVyYlKTsr1W3JyY+2Y3JClK2mLTUG8gJacHBWKranOTVlLYMk6MLkpApMbsmTGJjZKRV4RPUMfZk3Xx5EpHUu8ijeQNwMoMe0pUjJy4FXeEX7uvACKYQ1JgzUlYVS2yL5w5sSJEzF79my4urrqLGWgz5dffik+UiLSepqjMrrFprh6LMZMN9Z3kfN0yRtjl6pn5hYvgMWz9DFHLDZItkJUcnPmzBk8e/ZM+29D8hf0IyJp+v541OTPIXa6saGLnL6kRiPBQi+A1tBaYglYbJBsiajk5sCBA3r/TUQll5OrRsRvZ3Eh8bHJn0vMdOOiLnJiWNIFkF0s4rHYINkSo9aWIqKSe5KVix7fHMLNR09L5fn8RU43Lu4iVxRLugCyi0UaFhskWyIquenbt6/oA27ZssXoYKwZm75JLJVaQOcvD+L6A3Hl/QtqH1IBPRsFYPLmc5IeJ3aJAzkuXvmPYY7PBrtYpGOxQbIlopIbDw8P7b8FQcDWrVvh4eGBZs2aAQD++ecfpKamSkqCbAmbvkmsyNgEjFl3Gioj+3zKKRVY8WY4TsSniH6MUgF8P6ix6PeiHBcvzTHM9dlgF4t0jzKyoVQYHpzOYoNkTUQlNytXrtT+e8qUKejfvz+WLFkCO7u8FYBVKhXefffdMjm1mk3fJNbW03fw/qazJTrGtwMbwU6pkLSo5feDmqB7A/HvQWMWzNTIfwE052eDXSzSRMYmYMwvZ4r9/7bEBU6J9JFWhQrAihUrMHnyZG1iAwB2dnaYOHEiVqxYIWtwlq64pm8gr+lbVdw8XbJ5vb47XOLEZmTbYHRvUBnAf4taAv8V6Suogos9lgyWltiIPXZRNI8152eDXSziiRlArlQAP7zGH2pkPSQnN7m5ubh48WKh7RcvXoRarZYlKGshpembyqacXDXC5/+Jc3fTS3SckW2D8XEP3VL/mkUt/Tx0L9CezvZ4v1NN/D31Bdx99BTTt8di+eHryMkV//k0dOwKLvbaWjcF+Xs4aVtjzP3Z0LQ+GUrOFBA/wNrWiRlArhaACq4OpRQRUclJni31xhtvYMSIEbh27RpatGgBADh+/DgWLFiAN954Q/YALRmbvqko+tYkMkaLQE90rOMLlVoo1CVgaKXtzyIvoN6MSJ3nnrvnguj1kFRqAR7ODviwS+1CVYiB4isUm/uzoWl9Gr32NBTQv54Tu1jymPv/isgUJCc3ixYtgp+fH7744gskJCQAAPz9/fHBBx9g0qRJsgdoydj0TYbM3Z2X2MjhxM1UDFp2zOBA3IJVb+fvidO7krVagHZ7UQlOUYOANclAcYNwLeGzoWl9Kvha/DjYX4cl/F8Rya1Ea0ulp+c1tVvTQGI515ZSqQW0Wbjf4MBLY9fzIeu2K+Yexm4wXMnbWIYWwMw/1drLxQHDVp4osrVIqQAuzu6md+FHQ4OANd7vVAtjO4YU+36W87NR0qnkLNNQNH6PkbXgwplFkHvhTM3FANDf9M3ZUmXH0xwVRqw6jr+vPzLZcxS80OhrZRFjWo+6GNG2us42zUWuuGP5uTtiZq96xb6v5fhsyDWVnAlO0fg9RtZA9uSmcePGoteNOn36tLgozcQUq4Kzzg0Zu5p3fi72SqgEIFvEwN/1I1si7WlOka0sRRkaHohPe4fpbIu+9hCDlh0T9XgFTJ+cGGpFknrB5edTHJ4nsnSyrwrep08fOeKyWYYGdfKXYdnw1uoT+PPC/RIdw92pHB5n5YpOVBLTnuKzPy4Zvf5ToJdLoW1SBowKEFfh19jPhlwVhlmHSjx+j5EtEZXczJgxw9RxWL2CgzqpbPjtnzslTmwW9a2PL/ZdQXpWrujHpGTkGL3+kwLAkPCgQtulDhhNSMvCqqPxGN46uMgLoDGfDTkqDHMJBun4PUa2QnKdGyLKM/Lnk5j0q3GF+RQAlg9uimvzuqNKRVfRiYqmPksFF+Nrjui72OfkqhF7Nw0u9nZ67jVs9u4LaLNwPyJjE4yORx85piebu9YOEZmPqJYbLy8vXL58Gd7e3qhQoUKR429SUvhFQbbtaY4KL39/BBeTnxh9jB9ea4IXwvwASK8f0quhP+bsiTP6uQFgTfQN7YDiktbjMUUXjxzTk1m/hajsEpXcfPXVV3BzcwMAfP3116aMh8iijVh1HPsuPijRMd5uF6yzJILYC7mXqz36Na2Knw7FGz3WRuNmSt6K5IZq4khhii6e4ta3ErOII+u3EJVdopKbYcOG6f03UVnSZkEU7qTmGP14F3slFvVrqF0fSkPMQpXuTuUwtWsdzN5d9BpAYgV6uSAnVy1boUG5V9mWo8KwHAkSEVknyRWKb926VeT91apVMzoYIksVNv13PMkxfu00XzcH/B3RSXsxzslVY030DdxMyUSglws+6l4X49afKXQh10jPysWHv503+vnzUyryBhSvib5R4qUhCpKzi6eoCsMRXWrj6NUHWHf8FoIquuCj7qFwdtAdL8QlGIjKLsnJTVBQUJFjblQqVYkCIrI01afuRkmWhK1U3gHHP+6sva1vjIsCQNNAT1xNzkDq02cleLbijWwbDIdySm3XlJwePM7G9pi7sk0j1jc9efmR6xiXb4X1w1eANcduoXOoD5YNbV7o8VyCgajskZzcnDmjW1b+2bNnOHPmDL788kvMnTtXtsCILEHQ1N0lPkY5O6V20UtDY1wEAKdupmpvuzuVQ45KjaxnJUmrdCkV0C6cqVILkLs4uQJ5s6c05CoAl3968sifT+LPC/qLJUbFJWPkzyf1Jjis30JUtkhObho2bFhoW7NmzVC5cmV8/vnn6Nu3ryyBEZmTSi2g1sd7ZDmWZixK08AKose4SKl5U5QhLatBoVAg0MsFQ8KD4FBOafSSDcUxdaG8pzmqYqtAR8Ul42mOSm8XFeu3EJUdstW5qV27Nk6ePCnX4YjMZs+5e6g3bQ9UMjZsJD/OMskYl6J4utijaz1/zOhZDyPaVtcmNqPXnpac2Hi52kt+fs1LnbUzDioZXvg8kdPfxe5HRLZLcsuNZiVwDUEQkJCQgJkzZ6JmzZqyBUZU2p7mqPDKj0cRl/hY9mP7uDnhn5umW1BTn9TMZ3h9+XFt91DnUD+DFXsLUiqA7vX90TnUFz5uTkhMz8L7G2MkxyDnLKobD8WNERK7HxHZLsnJjaenZ6EBxYIgICAgABs2bJAtMKLSNGLVSey7WLKFLw3xdLFHi2AvxN1LM8nxlQoU2SKk6R6a0KmmqBYbZ3slTk97UadrJ/rawxLFKMcsqqCKLjh8Rdx+RFS2SU5uDhw4oHNbqVSiUqVKCAkJQblykg9HZHZt5kfhTprx9WuKo/kpMCQ8CHP3XJC1a0oB4PtBjeHh4oAx607rnWmlKbK38ugNUcd8+kyNmNupOi0tmpoxxo7TkaNQ3kfdQ7HmWNGlKDT7EVHZJjkbad++vSniIDKLpp/+gYeZ8gzeNeRR5jNtt8zItsElrgiskX82UvS1h0VOIRcASVPMC7a02CkV6NXQX3LsYgrlqdSCqJlMzg526BzqU+Sg4s6hPoUGExNR2SM5uXn48CEqVsz7RXf79m0sW7YMT58+Rc+ePdGuXTvZAyQyhac5KjSY+QeeldIIX02yEPH/rQolWcsJAKb1qIsh4UH45+YjbI+5iytJxq9zpU/BlhaVWsCOs8YtjllUoTx9M7eKmkK+bGhzjPz5pN4ER1+dGyIqmxSCyGIX58+fR8+ePXH79m3UrFkTGzZsQNeuXZGRkQGlUomMjAxs3rwZffr0MXHIJZOeng4PDw+kpaXB3d3d3OGQGby1+gT+vHC/VJ9z7PMhaB3irW2VeJqjwrw9cbjxMBMKAJcSHyPpcbbo49Wv4oYHT57JPp0byEsujkzpqJOQRF97iEHLjkk6Tv66OvpoZm4V/ALSPGtRU8jznz9DFYqJyLZIuX6LTm66deuGcuXKYerUqVizZg127dqFLl26YNmyZQCA9957D//88w+OHZP2BVjamNyUbT2/O4zzd9OL39FE/D2c0KuhP3acTdCtmOvuhEEtqiHI2wU/R9/AP/kK+pUmBfQnFdtj7mL8hhjJx4KB46nUAtos3G8wOdN0ZxVMsoio7JJy/RZd5+bkyZOYO3cuWrdujUWLFuHevXt49913oVQqoVQq8d577+HixYslDp7IVIb975hZExsgb1r00kPxhS7qSelZ+PrPy7BXKnDtfoZZYvN0sTfYWmLMgOCi6tyciE8pstUp/xTy0qBSC4i+9hDbY+4i+tpDWeryEJH5iB5zk5KSAj8/PwBA+fLl4erqigoVKmjvr1ChAh4/lr8+CJEcGkzfjXTTTYgqMc2Mpg9/O4cn2eZZn+2HQU3Quqa33vuMnS1lqM6N2Knhci7EaYjUcT9EZPkkVSguWN+mqAU0iSxF8FTLTmw0BMAsiY0CeRfzlkUU2bNTKhBWxfhu3IJJitiWIDmmkBfFUMVmTW2gyFjjBlETkXlJmi01fPhwODo6AgCysrLwzjvvwNXVFQCQnS1+MCRRacjJVaPWJ7+bOwyLJ6DoGU1A3rncZ2DBSjEKJimalqDEtCy9FZPFTCEvKZVaMFixWdOSNmtnHDqH+nHcD5GVEZ3cDBs2TOf24MGDC+0zdOjQkkdEJIPp28/j5+jiC74R8GbrIHQN8y+y3oyx62IZSlLslArM6BmK0WtPQwHdRTc1aURxCVdJSRn3w0U3iayL6ORm5cqVpoyDSDb1pv2OjGdqc4dR6gomCWJ1DvUrdtzJzRTp6zUVl6R0DfPH4sFNCj2vXymNd7GkcT9EJC+ul0A2pXrE7hIvb2BsklCaGlR1x/3HOTpJgZerAx5mSBtc5OfuiEcZORjzS+F6M5pxJ4sHN0Ggl/T1msQkKV3D/NE51E9UhWK5Wcq4HyKSH5MbsglPsnIRNvMPWY5lp1QgV6apwAUXtXSxV2JAiwBExibpJCbFLX5Z0LsdQgolBYlpT/H+prOS4pv+Uihm7zY87gQAPtp6Hh91qwuFAhBXFSuvgvLw1sGikhQ7pcIs3T6WMO6HiExD0mwpIkvU45uDsiU2AGRLbBQAwirrzjDKfKbGyqM3Ua+yO9aPbIk3WwcBkJbYAHkDXQEgvEZF9G5UBeE1KsLPw1n0410d7fDja41RwdWx2OndKRnPMHnzOdGJDQB4uzlaxSDcgc0DDCY2gOnH/RCRabDlhqxanWm/I8tCx9f4uTvhnIGigX/+/8yjf+8ZV1QwIS0Lf199gMtJj3EzJROBXi547blA0bVoMrJV+GT7v6hfxcOo5y+OpXfl6BtjlF9pjfshItMQvfyCreDyC7ajyad/IMXEK3pbsoJjg5QKIMDLGTcfPjVXSFaxbIKhNa003u9UC2M7hlhs/ERllZTrt6iWmx07doh+8l69eonel8gYOblqhE37HTllKi0vrODLVwswe2IDWHZXTlG1bYC817Dh5C2M7RhSmmERkcxEJTdiV/pWKBRQqcxTOt7ccnLVWBN9Q9tFMCQ8CA7lOKRJbvP3xGHpoXhzh0EAPJ3tkfr0mfa2NXTlsLYNUdkgKrlRqy1zTIOlmL8nDssOx+sMCp275wJGtg1GRPdQ8wVmY1iYz7L88FoTKJWKUp/CXRKsbUNUNnBAcQkZaklQC9BuZ4JTcq0X/Im7qSVf4qOalzNupZiv68YQS6qtM7hlNew5n4hHGTlFTpFuWaOixSczBbG2DVHZYFRyk5GRgb/++gu3bt1CTo5u0bBx48bJEpg1yMlVY9nhortIlh2Ox6QX67CLykg5uWrU/uR3WS78FV0d0LamN9Ydvy3D0eTzfqea2HDytuQVt02lR/3KaBPibdalEUyFtW2IygbJyc2ZM2fQvXt3ZGZmIiMjA15eXnjw4AFcXFzg4+NTppIbMevtqIW8/Ua0rV46QdkQucfXzO4dhoQ0y2q1UQAY3SEEYzvWxLHrDzFm3WmdcSwFFXVhlsujjBx0b2DepRFMxRLWtCIi05PcnPD++++jZ8+eePToEZydnXHs2DHcvHkTTZs2xaJFi0wRo8USu96OMevylHWzd8mb2HQO9UH3Bv4YEh4k2zHlIAA4GZ8CO6UCrUO8seCV+ijqstqroT9GtQs26rnsRV6wZ++Og0otoGuYP45M6Yj1I1vim4GNsH5kSxyZ0tFqExsNzZpWfh66XU9+Hk5YPLiJ1b8+IjKi5SYmJgZLly6FUqmEnZ0dsrOzUb16dXz22WcYNmwY+vbta4o4LZLY9XaMWZenLJu6JQYbTtyV9Zh/xiUjMjYB7Wv5yHpcOURff4DWNb0B5F14R7ULNpjY/XQoHosHN8Hb7VBoEHtxnoncOf9sIXMtjWBq5lzTiohMT3LLjb29PZTKvIf5+Pjg1q282SseHh64fdu4sQw//PADgoKC4OTkhOeeew4nTpwwuO+qVaugUCh0/pyczDP4b0h4EIr7LlQqYHGtBZbqaY4KQVN3y57YaMzaGYe5u/81ybFL5r83kUotYMfZhCL3nrUzDh92rYuLs7thWo+6GBoeiCEtq8kaUVmYLaRJ3DTLVzCxIbIdkpObxo0b4+TJkwCA9u3bY/r06Vi3bh0mTJiAsLAwyQFs3LgREydOxIwZM3D69Gk0bNgQXbp0QXJyssHHuLu7IyEhQft38+ZNyc8rB4dySoxsW3QXwci2wRxMLMLIn0+i7vRIkx1fU7/k7J00kz2HsfK3jEipw+JQTokRbavj095hsLeT9z3G2UJEZM0kfyPOmzcP/v55fdJz585FhQoVMHr0aNy/fx9Lly6VHMCXX36JkSNH4o033kBoaCiWLFkCFxcXrFixwuBjFAoF/Pz8tH++vr6Sn1cuEd1D8Xa74EItOEoF8HY71rkRY8SqE4iKM5zMysndybKqH1RwsUfL6v8lN8bUYYmMTcCKozdkiUeBvEHLnC1ERNZM8jd9s2bNtP/28fFBZKTxv7ZzcnLwzz//ICIiQrtNqVSiU6dOiI6ONvi4J0+eIDAwEGq1Gk2aNMG8efNQr149o+MoqYjuoZj0Yh1WKDbCpE2nse/i/VJ7vrh7j0vtucTo36yqTneI1DosmuUE5MDZQkRkKyRffTt27IjU1NRC29PT09GxY0dJx3rw4AFUKlWhlhdfX18kJibqfUzt2rWxYsUKbN++HWvXroVarUarVq1w584dvftnZ2cjPT1d588U8ncRjGhbnYlNMXJy1Qiauhu/nS56fIncHhUxzdocdpxNgCrfQF9NHRZDqUXBlpXiurGk4GwhIrIVkltuDh48WKhwHwBkZWXh8OHDsgRVlPDwcISHh2tvt2rVCnXr1sXSpUsxe/bsQvvPnz8fs2bNMnlcJN7sXbFYfsQ846QsTcF1jPLXYSlIX8uKsQN/FQB83R3xRf9GePAkW5bZQiq1wNlHRGQRRCc3586d0/47Li5Op2VFpVIhMjISVapUkfTk3t7esLOzQ1JSks72pKQk+Pn5iTqGvb09GjdujKtXr+q9PyIiAhMnTtTeTk9PR0BAgKQ4ST6dv9iPK/ctq5Ceud17lAmV2kubGNx4kAEP53JIfZqrs5+niz3m962v07JizMBfTboxs1c9tA7xLknoWpGxCYUK/vlbecE/IrJeopObRo0aaade6+t+cnZ2xnfffSfpyR0cHNC0aVPs27dPu/K4Wq3Gvn37MHbsWFHHUKlUOH/+PLp37673fkdHRzg6OkqKi0wjaOpuc4dgkbafvYdFUZeL7V56lFm4S6245QT0kbvKcGRsAkavPV3o+RPTsjB67Wl2dRFRqROd3MTHx0MQBFSvXh0nTpxApUqVtPc5ODjAx8cHdnZ2kgOYOHEihg0bhmbNmqFFixb4+uuvkZGRgTfeeAMAMHToUFSpUgXz588HAHz66ado2bIlQkJCkJqais8//xw3b97EW2+9Jfm5qXSo1AJqfLTH3GFYrENXHojaT4G8GjedQ/203T2abqx39HRjFeTpYo8fBjWRdcFLzYBmfYmVYCDmojzNUWHenjjceJiJoIou+Kh7KJwdpH+vEFHZJjq5CQwMBJDXsiKnAQMG4P79+5g+fToSExPRqFEjREZGagcZ37p1S1s0EAAePXqEkSNHIjExERUqVEDTpk3x999/IzSUU64t0fYzdzF+Y4y5w7AJ+Wvc5K+N0zXMH+93qomv/rxS5ONTM59BqVTIOg5GSl2e4iodj/z5pE5JgMNXgDXHbqFzqA+WDW0uV8hEVAYYVfTj2rVr+Prrr3HhwgUAQGhoKMaPH48aNWoYFcTYsWMNdkMdPHhQ5/ZXX32Fr776yqjnodL14hcHcPk+19WSm75BxEHerkY/Vu5YjNmvYGKTX1RcMkb+fJIJDhGJJnm+8h9//IHQ0FCcOHECDRo0QIMGDXD8+HHUq1cPUVFRpojRKqjUAqKvPcT2mLuIvvZQZ3pvWRQ0dTcTGxPRN4hYan0cU8Yidb+nOapiizhGxSXjaY5KUmxEVHZJbrmZOnUq3n//fSxYsKDQ9ilTpqBz586yBWctOFNEFwcOm4YCeYOB9VUPfpRRuDxDQaaoPFzcgOaiYtaYt0dcEcJ5e+Iwu0994wItBqexE9kWyS03Fy5cwIgRIwptf/PNNxEXJ0+lVGuimSlScNyBZqZIZGzpFqkzpydZuUxsTEiA/urBKrWA2buL/+z1bxaAXefuydqyqBnQDKBQ4UGxFY9vPBTXwid2P6kiYxPQZuF+DFp2DOM3xGDQsmNos3B/mfrsEtkayclNpUqVEBMTU2h7TEwMfHx85IjJahQ3UwTImylSFrqoen13GGEz/zB3GFangos9gMKJgRRiqxR/s++KSS7eXcP8sXhwE/h56HY9ia14HFTRRdTziN1PCv44IbJNorulPv30U0yePBkjR47EqFGjcP36dbRq1QoAcPToUSxcuFCnWF5ZIOdMEWvWal4U7qUX3y1CuhQA5vfN62Yp2K1paH9906qNGSQsdw2armH+6BzqZ1TXzkfdQ7Hm2C1R+8lJ7mnsRGQ5RCc3s2bNwjvvvINp06bBzc0NX3zxhXbBy8qVK2PmzJkYN26cyQK1RHLNFLFmwVN3iy4eR/8pOCarc6gfVh2Nx+zdFww+xlCybMwg4fwX7451fPHPzUclHm9ip1QYlcQ7O9ihc6hPkYOKO4f6yF7vhj9OiGyX6ORGEPIuYQqFAu+//z7ef/99PH6ct8Kym5ubaaKzcOaaoWIJUp7koMmcsjs7zlgd61TCyLY1CiUQdkoFvN3EVdIumCwbU6UY+O/i3XL+PqTkG5BsjsHwy4Y2Nzgd3FR1bvjjhMh2SZotpVDo/porq0mNhhwzRaxRw+m7kcZeKMnebheMiCK6VoxNlvMvtqkAJLekpRSYaWWuZROWDW1eqhWKy/KPEyJbJym5qVWrVqEEp6CUlJQSBWRNirqoiJ0pYm04G0q68GAvrB7xHBzKFT1+vyTJsmZQr5ixO8Ux53gTZwc7k033Lqis/jghKgskJTezZs2Ch4eHqWKxSoYuKnIvTmgJmNgYZ1jroGITG6DkyXLBQb3e5R0xaVMMktKzJbfmlIXxJmXxxwlRWaEQNINpiqFUKpGYmGj1073T09Ph4eGBtLQ0uLu7y3bcnFw11kTfwM2UTAR6uWBIuLgLmrVgYmMcza//I1M6ir5IylkUUjPVGZDeXQUA3wxshN6NqhjxSOvBIpxE1kHK9Vt0cmNnZ4eEhAQmN3rY8pcjV/SWx/qRLSW1gMhZMVff+9PL1R4pGc9kj9tasUIxkeWTcv2WPFuKdGl+GRc8O+YalCmnX0/dxgebz5k7DJsgdcaNsdOq9dFXg6ZpYAW0//wAx5v8PznPNxGZn+jkRq1WmzIOq2TLRcDqfrIbT3PNHYXtMPeMG30Xb443ISJbZTuDQsxAShEwaxI0lYmNXBQwzYKVcijpsglERJZK8qrg9B9bLAJWVgcOv1TfH7tjE2CK3ldLbgEpybIJRESWislNCdhSEbC4O+no/v1hc4dhNndTn2LRKw0wScYxRhVdHTD35TB0DfO36AGrHG9CRLaGyU0J2EoRsLLaWpPfmdupmNiplmzH83K1R3TEC3Aop7Tp2XRERJaIY25KQFMEDPhvEKaGtQzKZGLzn58OX5PlOAoA816ur01sRq89XWhslmY2XWRsgizPSURE/2FyU0LWPCiTiY2uw1cflvgYfu6O2v/34mbTAXmz6VRqllkgIpITu6VkYG2DMs/fSkPPH4+YOwyb836nWhjbMUT7/y5lNh3HvBCRFJY8js8SMLmRibUMymRrjfwMjZ+xxdl0RGR+HMdXPCY3MrGGtaWY2MjDz90Rg1oEIsjbpchfTLY0m46ILIMtV8WXE5MbGczfE4dlh+ORf+jE3D0XMLJtMCK6h5ovsHyY2MgnKT0bX/95GYsHNymytc5WZtMRkWWw5ar4crOspgUrNH9PHJYe0k1sAEAtAEsPxWP+njjzBPb/7qdnM7GRmdjBwLYwm46ILIetVsU3BSY3JZCTq8ayw/FF7rPscDxycs2zLlfdj3ej+bw/zfLctk7sl0hRs+l+eK0xPJwdsD3mLqKvPeSsKSIqEsfxicduqRJYE32jUItNQWohb78RbauXTlD/j601pSMx7Wmx++ibTfcoIwef7opDYvp/X0J+7k6Y2YsDAolIP47jE48tNyVwMyVT1v3kwsSm9MzefUFUIT7NbLrejaog7WkO3v3ltE5iAwCJ6Vl4h4X9iMgAzTg+Qx3ZlrxQb2ljclMCARWcZd2vpM7fSmNiIyMvVweDXyIajzJy8M7a05i86Symb4/F8sPXi+yGVKkFTNp0tshjTvr1LLuoiKgQjuMTj8lNCdTxc5d1v5IImrqbhflkovn1M6d3WLH7alKQzafv4Ofom5i9+wLqTPvd4EDyv68+QEaOqshjZmSr8PfVBxKjJqKywJqr4pcmjrkpgZTMHFn3MxZba+QlABjYPABdwvyweHATfLT1PFIynol+vGamHIBCpQC2nL4j6hhbTt9B21qVRD8nEZUd1lYV3xzYclMC3q6Osu5nDCY2pvHVn1fQZuF+AMC0l+oZdQx9M+WKa7WRuh8RlU35x/GF16jIxKYAJjcloBbEjYsQu58U/1x/xMTGxDQVP289zDDq8ZqZcvk1D6og6rFi9yMiosKY3JTA8Xhxq0iL3U+soKm78cpPf8t6TCpMk5KuP3ELfu6GZygUpeBMuWGtgos9juL/9yMiIuMwuSkRsZc7+ZoL2VpTugQAienZGNSiGgDp/5OBXi46tx3KKTGqXdGJy6h2wRa3LhkRkTXhN2gJiF0FXK7VwpnYmE+Qt4veGQpFUSqAIeFBhbZHdA/F2+0Kt+AoALzdznLWIyMislacLVUCLatXhIuDHTKLGPzp6mCHltVLltxs+fsGJu74t0THoMI8XewxpkMNzN1zsdh9fdycEF6jos4Mhai4JOw6Z7jg3si2hltgIrqHYtKLdSx+JXkiImvE5KaEiu2mKGGPFFtrTEMBYEHf+ugc6ocVR2+IXrlbM0MBAHo3qoIqnoVXhFcqIGpFeIdyylJfloOIqCxgclMCx64/FFWQ7dj1h2gd4i35+ExsTMPfwwkzev63htOMnqEYvfY0FIBOgiOm4idbYIiILA+TmxI4KrKK7NGrDyQnN0xs5Df2+RC0DvEuVOxKU/Fz1s44JKTlW8iyQBJkCFtgiIgsC5ObEriXWvyK0Pn3U6mFYitK7j11D6M2n5E91rJM07X0fudaBltgWPGTiMh2MLkpAbFrG6oFIDI2oVDLQMHuEbbWyE/KYnL5x9MQEZH14sCAEhGX3dxLzcTotad1Ehvgvwq4kbEJTGxMhIvJERGVPWy5KQGFyGUVYu+l602DBOS1LLyz9rScYVkVL1d7ONgpkZSeLTJVFGdoeCC6hfmza4mIqAxiy00JCApxF82sZ2qD98m/6pR1aRzgiZm98hamlDMF6Rbmz8XkiIjKKCY3JWE4ZyGRztxORedQPywe3AQeLvayHNM/X10aIiIqe5jclMDDzBxzh2D1UjKe4UR8CjqH+sGpnF2Jj6eAuMHDRERku5jclICzvbjTZ2+nkLXLxdYkP87CifgUJKZnFb9zEfw5eJiIiMABxSXi6y5uEcVnqrI+sqZoPm5OSH5cssRmWo+6GN46mC02RETE5KYkyjvy9JWUn7sjWgR74UR8ilGP1xToK0liI6a4orFMeWwiItKPV+cSiL2Xbu4QrF5WrhpRcYnoHOoHfw+nQrWAiiKlQJ8hYoorGsuUxyYiIsM45qYE7O34C7yk0jKfYfTa04iKS8SMnkWvol1QSQv0RcYmFFtc0VimPDYRERWNyU0JXEpky01RBj9XDd8MbIR1bz0HXzdHvftoRiPN2hmHzqF+GNE6SNSxxz4fgiNTOopKbHJy1Vh++Dqmb4/F8sPXkZOrhkotYNbOOIPFFTUxqfKtsaFSC4i+9hDbY+4i+tpDnfvyM+bYREQkH3ZLlcD9x5wKXhR3Z3v0blQF0dceIulxtsH9BAAJaXkzpjqF+mH50RvFHrt1iLeorqj5e+Kw7HC8zjpgc/dcQI/6fkV2geWPKbxGRUldTCfiUyQdm4iI5MWWmxLI5Q/vIl1NfoLoaw9FT/FOfpyFFsFe8PdwMjh1XgHxRfrm74nD0kPxhRY4VQvAznOJomOS2sUkduZXSWeIERGRfmy5IZPZG5eEvXFJcHUUV5zPxy1vav3A5tXw1Z+XDe6nGUBc1EyknFw1fjoUX+LX4F3eEZN/PVvk2mCaLjXNc2teh5hjR197WCh+S51hZalxEREVxOSGTC4jW1Xk/Zrp3I8yctB6wT4kphvuwtIs0VBcN9Gw5cdLvG5XecdyOHr1geQuJk3rU2Jalt4YFAA8XewxaVOMzmv193BCr4b+2HE2QZYZVnImI5z5RUTWRCEIIpe2NqEffvgBn3/+ORITE9GwYUN89913aNGihcH9f/31V0ybNg03btxAzZo1sXDhQnTv3l3Uc6Wnp8PDwwNpaWlwd3cvUdxBU3eX6PH033TuUe2CsVRES4sChhcb1RyrU6gPouKSZYhOvG8GNkLvRlW0tzVdWYBuvEXFb4jmdUmZGSZnMqJ5LQXjNiYuIiJjSbl+m33MzcaNGzFx4kTMmDEDp0+fRsOGDdGlSxckJ+u/OP39998YNGgQRowYgTNnzqBPnz7o06cPYmNjSzlykoOfhxN+eK0xNp66I2r/ohID4f//SjuxAQp3RXUN88fiwU3g56G73c/DCZ4SFwiVOsNKzmnonPlFRNbI7C03zz33HJo3b47vv/8eAKBWqxEQEID33nsPU6dOLbT/gAEDkJGRgV27dmm3tWzZEo0aNcKSJUuKfT623FiGsc/XQOuQSmgR7IVj1x7i9eXHzR2SUTRdakemdNTb5VOwa0itFkr0WtePbFnkDCuVWkCbhfsNdqUVF29B0dceYtCyYyWOi4iopKym5SYnJwf//PMPOnXqpN2mVCrRqVMnREdH631MdHS0zv4A0KVLF4P7Z2dnIz09XeePzK+mrxvCa1SEnVKB6OsPzB2OUcRUSLZTKhBeoyJ6N6qC8BoV8SDD8HgiMYqbYSVlGroczyd1PyKi0mDW5ObBgwdQqVTw9fXV2e7r64vERP1TdRMTEyXtP3/+fHh4eGj/AgIC5AmeSkS3G6f0Z9yE+LiW+BjGVEgWO5PK2MfLnYyIjbekr4uISE5mH3NjahEREUhLS9P+3b5929whlXlervY6dWpKuztDqQBmvFTP6MePfb4G1o9sKbpCcn7F1fExRGx9H7mTETnrDhERlRazJjfe3t6ws7NDUlKSzvakpCT4+fnpfYyfn5+k/R0dHeHu7q7zR+Y1p3eYTjdOy+oVRQ+yVRj4t+a2AkDnUJ8ijzGybTBahXjD30Naa4PmQv5+59raLjWp7JQK7RpaYh8tZYFQuZORouKVY+FSIiJTMGty4+DggKZNm2Lfvn3abWq1Gvv27UN4eLjex4SHh+vsDwBRUVEG9zelGwt6lPpzWru32wWje4PKOtvslAos6Ftf1OP9PJywZHATLDEwE2nx4CZYNrQ53m4XjILXW6Ui7/kjuodqL9qmSDCKY2gmlb+HE95uF1wo6ZLS/WWKZKSomV+cBk5Elsjss6U2btyIYcOGYenSpWjRogW+/vprbNq0CRcvXoSvry+GDh2KKlWqYP78+QDypoK3b98eCxYsQI8ePbBhwwbMmzcPp0+fRlhYWLHPJ+dsKQ1rmTXl6+aA154LRJC3K248yMD6E7d0ish5udrj05714OHigO/2X0HM7VTkqP57e9gpgFB/N/RsWAV1/dyR8jQH3q6OUAsCjsenABAQXt0baU+fYfZu3RorFV0dMLt3GLo3MHwhjIxNwMwdcTrLNfi5O2JQi2oI8nYtVIiuuCJ1OblqrIm+gZspmQj0csGQ8CA4lFMWes6C9WD0MUXBOkPxy1F8zxRF91ihmIjMScr12+zJDQB8//332iJ+jRo1wrfffovnnnsOANChQwcEBQVh1apV2v1//fVXfPLJJ9oifp999plZivjlZ0yCowSgzvfvXWPb4v6TLCz56youJj2BAgJ83ZwQ6OWEM3cf41muGkEVXfBuh5pIz3qGM7cfQSUIsFMo0DigAnw9nAAhb7BoSkYOKrg44FFmDrxcHeDn4VzoYlTcxaokFzNjH2uOC6jmORPTs5DyJBterg55Y1IUwIMn2VZ7IWcyQkS2xOqSm9JkquSGiIiITMdq6twQERERyY3JDREREdkUJjdERERkU5jcEBERkU1hckNEREQ2hckNERER2RQmN0RERGRTmNwQERGRTWFyQ0RERDalnLkDKG2agszp6elmjoSIiIjE0ly3xSysUOaSm8ePHwMAAgICzBwJERERSfX48WN4eHgUuU+ZW1tKrVbj3r17cHNzg0Ih3yKC6enpCAgIwO3bt7lmVQnxXMqH51I+PJfy4bmUR1k7j4Ig4PHjx6hcuTKUyqJH1ZS5lhulUomqVaua7Pju7u5l4k1WGngu5cNzKR+eS/nwXMqjLJ3H4lpsNDigmIiIiGwKkxsiIiKyKUxuZOLo6IgZM2bA0dHR3KFYPZ5L+fBcyofnUj48l/LgeTSszA0oJiIiItvGlhsiIiKyKUxuiIiIyKYwuSEiIiKbwuSGiIiIbAqTG5n88MMPCAoKgpOTE5577jmcOHHC3CFZlPnz56N58+Zwc3ODj48P+vTpg0uXLunsk5WVhTFjxqBixYooX748XnnlFSQlJensc+vWLfTo0QMuLi7w8fHBBx98gNzc3NJ8KRZnwYIFUCgUmDBhgnYbz6V4d+/exeDBg1GxYkU4Ozujfv36OHXqlPZ+QRAwffp0+Pv7w9nZGZ06dcKVK1d0jpGSkoLXX38d7u7u8PT0xIgRI/DkyZPSfilmo1KpMG3aNAQHB8PZ2Rk1atTA7NmzddYA4nnU79ChQ+jZsycqV64MhUKBbdu26dwv13k7d+4c2rZtCycnJwQEBOCzzz4z9UszL4FKbMOGDYKDg4OwYsUK4d9//xVGjhwpeHp6CklJSeYOzWJ06dJFWLlypRAbGyvExMQI3bt3F6pVqyY8efJEu88777wjBAQECPv27RNOnToltGzZUmjVqpX2/tzcXCEsLEzo1KmTcObMGWHPnj2Ct7e3EBERYY6XZBFOnDghBAUFCQ0aNBDGjx+v3c5zKU5KSooQGBgoDB8+XDh+/Lhw/fp14Y8//hCuXr2q3WfBggWCh4eHsG3bNuHs2bNCr169hODgYOHp06fafbp27So0bNhQOHbsmHD48GEhJCREGDRokDleklnMnTtXqFixorBr1y4hPj5e+PXXX4Xy5csL33zzjXYfnkf99uzZI3z88cfCli1bBADC1q1bde6X47ylpaUJvr6+wuuvvy7ExsYK69evF5ydnYWlS5eW1sssdUxuZNCiRQthzJgx2tsqlUqoXLmyMH/+fDNGZdmSk5MFAMJff/0lCIIgpKamCvb29sKvv/6q3efChQsCACE6OloQhLwvAaVSKSQmJmr3Wbx4seDu7i5kZ2eX7guwAI8fPxZq1qwpREVFCe3bt9cmNzyX4k2ZMkVo06aNwfvVarXg5+cnfP7559ptqampgqOjo7B+/XpBEAQhLi5OACCcPHlSu8/vv/8uKBQK4e7du6YL3oL06NFDePPNN3W29e3bV3j99dcFQeB5FKtgciPXefvxxx+FChUq6Hy2p0yZItSuXdvEr8h82C1VQjk5Ofjnn3/QqVMn7TalUolOnTohOjrajJFZtrS0NACAl5cXAOCff/7Bs2fPdM5jnTp1UK1aNe15jI6ORv369eHr66vdp0uXLkhPT8e///5bitFbhjFjxqBHjx465wzguZRix44daNasGfr16wcfHx80btwYy5Yt094fHx+PxMREnXPp4eGB5557Tudcenp6olmzZtp9OnXqBKVSiePHj5feizGjVq1aYd++fbh8+TIA4OzZszhy5Ai6desGgOfRWHKdt+joaLRr1w4ODg7afbp06YJLly7h0aNHpfRqSleZWzhTbg8ePIBKpdK5SACAr68vLl68aKaoLJtarcaECRPQunVrhIWFAQASExPh4OAAT09PnX19fX2RmJio3UffedbcV5Zs2LABp0+fxsmTJwvdx3Mp3vXr17F48WJMnDgRH330EU6ePIlx48bBwcEBw4YN054Lfecq/7n08fHRub9cuXLw8vIqM+dy6tSpSE9PR506dWBnZweVSoW5c+fi9ddfBwCeRyPJdd4SExMRHBxc6Bia+ypUqGCS+M2JyQ2VujFjxiA2NhZHjhwxdyhW6fbt2xg/fjyioqLg5ORk7nCsmlqtRrNmzTBv3jwAQOPGjREbG4slS5Zg2LBhZo7OemzatAnr1q3DL7/8gnr16iEmJgYTJkxA5cqVeR7JLNgtVULe3t6ws7MrNBMlKSkJfn5+ZorKco0dOxa7du3CgQMHULVqVe12Pz8/5OTkIDU1VWf//OfRz89P73nW3FdW/PPPP0hOTkaTJk1Qrlw5lCtXDn/99Re+/fZblCtXDr6+vjyXIvn7+yM0NFRnW926dXHr1i0A/52Loj7ffn5+SE5O1rk/NzcXKSkpZeZcfvDBB5g6dSoGDhyI+vXrY8iQIXj//fcxf/58ADyPxpLrvJXFzzuTmxJycHBA06ZNsW/fPu02tVqNffv2ITw83IyRWRZBEDB27Fhs3boV+/fvL9RE2rRpU9jb2+ucx0uXLuHWrVva8xgeHo7z58/rfJCjoqLg7u5e6AJly1544QWcP38eMTEx2r9mzZrh9ddf1/6b51Kc1q1bFypJcPnyZQQGBgIAgoOD4efnp3Mu09PTcfz4cZ1zmZqain/++Ue7z/79+6FWq/Hcc8+Vwqswv8zMTCiVupcTOzs7qNVqADyPxpLrvIWHh+PQoUN49uyZdp+oqCjUrl3bJrukAHAquBw2bNggODo6CqtWrRLi4uKEUaNGCZ6enjozUcq60aNHCx4eHsLBgweFhIQE7V9mZqZ2n3feeUeoVq2asH//fuHUqVNCeHi4EB4err1fM335xRdfFGJiYoTIyEihUqVKZW76sj75Z0sJAs+lWCdOnBDKlSsnzJ07V7hy5Yqwbt06wcXFRVi7dq12nwULFgienp7C9u3bhXPnzgm9e/fWOxW3cePGwvHjx4UjR44INWvWtPkpzPkNGzZMqFKlinYq+JYtWwRvb2/hww8/1O7D86jf48ePhTNnzghnzpwRAAhffvmlcObMGeHmzZuCIMhz3lJTUwVfX19hyJAhQmxsrLBhwwbBxcWFU8GpeN99951QrVo1wcHBQWjRooVw7Ngxc4dkUQDo/Vu5cqV2n6dPnwrvvvuuUKFCBcHFxUV4+eWXhYSEBJ3j3LhxQ+jWrZvg7OwseHt7C5MmTRKePXtWyq/G8hRMbnguxdu5c6cQFhYmODo6CnXq1BF++uknnfvVarUwbdo0wdfXV3B0dBReeOEF4dKlSzr7PHz4UBg0aJBQvnx5wd3dXXjjjTeEx48fl+bLMKv09HRh/PjxQrVq1QQnJyehevXqwscff6wz9ZjnUb8DBw7o/W4cNmyYIAjynbezZ88Kbdq0ERwdHYUqVaoICxYsKK2XaBYKQchXQpKIiIjIynHMDREREdkUJjdERERkU5jcEBERkU1hckNEREQ2hckNERER2RQmN0RERGRTmNwQERGRTWFyQ0SlYtWqVTorlc+cORONGjUyWzxEZLuY3BCRKMOHD4dCoYBCoYCDgwNCQkLw6aefIjc316jjTZ48WWfNHFMQBAE//fQTnnvuOZQvXx6enp5o1qwZvv76a2RmZpr0uQsaPnw4+vTpU6rPSVRWMbkhItG6du2KhIQEXLlyBZMmTcLMmTPx+eefG3Ws8uXLo2LFijJHqGvIkCGYMGECevfujQMHDiAmJgbTpk3D9u3bsXfvXpM+NxGZD5MbIhLN0dERfn5+CAwMxOjRo9GpUyfs2LEDAPDo0SMMHToUFSpUgIuLC7p164YrV64YPJa+bqkVK1agXr16cHR0hL+/P8aOHQsAePPNN/HSSy/p7Pvs2TP4+Phg+fLleo+/adMmrFu3DuvXr8dHH32E5s2bIygoCL1798b+/fvx/PPPAwDUajU+/fRTVK1aFY6OjmjUqBEiIyO1xzl48CAUCgVSU1O122JiYqBQKHDjxg0A/3W5/fHHH6hbty7Kly+vTQQ1r3X16tXYvn27tvXr4MGDxZ5vIjIOkxsiMpqzszNycnIA5HW7nDp1Cjt27EB0dDQEQUD37t3x7NkzUcdavHgxxowZg1GjRuH8+fPYsWMHQkJCAABvvfUWIiMjtckCAOzatQuZmZkYMGCA3uOtW7cOtWvXRu/evQvdp1Ao4OHhAQD45ptv8MUXX2DRokU4d+4cunTpgl69ehWZmOmTmZmJRYsWYc2aNTh06BBu3bqFyZMnA8jrguvfv7824UlISECrVq0kHZ+IxGNyQ0SSCYKAP//8E3/88Qc6duyIK1euYMeOHfjf//6Htm3bomHDhli3bh3u3r2Lbdu2iTrmnDlzMGnSJIwfPx61atVC8+bNMWHCBABAq1atULt2baxZs0a7/8qVK9GvXz+UL19e7/GuXLmC2rVrF/u8ixYtwpQpUzBw4EDUrl0bCxcuRKNGjfD111+Lilvj2bNnWLJkCZo1a4YmTZpg7Nix2jFF5cuXh7Ozs7bly8/PDw4ODpKOT0TiMbkhItF27dqF8uXLw8nJCd26dcOAAQMwc+ZMXLhwAeXKlcNzzz2n3bdixYqoXbs2Lly4UOxxk5OTce/ePbzwwgsG93nrrbewcuVKAEBSUhJ+//13vPnmmwb3FwSh2OdNT0/HvXv30Lp1a53trVu3FhV3fi4uLqhRo4b2tr+/P5KTkyUdg4jkUc7cARCR9Xj++eexePFiODg4oHLlyihXTp6vEGdn52L3GTp0KKZOnYro6Gj8/fffCA4ORtu2bQ3uX6tWLVy8eLHEsSmVeb8B8ydL+rra7O3tdW4rFApRCRYRyY8tN0QkmqurK0JCQlCtWjWdxKZu3brIzc3F8ePHtdsePnyIS5cuITQ0tNjjurm5ISgoqMip4RUrVkSfPn2wcuVKrFq1Cm+88UaRx3zttddw+fJlbN++vdB9giAgLS0N7u7uqFy5Mo4ePapz/9GjR7VxV6pUCQB0xvvExMQU+5oKcnBwgEqlkvw4IpKOyQ0RlVjNmjXRu3dvjBw5EkeOHMHZs2cxePBgVKlSRe+AXn1mzpyJL774At9++y2uXLmC06dP47vvvtPZ56233sLq1atx4cIFDBs2rMjj9e/fHwMGDMCgQYMwb948nDp1Cjdv3sSuXbvQqVMnHDhwAADwwQcfYOHChdi4cSMuXbqEqVOnIiYmBuPHjwcAhISEICAgADNnzsSVK1ewe/dufPHFF5LPUVBQEM6dO4dLly7hwYMHogdaE5F07JYiIlmsXLkS48ePx0svvYScnBy0a9cOe/bsKdRdY8iwYcOQlZWFr776CpMnT4a3tzdeffVVnX06deoEf39/1KtXD5UrVy7yeAqFAr/88gt++uknrFixAnPnzkW5cuVQs2ZNDB06FF26dAEAjBs3DmlpaZg0aRKSk5MRGhqKHTt2oGbNmgDyupvWr1+P0aNHo0GDBmjevDnmzJmDfv36STo/I0eOxMGDB9GsWTM8efIEBw4cQIcOHSQdg4jEUQjsFCYiK/HkyRNUqVIFK1euRN++fc0dDhFZKLbcEJHFU6vVePDgAb744gt4enqiV69e5g6JiCwYkxsisni3bt1CcHAwqlatilWrVsk2S4uIbBO7pYiIiMimcLYUERER2RQmN0RERGRTmNwQERGRTWFyQ0RERDaFyQ0RERHZFCY3REREZFOY3BAREZFNYXJDRERENoXJDREREdmU/wNacMNvmgNDWgAAAABJRU5ErkJggg==",
      "text/plain": [
       "<Figure size 640x480 with 1 Axes>"
      ]
     },
     "metadata": {},
     "output_type": "display_data"
    }
   ],
   "source": [
    "plt.scatter(x=num_pdf['policycount'],y=num_pdf['totalbuildinginsurancecoverage'])\n",
    "plt.xlabel('Policy Count')\n",
    "plt.ylabel('Total Building Insurance Coverage')\n",
    "plt.title('Policy Count vs Total Building Insurance Coverage')\n",
    "plt.show()"
   ]
  },
  {
   "cell_type": "markdown",
   "id": "bb54f70f-4f20-4f77-b24a-957741dca03f",
   "metadata": {},
   "source": [
    "**This scatterplot indicates the positve correlation of 0.9347 between Policy Count and Total Building Insurance Coverage.**"
   ]
>>>>>>> a8900ca26a2a2716469ad5e18885a33aeed7123b
  }
 ],
 "metadata": {
  "kernelspec": {
   "display_name": "Python 3 (ipykernel)",
   "language": "python",
   "name": "python3"
  },
  "language_info": {
   "codemirror_mode": {
    "name": "ipython",
    "version": 3
   },
   "file_extension": ".py",
   "mimetype": "text/x-python",
   "name": "python",
   "nbconvert_exporter": "python",
   "pygments_lexer": "ipython3",
   "version": "3.11.6"
  }
 },
 "nbformat": 4,
 "nbformat_minor": 5
}
