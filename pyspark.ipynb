{
 "cells": [
  {
   "cell_type": "markdown",
   "id": "5d1daa8c-f894-4fee-b74b-2f8ab6b70635",
   "metadata": {},
   "source": [
    "# FEMA's National Flood Insurance Policy Database Data Exploration"
   ]
  },
  {
   "cell_type": "markdown",
   "id": "296d6da5-22f1-4bde-8d4f-34a969ed9394",
   "metadata": {},
   "source": [
    "### Load Libraries"
   ]
  },
  {
   "cell_type": "code",
   "execution_count": 1,
   "id": "13acd25f-90fc-48eb-823f-370db3aa29af",
   "metadata": {},
   "outputs": [],
   "source": [
    "import pandas as pd\n",
    "import matplotlib.pyplot as plt\n",
    "\n",
    "from pyspark.ml.stat import Correlation\n",
    "from pyspark.ml.feature import VectorAssembler\n",
    "from pyspark.ml.feature import Imputer\n",
    "from pyspark.sql import SparkSession\n",
    "from pyspark.sql.types import StructType, StructField, StringType, IntegerType, DateType, ByteType, LongType, FloatType, ShortType\n",
    "from pyspark.sql.functions import col, sum as spark_sum"
   ]
  },
  {
   "cell_type": "markdown",
   "id": "81025ff1-9dae-4f7a-857e-90a64d6e4179",
   "metadata": {},
   "source": [
    "### Initialize Spark Session"
   ]
  },
  {
   "cell_type": "code",
   "execution_count": 2,
   "id": "cf8b391c-8562-45da-984f-f50a7ec876ec",
   "metadata": {},
   "outputs": [
    {
     "name": "stderr",
     "output_type": "stream",
     "text": [
      "24/05/15 17:17:42 WARN Utils: Your hostname, MacBook-Pro.local resolves to a loopback address: 127.0.0.1; using 192.168.1.104 instead (on interface en0)\n",
      "24/05/15 17:17:42 WARN Utils: Set SPARK_LOCAL_IP if you need to bind to another address\n",
      "Setting default log level to \"WARN\".\n",
      "To adjust logging level use sc.setLogLevel(newLevel). For SparkR, use setLogLevel(newLevel).\n",
      "24/05/15 17:17:43 WARN NativeCodeLoader: Unable to load native-hadoop library for your platform... using builtin-java classes where applicable\n"
     ]
    }
   ],
   "source": [
    "spark = SparkSession.builder \\\n",
    "    .config(\"spark.driver.memory\", \"10g\") \\\n",
    "\t.config(\"spark.executor.memory\", \"2g\") \\\n",
    "    .config('spark.executor.instances', 5) \\\n",
    "\t.config(\"spark.sql.debug.maxToStringFields\", \"100\")\\\n",
    "    .appName(\"Flood Data\") \\\n",
    "\t.getOrCreate()"
   ]
  },
  {
   "cell_type": "markdown",
   "id": "7918cf43-bfd7-44fd-b72a-ae3fa6b39772",
   "metadata": {},
   "source": [
    "### Load data to Spark dataframe; Infer Schema"
   ]
  },
  {
   "cell_type": "code",
   "execution_count": 3,
   "id": "591ba87c-16da-4351-aa84-0c05d5d85139",
   "metadata": {},
   "outputs": [
    {
     "name": "stderr",
     "output_type": "stream",
     "text": [
      "                                                                                \r"
     ]
    }
   ],
   "source": [
    "#path to data \n",
    "data_path = \"./NFIP/nfip-flood-policies.csv\"\n",
    "\n",
    "df = spark.read.option(\"header\",\"true\").option(\"inferSchema\",\"true\").csv(data_path)"
   ]
  },
  {
   "cell_type": "markdown",
   "id": "e1c74f6e-4b75-4be6-b2a9-8ed7c76216c0",
   "metadata": {},
   "source": [
    "## Perform the Data Exploration\n",
    "Below is the outline of the Data Exploration Section:\n",
    "- Print Schema\n",
    "- Column Description\n",
    "- Display the Number of Variables (Columnns)\n",
    "- Show the First Few Rows\n",
    "- Display Number of Observations\n",
    "- Missing Values in the Dataframe\n",
    "- Statistics Summary and Data Distribution\n",
    "- Correlations Among Variables\n",
    "- Scatterplots"
   ]
  },
  {
   "cell_type": "markdown",
   "id": "327c2c7c",
   "metadata": {},
   "source": [
    "### Print Schema\n",
    "\n",
    "Understanding the structure of data (column names and types) is crucial."
   ]
  },
  {
   "cell_type": "code",
   "execution_count": 4,
   "id": "55d45cb2-cccb-43e1-bfba-809b1aa61897",
   "metadata": {
    "scrolled": true
   },
   "outputs": [
    {
     "name": "stdout",
     "output_type": "stream",
     "text": [
      "root\n",
      " |-- agriculturestructureindicator: string (nullable = true)\n",
      " |-- basefloodelevation: double (nullable = true)\n",
      " |-- basementenclosurecrawlspacetype: integer (nullable = true)\n",
      " |-- cancellationdateoffloodpolicy: date (nullable = true)\n",
      " |-- censustract: long (nullable = true)\n",
      " |-- condominiumindicator: string (nullable = true)\n",
      " |-- construction: string (nullable = true)\n",
      " |-- countycode: integer (nullable = true)\n",
      " |-- crsdiscount: double (nullable = true)\n",
      " |-- deductibleamountinbuildingcoverage: string (nullable = true)\n",
      " |-- deductibleamountincontentscoverage: string (nullable = true)\n",
      " |-- elevatedbuildingindicator: string (nullable = true)\n",
      " |-- elevationcertificateindicator: string (nullable = true)\n",
      " |-- elevationdifference: integer (nullable = true)\n",
      " |-- federalpolicyfee: integer (nullable = true)\n",
      " |-- floodzone: string (nullable = true)\n",
      " |-- hfiaasurcharge: integer (nullable = true)\n",
      " |-- houseofworshipindicator: string (nullable = true)\n",
      " |-- latitude: double (nullable = true)\n",
      " |-- locationofcontents: string (nullable = true)\n",
      " |-- longitude: double (nullable = true)\n",
      " |-- lowestadjacentgrade: double (nullable = true)\n",
      " |-- lowestfloorelevation: double (nullable = true)\n",
      " |-- nonprofitindicator: string (nullable = true)\n",
      " |-- numberoffloorsininsuredbuilding: integer (nullable = true)\n",
      " |-- obstructiontype: string (nullable = true)\n",
      " |-- occupancytype: integer (nullable = true)\n",
      " |-- originalconstructiondate: date (nullable = true)\n",
      " |-- originalnbdate: date (nullable = true)\n",
      " |-- policycost: integer (nullable = true)\n",
      " |-- policycount: integer (nullable = true)\n",
      " |-- policyeffectivedate: date (nullable = true)\n",
      " |-- policyterminationdate: date (nullable = true)\n",
      " |-- policytermindicator: integer (nullable = true)\n",
      " |-- postfirmconstructionindicator: string (nullable = true)\n",
      " |-- primaryresidenceindicator: string (nullable = true)\n",
      " |-- propertystate: string (nullable = true)\n",
      " |-- reportedzipcode: string (nullable = true)\n",
      " |-- ratemethod: string (nullable = true)\n",
      " |-- regularemergencyprogramindicator: string (nullable = true)\n",
      " |-- reportedcity: string (nullable = true)\n",
      " |-- smallbusinessindicatorbuilding: string (nullable = true)\n",
      " |-- totalbuildinginsurancecoverage: integer (nullable = true)\n",
      " |-- totalcontentsinsurancecoverage: integer (nullable = true)\n",
      " |-- totalinsurancepremiumofthepolicy: integer (nullable = true)\n",
      "\n"
     ]
    }
   ],
   "source": [
    "df.printSchema()"
   ]
  },
  {
   "cell_type": "markdown",
   "id": "06482799",
   "metadata": {},
   "source": [
    "### Column Description"
   ]
  },
  {
   "attachments": {},
   "cell_type": "markdown",
   "id": "413a5dbb",
   "metadata": {},
   "source": [
    "**Description of the columns from the FEMA's National Flood Insurance Policy Database, grouped by their data types and purpose:**\n",
    "\n",
    "**Geographic and Location Details**\n",
    "- **censustract (long):** Census tract number indicating the specific area where the property is located, used for demographic analysis.\n",
    "- **countycode (integer):** Numeric code representing the county in which the property is insured.\n",
    "- **floodzone (string):** Designation of the flood zone according to FEMA's mapping, crucial for assessing the property's flood risk.\n",
    "- **latitude (double), longitude (double):** Geographic coordinates specifying the precise location of the property.\n",
    "- **propertystate (string):** The U.S. state where the property is located.\n",
    "- **reportedcity (string):** The city reported for the insured property.\n",
    "- **reportedzipcode (integer):** Zip code where the property is situated, used for localizing insurance coverage and risk.\n",
    "\n",
    "**Property and Construction Details**\n",
    "- **agriculturestructureindicator (string):** Indicates whether the property is used for agricultural purposes.\n",
    "- **basementenclosurecrawlspacetype (integer):** Type of basement or crawlspace present at the property, affecting flood risk assessment.\n",
    "- **construction (string):** Describes the type of construction materials and methods used, which can affect the property's vulnerability to flood damage.\n",
    "- **numberoffloorsininsuredbuilding (integer):** Total floors in the insured building, important for determining potential flood damage and insurance coverage needs.\n",
    "- **elevatedbuildingindicator (string):** Indicates whether the building is elevated, a key factor in reducing flood risk.\n",
    "\n",
    "**Policy Details**\n",
    "- **policycost (integer):** The total cost of the flood insurance policy.\n",
    "- **policycount (integer):** The number of policies associated with a single property or account.\n",
    "- **policyeffectivedate (date), policyterminationdate (date):** Start and end dates of the flood insurance coverage.\n",
    "- **totalbuildinginsurancecoverage (integer), totalcontentsinsurancecoverage (integer):** The amount of insurance coverage for the building and its contents, respectively.\n",
    "- **totalinsurancepremiumofthepolicy (integer):** Total premium amount for the flood insurance policy.\n",
    "\n",
    "**Flood Risk Assessment Specifics**\n",
    "- **basefloodelevation (double):** The base flood elevation expected for a particular area, critical for understanding flood risk levels.\n",
    "- **elevationcertificateindicator (string), elevationdifference (integer):** Presence of an elevation certificate and the difference in elevation, respectively, both crucial for assessing compliance with floodplain management.\n",
    "- **lowestadjacentgrade (double), lowestfloorelevation (double):** Measures of elevation that help determine the property's flood exposure.\n",
    "\n",
    "**Insurance Policy Features**\n",
    "- **crsdiscount (double):** Community Rating System discount applied to the policy, which can reduce insurance premiums based on community flood preparedness.\n",
    "- **deductibleamountinbuildingcoverage (integer), deductibleamountincontentscoverage (integer):** Deductible amounts for building and contents coverage, influencing out-of-pocket costs after a flood.\n",
    "- **hfiaasurcharge (integer):** Surcharge applied under the Homeowner Flood Insurance Affordability Act.\n",
    "- **federalpolicyfee (integer):** A fee associated with the federal policy governing flood insurance.\n",
    "\n",
    "**Special Indicators**\n",
    "- **condominiumindicator (string), primaryresidenceindicator (string):** Indicate whether the insured property is a condominium or the primary residence of the owner.\n",
    "- **houseofworshipindicator (string), nonprofitindicator (string):** Indicators of whether the property is used as a house of worship or is owned by a nonprofit organization, affecting policy terms and possibly qualifying for special considerations.\n",
    "- **postfirmconstructionindicator (string):** Indicates if the building was constructed after the community's first Flood Insurance Rate Map was issued, which can affect insurance rates.\n",
    "- **smallbusinessindicatorbuilding (string):** Indicates whether the insured building is used for small business purposes.\n",
    "\n",
    "**Additional Policy and Coverage Information**\n",
    "- **originalconstructiondate (date), originalnbdate (date):** Dates of original construction and the building's initial notebook entry, important for historical property assessments.\n",
    "- **cancellationdateoffloodpolicy (date):** Date when the flood policy was cancelled, if applicable.\n",
    "- **regularemergencyprogramindicator (string):** Indicates the type of FEMA program under which the policy is covered, distinguishing between regular and emergency management programs.\n",
    "- **ratemethod (integer):** Describes the method used to calculate the insurance rate, impacting how premiums are determined.\n",
    "- **locationofcontents (string):** Specifies where within the property the insured contents are located, relevant for claims and risk assessments."
   ]
  },
  {
   "cell_type": "markdown",
   "id": "79314eec",
   "metadata": {},
   "source": [
    "### Display number of Variables (Columns)\n"
   ]
  },
  {
   "cell_type": "code",
   "execution_count": 5,
   "id": "2067f5ad-5bd4-4c10-920e-554682945ac5",
   "metadata": {},
   "outputs": [
    {
     "name": "stdout",
     "output_type": "stream",
     "text": [
      "Number of Columns: 45\n"
     ]
    }
   ],
   "source": [
    "num_variables = len(df.columns)\n",
    "print(\"Number of Columns:\", num_variables)"
   ]
  },
  {
   "cell_type": "markdown",
   "id": "de894071",
   "metadata": {},
   "source": [
    "### Show the First Few Rows"
   ]
  },
  {
   "cell_type": "code",
   "execution_count": 6,
   "id": "1cc644f3-a9f6-4f22-8b3b-eee3f90b4e3e",
   "metadata": {
    "scrolled": true
   },
   "outputs": [
    {
     "name": "stdout",
     "output_type": "stream",
     "text": [
      "-RECORD 0--------------------------------------------------\n",
      " agriculturestructureindicator      | NULL                 \n",
      " basefloodelevation                 | NULL                 \n",
      " basementenclosurecrawlspacetype    | 2                    \n",
      " cancellationdateoffloodpolicy      | NULL                 \n",
      " censustract                        | 33013038500          \n",
      " condominiumindicator               | N                    \n",
      " construction                       | N                    \n",
      " countycode                         | 33013                \n",
      " crsdiscount                        | 0.0                  \n",
      " deductibleamountinbuildingcoverage | 0                    \n",
      " deductibleamountincontentscoverage | 0                    \n",
      " elevatedbuildingindicator          | N                    \n",
      " elevationcertificateindicator      | NULL                 \n",
      " elevationdifference                | 999                  \n",
      " federalpolicyfee                   | 13                   \n",
      " floodzone                          | X                    \n",
      " hfiaasurcharge                     | 0                    \n",
      " houseofworshipindicator            | NULL                 \n",
      " latitude                           | 43.3                 \n",
      " locationofcontents                 | Basement/Enclosur... \n",
      " longitude                          | -71.8                \n",
      " lowestadjacentgrade                | NULL                 \n",
      " lowestfloorelevation               | NULL                 \n",
      " nonprofitindicator                 | NULL                 \n",
      " numberoffloorsininsuredbuilding    | 2                    \n",
      " obstructiontype                    | NULL                 \n",
      " occupancytype                      | 1                    \n",
      " originalconstructiondate           | 1974-12-30           \n",
      " originalnbdate                     | 2008-08-19           \n",
      " policycost                         | 388                  \n",
      " policycount                        | 1                    \n",
      " policyeffectivedate                | 2009-08-19           \n",
      " policyterminationdate              | 2010-08-19           \n",
      " policytermindicator                | 1                    \n",
      " postfirmconstructionindicator      | N                    \n",
      " primaryresidenceindicator          | Y                    \n",
      " propertystate                      | NH                   \n",
      " reportedzipcode                    | 03278                \n",
      " ratemethod                         | 7                    \n",
      " regularemergencyprogramindicator   | R                    \n",
      " reportedcity                       | WARNER               \n",
      " smallbusinessindicatorbuilding     | NULL                 \n",
      " totalbuildinginsurancecoverage     | 250000               \n",
      " totalcontentsinsurancecoverage     | 100000               \n",
      " totalinsurancepremiumofthepolicy   | 375                  \n",
      "-RECORD 1--------------------------------------------------\n",
      " agriculturestructureindicator      | NULL                 \n",
      " basefloodelevation                 | NULL                 \n",
      " basementenclosurecrawlspacetype    | 0                    \n",
      " cancellationdateoffloodpolicy      | NULL                 \n",
      " censustract                        | 22063040700          \n",
      " condominiumindicator               | N                    \n",
      " construction                       | N                    \n",
      " countycode                         | 22063                \n",
      " crsdiscount                        | 0.05                 \n",
      " deductibleamountinbuildingcoverage | 1                    \n",
      " deductibleamountincontentscoverage | 1                    \n",
      " elevatedbuildingindicator          | N                    \n",
      " elevationcertificateindicator      | NULL                 \n",
      " elevationdifference                | 999                  \n",
      " federalpolicyfee                   | 35                   \n",
      " floodzone                          | AE                   \n",
      " hfiaasurcharge                     | 0                    \n",
      " houseofworshipindicator            | NULL                 \n",
      " latitude                           | 30.5                 \n",
      " locationofcontents                 | Lowest floor only... \n",
      " longitude                          | -91.0                \n",
      " lowestadjacentgrade                | NULL                 \n",
      " lowestfloorelevation               | NULL                 \n",
      " nonprofitindicator                 | NULL                 \n",
      " numberoffloorsininsuredbuilding    | 1                    \n",
      " obstructiontype                    | NULL                 \n",
      " occupancytype                      | 3                    \n",
      " originalconstructiondate           | 1974-07-01           \n",
      " originalnbdate                     | 1997-10-04           \n",
      " policycost                         | 315                  \n",
      " policycount                        | 1                    \n",
      " policyeffectivedate                | 2009-10-04           \n",
      " policyterminationdate              | 2010-10-04           \n",
      " policytermindicator                | 1                    \n",
      " postfirmconstructionindicator      | N                    \n",
      " primaryresidenceindicator          | Y                    \n",
      " propertystate                      | LA                   \n",
      " reportedzipcode                    | 70726                \n",
      " ratemethod                         | 1                    \n",
      " regularemergencyprogramindicator   | R                    \n",
      " reportedcity                       | DENHAM SPRINGS       \n",
      " smallbusinessindicatorbuilding     | NULL                 \n",
      " totalbuildinginsurancecoverage     | 16400                \n",
      " totalcontentsinsurancecoverage     | 8800                 \n",
      " totalinsurancepremiumofthepolicy   | 280                  \n",
      "-RECORD 2--------------------------------------------------\n",
      " agriculturestructureindicator      | NULL                 \n",
      " basefloodelevation                 | NULL                 \n",
      " basementenclosurecrawlspacetype    | 0                    \n",
      " cancellationdateoffloodpolicy      | NULL                 \n",
      " censustract                        | 45051060204          \n",
      " condominiumindicator               | N                    \n",
      " construction                       | N                    \n",
      " countycode                         | 45051                \n",
      " crsdiscount                        | 0.0                  \n",
      " deductibleamountinbuildingcoverage | 0                    \n",
      " deductibleamountincontentscoverage | 0                    \n",
      " elevatedbuildingindicator          | N                    \n",
      " elevationcertificateindicator      | 1                    \n",
      " elevationdifference                | 999                  \n",
      " federalpolicyfee                   | 13                   \n",
      " floodzone                          | X                    \n",
      " hfiaasurcharge                     | 0                    \n",
      " houseofworshipindicator            | NULL                 \n",
      " latitude                           | 33.7                 \n",
      " locationofcontents                 | Lowest floor only... \n",
      " longitude                          | -79.0                \n",
      " lowestadjacentgrade                | NULL                 \n",
      " lowestfloorelevation               | NULL                 \n",
      " nonprofitindicator                 | NULL                 \n",
      " numberoffloorsininsuredbuilding    | 1                    \n",
      " obstructiontype                    | NULL                 \n",
      " occupancytype                      | 1                    \n",
      " originalconstructiondate           | 2003-07-01           \n",
      " originalnbdate                     | 2005-08-13           \n",
      " policycost                         | 348                  \n",
      " policycount                        | 1                    \n",
      " policyeffectivedate                | 2009-08-13           \n",
      " policyterminationdate              | 2010-08-13           \n",
      " policytermindicator                | 1                    \n",
      " postfirmconstructionindicator      | Y                    \n",
      " primaryresidenceindicator          | Y                    \n",
      " propertystate                      | SC                   \n",
      " reportedzipcode                    | 29579                \n",
      " ratemethod                         | 7                    \n",
      " regularemergencyprogramindicator   | R                    \n",
      " reportedcity                       | MYRTLE BEACH         \n",
      " smallbusinessindicatorbuilding     | NULL                 \n",
      " totalbuildinginsurancecoverage     | 250000               \n",
      " totalcontentsinsurancecoverage     | 100000               \n",
      " totalinsurancepremiumofthepolicy   | 335                  \n",
      "-RECORD 3--------------------------------------------------\n",
      " agriculturestructureindicator      | NULL                 \n",
      " basefloodelevation                 | 519.0                \n",
      " basementenclosurecrawlspacetype    | 2                    \n",
      " cancellationdateoffloodpolicy      | 2016-04-01           \n",
      " censustract                        | 1055001200           \n",
      " condominiumindicator               | N                    \n",
      " construction                       | N                    \n",
      " countycode                         | 1055                 \n",
      " crsdiscount                        | 0.0                  \n",
      " deductibleamountinbuildingcoverage | 1                    \n",
      " deductibleamountincontentscoverage | 1                    \n",
      " elevatedbuildingindicator          | Y                    \n",
      " elevationcertificateindicator      | NULL                 \n",
      " elevationdifference                | -2                   \n",
      " federalpolicyfee                   | 35                   \n",
      " floodzone                          | AE                   \n",
      " hfiaasurcharge                     | 0                    \n",
      " houseofworshipindicator            | NULL                 \n",
      " latitude                           | 34.0                 \n",
      " locationofcontents                 | NULL                 \n",
      " longitude                          | -86.0                \n",
      " lowestadjacentgrade                | 517.3                \n",
      " lowestfloorelevation               | 517.3                \n",
      " nonprofitindicator                 | NULL                 \n",
      " numberoffloorsininsuredbuilding    | 3                    \n",
      " obstructiontype                    | 50                   \n",
      " occupancytype                      | 1                    \n",
      " originalconstructiondate           | 1989-01-01           \n",
      " originalnbdate                     | 2006-04-14           \n",
      " policycost                         | 951                  \n",
      " policycount                        | 1                    \n",
      " policyeffectivedate                | 2009-04-14           \n",
      " policyterminationdate              | 2010-04-14           \n",
      " policytermindicator                | 1                    \n",
      " postfirmconstructionindicator      | Y                    \n",
      " primaryresidenceindicator          | Y                    \n",
      " propertystate                      | AL                   \n",
      " reportedzipcode                    | 35901                \n",
      " ratemethod                         | 2                    \n",
      " regularemergencyprogramindicator   | R                    \n",
      " reportedcity                       | GADSDEN              \n",
      " smallbusinessindicatorbuilding     | NULL                 \n",
      " totalbuildinginsurancecoverage     | 174900               \n",
      " totalcontentsinsurancecoverage     | 21000                \n",
      " totalinsurancepremiumofthepolicy   | 916                  \n",
      "-RECORD 4--------------------------------------------------\n",
      " agriculturestructureindicator      | NULL                 \n",
      " basefloodelevation                 | 7.0                  \n",
      " basementenclosurecrawlspacetype    | 0                    \n",
      " cancellationdateoffloodpolicy      | NULL                 \n",
      " censustract                        | 12086000115          \n",
      " condominiumindicator               | N                    \n",
      " construction                       | N                    \n",
      " countycode                         | 12086                \n",
      " crsdiscount                        | 0.0                  \n",
      " deductibleamountinbuildingcoverage | 0                    \n",
      " deductibleamountincontentscoverage | 0                    \n",
      " elevatedbuildingindicator          | N                    \n",
      " elevationcertificateindicator      | 3                    \n",
      " elevationdifference                | 0                    \n",
      " federalpolicyfee                   | 35                   \n",
      " floodzone                          | A10                  \n",
      " hfiaasurcharge                     | 0                    \n",
      " houseofworshipindicator            | NULL                 \n",
      " latitude                           | 26.0                 \n",
      " locationofcontents                 | Lowest floor only... \n",
      " longitude                          | -80.1                \n",
      " lowestadjacentgrade                | NULL                 \n",
      " lowestfloorelevation               | 6.9                  \n",
      " nonprofitindicator                 | NULL                 \n",
      " numberoffloorsininsuredbuilding    | 1                    \n",
      " obstructiontype                    | NULL                 \n",
      " occupancytype                      | 1                    \n",
      " originalconstructiondate           | 1957-07-01           \n",
      " originalnbdate                     | 1996-04-04           \n",
      " policycost                         | 1323                 \n",
      " policycount                        | 1                    \n",
      " policyeffectivedate                | 2009-04-04           \n",
      " policyterminationdate              | 2010-04-04           \n",
      " policytermindicator                | 1                    \n",
      " postfirmconstructionindicator      | N                    \n",
      " primaryresidenceindicator          | Y                    \n",
      " propertystate                      | FL                   \n",
      " reportedzipcode                    | 33160                \n",
      " ratemethod                         | 1                    \n",
      " regularemergencyprogramindicator   | R                    \n",
      " reportedcity                       | GOLDEN BEACH         \n",
      " smallbusinessindicatorbuilding     | NULL                 \n",
      " totalbuildinginsurancecoverage     | 250000               \n",
      " totalcontentsinsurancecoverage     | 100000               \n",
      " totalinsurancepremiumofthepolicy   | 1288                 \n",
      "only showing top 5 rows\n",
      "\n"
     ]
    }
   ],
   "source": [
    "df.show(5,vertical=True)"
   ]
  },
  {
   "cell_type": "markdown",
   "id": "3541ea90",
   "metadata": {},
   "source": [
    "### Display Number of Observations"
   ]
  },
  {
   "cell_type": "code",
   "execution_count": 7,
   "id": "0f37f095-f79b-47a4-9761-6a0a220ffa77",
   "metadata": {},
   "outputs": [
    {
     "name": "stderr",
     "output_type": "stream",
     "text": [
      "                                                                                \r"
     ]
    },
    {
     "data": {
      "text/plain": [
       "50406943"
      ]
     },
     "execution_count": 7,
     "metadata": {},
     "output_type": "execute_result"
    }
   ],
   "source": [
    "df.count()"
   ]
  },
  {
   "cell_type": "markdown",
   "id": "aa4ea34b",
   "metadata": {},
   "source": [
    "FEMA's National Flood Insurance Policy Database, containing over 50 million (50,406,943) policy transactions."
   ]
  },
  {
   "cell_type": "markdown",
   "id": "f46603b6",
   "metadata": {},
   "source": [
    "### Missing Values in the Dataframe"
   ]
  },
  {
   "cell_type": "code",
   "execution_count": 8,
   "id": "46c77deb-7d94-471c-85c3-ceea1fa9ee45",
   "metadata": {},
   "outputs": [],
   "source": [
    "#find number of missing values in the dataframe\n",
    "missing_vals = df.select(*(spark_sum(col(i).isNull().cast(\"int\")).alias(i) for i in df.columns))"
   ]
  },
  {
   "cell_type": "code",
   "execution_count": 9,
   "id": "6554286b-9bcf-4465-964f-f0431fbdb0ab",
   "metadata": {},
   "outputs": [
    {
     "name": "stderr",
     "output_type": "stream",
     "text": [
      "[Stage 6:========================================================>(96 + 1) / 97]\r"
     ]
    },
    {
     "name": "stdout",
     "output_type": "stream",
     "text": [
      "-RECORD 0--------------------------------------\n",
      " agriculturestructureindicator      | 38923313 \n",
      " basefloodelevation                 | 33636759 \n",
      " basementenclosurecrawlspacetype    | 802      \n",
      " cancellationdateoffloodpolicy      | 43614057 \n",
      " censustract                        | 467119   \n",
      " condominiumindicator               | 6        \n",
      " construction                       | 13       \n",
      " countycode                         | 48999    \n",
      " crsdiscount                        | 0        \n",
      " deductibleamountinbuildingcoverage | 661993   \n",
      " deductibleamountincontentscoverage | 5561584  \n",
      " elevatedbuildingindicator          | 258      \n",
      " elevationcertificateindicator      | 32606397 \n",
      " elevationdifference                | 0        \n",
      " federalpolicyfee                   | 0        \n",
      " floodzone                          | 169145   \n",
      " hfiaasurcharge                     | 0        \n",
      " houseofworshipindicator            | 34476251 \n",
      " latitude                           | 338699   \n",
      " locationofcontents                 | 15389767 \n",
      " longitude                          | 338699   \n",
      " lowestadjacentgrade                | 34940579 \n",
      " lowestfloorelevation               | 33060602 \n",
      " nonprofitindicator                 | 34493094 \n",
      " numberoffloorsininsuredbuilding    | 162301   \n",
      " obstructiontype                    | 40629070 \n",
      " occupancytype                      | 6        \n",
      " originalconstructiondate           | 180318   \n",
      " originalnbdate                     | 0        \n",
      " policycost                         | 0        \n",
      " policycount                        | 0        \n",
      " policyeffectivedate                | 0        \n",
      " policyterminationdate              | 0        \n",
      " policytermindicator                | 3        \n",
      " postfirmconstructionindicator      | 180276   \n",
      " primaryresidenceindicator          | 21884    \n",
      " propertystate                      | 0        \n",
      " reportedzipcode                    | 7        \n",
      " ratemethod                         | 902967   \n",
      " regularemergencyprogramindicator   | 2        \n",
      " reportedcity                       | 2        \n",
      " smallbusinessindicatorbuilding     | 33451148 \n",
      " totalbuildinginsurancecoverage     | 0        \n",
      " totalcontentsinsurancecoverage     | 0        \n",
      " totalinsurancepremiumofthepolicy   | 0        \n",
      "\n"
     ]
    },
    {
     "name": "stderr",
     "output_type": "stream",
     "text": [
      "                                                                                \r"
     ]
    }
   ],
   "source": [
    "missing_vals.show(vertical= True)"
   ]
  },
  {
   "cell_type": "markdown",
   "id": "c81c68f1",
   "metadata": {},
   "source": [
    "**Here's a description of the missing value situation in the FEMA Flood Insurance Policy Database:** \n",
    "\n",
    "1. **High Missing Values:**\n",
    "- **Base Flood Elevation, Latitude, Longitude, Lowest Adjacent Grade, Lowest Floor Elevation:** These fields each have around 50,406,943 missing values. This suggests a significant lack of geographic and elevation data, which are critical in flood insurance calculations.\n",
    "- **Elevation Certificate Indicator, Elevation Difference:** Both fields are missing approximately 32,806,397 and 32,897,994 values respectively, indicating that elevation certificates, which are vital for verifying compliance with floodplain management regulations, are largely absent.\n",
    "- **Obstruction Type:** Missing around 40,793,526 values, indicating that details about obstructions which can affect flood risk assessments are predominantly not reported.\n",
    "- **House of Worship Indicator, Nonprofit Indicator:** Each has over 34,476,251 and 34,493,094 missing entries respectively, indicating a lack of identification of these property types, which might have different considerations in policy terms.\n",
    "\n",
    "2. **Moderate Missing Values:**\n",
    "- **Deductible Amount in Building Coverage, Deductible Amount in Contents Coverage:** Missing 15,649,149 and 18,265,104 values respectively, which implies incomplete data on policy deductibles that could affect premium calculations and risk assessments.\n",
    "- **Location of Contents:** With 15,389,767 missing entries, there's substantial missing information on where contents are located within the insured buildings, which is vital for damage assessments.\n",
    "\n",
    "3. **Low Missing Values:**\n",
    "- **Census Tract, Flood Zone:** Missing 467,119 and 169,145 entries respectively. Although relatively lower, these still represent significant gaps, especially as these fields are crucial for location-specific risk assessment.\n",
    "- **Number of Floors in Insured Building:** Missing data on 162,301 entries could affect understanding building structure and associated risk.\n",
    "\n",
    "4. **Minimal to No Missing Values:**\n",
    "- Fields like **CRS Discount, Federal Policy Fee**, and various policy-related dates (effectiveness, termination) and costs show zero missing values, indicating complete data in terms of policy transaction details.\n",
    "- Similarly, **County Code, Construction, Condominium Indicator, Occupancy Type** show minimal missing data (under 50,000), suggesting good coverage of basic property and policyholder information.\n",
    "\n",
    "Overall, the dataset shows a strong presence of policy and basic property information but suffers from a significant absence of detailed geographic and structural data. This gap in data can hamper effective risk assessment and pricing of flood insurance policies, especially in areas prone to flooding where such data is most critical. Addressing these missing values, either by data imputation where appropriate or by collecting missing data, could significantly enhance the robustness of any analysis or predictive modeling based on this dataset."
   ]
  },
  {
   "cell_type": "markdown",
   "id": "68e0471c",
   "metadata": {},
   "source": [
    "### Statistics Summary and Data Distribution"
   ]
  },
  {
   "cell_type": "code",
   "execution_count": 10,
   "id": "8760f304",
   "metadata": {},
   "outputs": [
    {
     "name": "stderr",
     "output_type": "stream",
     "text": [
      "24/05/15 17:29:58 WARN SparkStringUtils: Truncated the string representation of a plan since it was too large. This behavior can be adjusted by setting 'spark.sql.debug.maxToStringFields'.\n",
      "[Stage 11:>                                                         (0 + 1) / 1]\r"
     ]
    },
    {
     "name": "stdout",
     "output_type": "stream",
     "text": [
      "-RECORD 0------------------------------------------------\n",
      " summary                          | count                \n",
      " basefloodelevation               | 16770184             \n",
      " basementenclosurecrawlspacetype  | 50406141             \n",
      " censustract                      | 49939824             \n",
      " countycode                       | 50357944             \n",
      " crsdiscount                      | 50406943             \n",
      " elevationdifference              | 50406943             \n",
      " federalpolicyfee                 | 50406943             \n",
      " hfiaasurcharge                   | 50406943             \n",
      " latitude                         | 50068244             \n",
      " longitude                        | 50068244             \n",
      " lowestadjacentgrade              | 15466364             \n",
      " lowestfloorelevation             | 17346341             \n",
      " numberoffloorsininsuredbuilding  | 50244642             \n",
      " occupancytype                    | 50406937             \n",
      " policycost                       | 50406943             \n",
      " policycount                      | 50406943             \n",
      " policytermindicator              | 50406940             \n",
      " totalbuildinginsurancecoverage   | 50406943             \n",
      " totalcontentsinsurancecoverage   | 50406943             \n",
      " totalinsurancepremiumofthepolicy | 50406943             \n",
      "-RECORD 1------------------------------------------------\n",
      " summary                          | mean                 \n",
      " basefloodelevation               | 119.46875184553842   \n",
      " basementenclosurecrawlspacetype  | 0.37034783122953213  \n",
      " censustract                      | 2.600713413696665E10 \n",
      " countycode                       | 26131.694903946038   \n",
      " crsdiscount                      | 0.0638045804523593   \n",
      " elevationdifference              | 652.7287821044811    \n",
      " federalpolicyfee                 | 37.28163846397113    \n",
      " hfiaasurcharge                   | 35.978938476788805   \n",
      " latitude                         | 32.56980881534298    \n",
      " longitude                        | -87.84068065981351   \n",
      " lowestadjacentgrade              | 129.1970600006573    \n",
      " lowestfloorelevation             | 385.6220114835789    \n",
      " numberoffloorsininsuredbuilding  | 1.6506924061674078   \n",
      " occupancytype                    | 1.3606187576920217   \n",
      " policycost                       | 912.2705097787818    \n",
      " policycount                      | 1.2533995961627746   \n",
      " policytermindicator              | 1.0064443507183733   \n",
      " totalbuildinginsurancecoverage   | 237988.65857626003   \n",
      " totalcontentsinsurancecoverage   | 56495.85875104547    \n",
      " totalinsurancepremiumofthepolicy | 782.522127437881     \n",
      "-RECORD 2------------------------------------------------\n",
      " summary                          | stddev               \n",
      " basefloodelevation               | 522.4923899327453    \n",
      " basementenclosurecrawlspacetype  | 0.8565172820726049   \n",
      " censustract                      | 1.57505783815547E10  \n",
      " countycode                       | 15890.818432604121   \n",
      " crsdiscount                      | 0.09100289197081944  \n",
      " elevationdifference              | 477.66093269871527   \n",
      " federalpolicyfee                 | 74.43304422666706    \n",
      " hfiaasurcharge                   | 79.39438961634104    \n",
      " latitude                         | 5.783491098896586    \n",
      " longitude                        | 13.358819579013812   \n",
      " lowestadjacentgrade              | 609.9164851452954    \n",
      " lowestfloorelevation             | 1676.4233283396445   \n",
      " numberoffloorsininsuredbuilding  | 0.8270384564297135   \n",
      " occupancytype                    | 0.9757148873746709   \n",
      " policycost                       | 1808.6990867989805   \n",
      " policycount                      | 5.098220813627468    \n",
      " policytermindicator              | 0.11354681866145568  \n",
      " totalbuildinginsurancecoverage   | 1004615.9070116358   \n",
      " totalcontentsinsurancecoverage   | 59525.97385845581    \n",
      " totalinsurancepremiumofthepolicy | 1649.2813681763807   \n",
      "-RECORD 3------------------------------------------------\n",
      " summary                          | min                  \n",
      " basefloodelevation               | -9999.0              \n",
      " basementenclosurecrawlspacetype  | 0                    \n",
      " censustract                      | 1003                 \n",
      " countycode                       | 1001                 \n",
      " crsdiscount                      | 0.0                  \n",
      " elevationdifference              | -9995                \n",
      " federalpolicyfee                 | -1600                \n",
      " hfiaasurcharge                   | -500                 \n",
      " latitude                         | -14.3                \n",
      " longitude                        | -170.7               \n",
      " lowestadjacentgrade              | -9999.9              \n",
      " lowestfloorelevation             | -9997.9              \n",
      " numberoffloorsininsuredbuilding  | 1                    \n",
      " occupancytype                    | 1                    \n",
      " policycost                       | -8731                \n",
      " policycount                      | 1                    \n",
      " policytermindicator              | 1                    \n",
      " totalbuildinginsurancecoverage   | 0                    \n",
      " totalcontentsinsurancecoverage   | 0                    \n",
      " totalinsurancepremiumofthepolicy | -5928                \n",
      "-RECORD 4------------------------------------------------\n",
      " summary                          | max                  \n",
      " basefloodelevation               | 85640.0              \n",
      " basementenclosurecrawlspacetype  | 4                    \n",
      " censustract                      | 78030961200          \n",
      " countycode                       | 78030                \n",
      " crsdiscount                      | 0.45                 \n",
      " elevationdifference              | 9998                 \n",
      " federalpolicyfee                 | 4000                 \n",
      " hfiaasurcharge                   | 2575                 \n",
      " latitude                         | 69.9                 \n",
      " longitude                        | 145.8                \n",
      " lowestadjacentgrade              | 99990.9              \n",
      " lowestfloorelevation             | 99989.0              \n",
      " numberoffloorsininsuredbuilding  | 6                    \n",
      " occupancytype                    | 6                    \n",
      " policycost                       | 1115140              \n",
      " policycount                      | 1203                 \n",
      " policytermindicator              | 9                    \n",
      " totalbuildinginsurancecoverage   | 249750000            \n",
      " totalcontentsinsurancecoverage   | 6000000              \n",
      " totalinsurancepremiumofthepolicy | 1061158              \n",
      "\n"
     ]
    },
    {
     "name": "stderr",
     "output_type": "stream",
     "text": [
      "                                                                                \r"
     ]
    }
   ],
   "source": [
    "numerical_columns = [col_name for col_name, data_type in df.dtypes if data_type in [\"int\", \"bigint\", \"double\"]]\n",
    "\n",
    "# Select only numerical columns\n",
    "numerical_df = df.select(*numerical_columns)\n",
    "\n",
    "# Generate summary statistics\n",
    "summary_stats = numerical_df.describe()\n",
    "\n",
    "# Show summary statistics\n",
    "summary_stats.show(vertical = True)"
   ]
  },
  {
   "cell_type": "markdown",
   "id": "a7e1b200",
   "metadata": {},
   "source": [
    "The summary statistics for the FEMA National Flood Insurance Policy Database provide a comprehensive overview of various policy and property-related numerical attributes. These statistics include measures of central tendency, dispersion, and range, all of which are critical for understanding the distribution and potential data quality issues within the dataset. Below is a detailed analysis of the key statistical summaries:\n",
    "\n",
    "**Central Tendency and Dispersion**\n",
    "1. **Base Flood Elevation:**\n",
    "- Average (Mean): 119.47 ft.\n",
    "- Standard Deviation: 522.49 ft.\n",
    "- Range: -9999 - 85,640 ft.\n",
    "2. **Lowest Adjacent Grade:**\n",
    "- Average (Mean): 129.20 ft.\n",
    "- Standard Deviation: 609.92 ft.\n",
    "- Range: -9,999 - 99,990.9 ft.\n",
    "3. **Lowest Floor Elevation:**\n",
    "- Average (Mean): 385.62 ft.\n",
    "- Standard Deviation: 1,676.42 ft.\n",
    "- Range: -9,997.9 - 99,989 ft.\n",
    "4. **Basement Enclosure Crawl Space Type:**\n",
    "- Average (Mean): 0.37, indicating a slight bias towards lower classifications.\n",
    "- Standard Deviation: 0.86, showing moderate variability within the data.\n",
    "- Range: Min 0 to Max 4, spanning several classification levels.\n",
    "5. **Census Tract:**\n",
    "- Average (Mean): Approximately 2.6 x 10¹⁰.\n",
    "- Standard Deviation: About 1.58 x 10¹⁰, suggesting a wide spread across census tracts.\n",
    "6. **CRS Discount:**\n",
    "- Average: 0.064, typically low across the dataset.\n",
    "- Standard Deviation: 0.091, with most data points close to zero but some higher values.\n",
    "7. **Deductible Amount in Building and Contents Coverage:**\n",
    "- Building Coverage Average: 1.66 with a deviation of 1.46.\n",
    "- Contents Coverage Average: 0.98 with a deviation of 1.05.\n",
    "- Both show low average deductible amounts but with notable variation.\n",
    "8. **Elevation Difference:**\n",
    "- Average: 1.69, indicating minor differences in elevation on average.\n",
    "- Standard Deviation: 3.39, suggesting significant outliers affecting the elevation difference.\n",
    "9. **Policy Related Figures (Policy Cost, Policy Count, Total Insurance Coverage, etc.):**\n",
    "- These values have a high mean and standard deviation, indicating a significant spread in the policy costs and coverages, reflecting diverse insurance policies and property valuations.\n",
    "\n",
    "**Extremes (Minimum and Maximum Values)**\n",
    "- Notable minimums include negative values in **Federal Policy Fee and HFIAA Surcharge**, possibly indicating refunds or adjustments.\n",
    "- The maximum values in **Total Building Insurance Coverage and Total Insurance Premium of the Policy** reach into the hundreds of millions, highlighting cases with exceptionally high insurance coverage.\n",
    "\n",
    "**Implications**\n",
    "The substantial missing data in critical geographical and elevation columns could significantly hinder risk assessment accuracy. The wide variability in policy costs and coverage levels underscores the diverse nature of the insured properties. Accurate and complete data in these fields are crucial for effective risk management and policy pricing in flood insurance.\n",
    "\n",
    "This analysis provides a basis for further data cleaning, particularly in addressing missing values and outliers, which are essential for improving data quality and the reliability of subsequent analyses and decision-making processes based on this dataset."
   ]
  },
  {
   "cell_type": "markdown",
   "id": "f57c08be-71bc-4c28-823e-d1b2537cc6d6",
   "metadata": {},
   "source": [
    "### Correlations Among Variables"
   ]
  },
  {
   "cell_type": "code",
   "execution_count": 11,
   "id": "8de39205-bbba-4da1-8a6a-aa5b67e4855c",
   "metadata": {},
   "outputs": [
    {
     "name": "stdout",
     "output_type": "stream",
     "text": [
      "-RECORD 0---------------------------------------\n",
      " basefloodelevation               | NULL        \n",
      " basementenclosurecrawlspacetype  | 2           \n",
      " censustract                      | 33013038500 \n",
      " countycode                       | 33013       \n",
      " crsdiscount                      | 0.0         \n",
      " elevationdifference              | 999         \n",
      " federalpolicyfee                 | 13          \n",
      " hfiaasurcharge                   | 0           \n",
      " latitude                         | 43.3        \n",
      " longitude                        | -71.8       \n",
      " lowestadjacentgrade              | NULL        \n",
      " lowestfloorelevation             | NULL        \n",
      " numberoffloorsininsuredbuilding  | 2           \n",
      " occupancytype                    | 1           \n",
      " policycost                       | 388         \n",
      " policycount                      | 1           \n",
      " policytermindicator              | 1           \n",
      " totalbuildinginsurancecoverage   | 250000      \n",
      " totalcontentsinsurancecoverage   | 100000      \n",
      " totalinsurancepremiumofthepolicy | 375         \n",
      "-RECORD 1---------------------------------------\n",
      " basefloodelevation               | NULL        \n",
      " basementenclosurecrawlspacetype  | 0           \n",
      " censustract                      | 22063040700 \n",
      " countycode                       | 22063       \n",
      " crsdiscount                      | 0.05        \n",
      " elevationdifference              | 999         \n",
      " federalpolicyfee                 | 35          \n",
      " hfiaasurcharge                   | 0           \n",
      " latitude                         | 30.5        \n",
      " longitude                        | -91.0       \n",
      " lowestadjacentgrade              | NULL        \n",
      " lowestfloorelevation             | NULL        \n",
      " numberoffloorsininsuredbuilding  | 1           \n",
      " occupancytype                    | 3           \n",
      " policycost                       | 315         \n",
      " policycount                      | 1           \n",
      " policytermindicator              | 1           \n",
      " totalbuildinginsurancecoverage   | 16400       \n",
      " totalcontentsinsurancecoverage   | 8800        \n",
      " totalinsurancepremiumofthepolicy | 280         \n",
      "-RECORD 2---------------------------------------\n",
      " basefloodelevation               | NULL        \n",
      " basementenclosurecrawlspacetype  | 0           \n",
      " censustract                      | 45051060204 \n",
      " countycode                       | 45051       \n",
      " crsdiscount                      | 0.0         \n",
      " elevationdifference              | 999         \n",
      " federalpolicyfee                 | 13          \n",
      " hfiaasurcharge                   | 0           \n",
      " latitude                         | 33.7        \n",
      " longitude                        | -79.0       \n",
      " lowestadjacentgrade              | NULL        \n",
      " lowestfloorelevation             | NULL        \n",
      " numberoffloorsininsuredbuilding  | 1           \n",
      " occupancytype                    | 1           \n",
      " policycost                       | 348         \n",
      " policycount                      | 1           \n",
      " policytermindicator              | 1           \n",
      " totalbuildinginsurancecoverage   | 250000      \n",
      " totalcontentsinsurancecoverage   | 100000      \n",
      " totalinsurancepremiumofthepolicy | 335         \n",
      "-RECORD 3---------------------------------------\n",
      " basefloodelevation               | 519.0       \n",
      " basementenclosurecrawlspacetype  | 2           \n",
      " censustract                      | 1055001200  \n",
      " countycode                       | 1055        \n",
      " crsdiscount                      | 0.0         \n",
      " elevationdifference              | -2          \n",
      " federalpolicyfee                 | 35          \n",
      " hfiaasurcharge                   | 0           \n",
      " latitude                         | 34.0        \n",
      " longitude                        | -86.0       \n",
      " lowestadjacentgrade              | 517.3       \n",
      " lowestfloorelevation             | 517.3       \n",
      " numberoffloorsininsuredbuilding  | 3           \n",
      " occupancytype                    | 1           \n",
      " policycost                       | 951         \n",
      " policycount                      | 1           \n",
      " policytermindicator              | 1           \n",
      " totalbuildinginsurancecoverage   | 174900      \n",
      " totalcontentsinsurancecoverage   | 21000       \n",
      " totalinsurancepremiumofthepolicy | 916         \n",
      "-RECORD 4---------------------------------------\n",
      " basefloodelevation               | 7.0         \n",
      " basementenclosurecrawlspacetype  | 0           \n",
      " censustract                      | 12086000115 \n",
      " countycode                       | 12086       \n",
      " crsdiscount                      | 0.0         \n",
      " elevationdifference              | 0           \n",
      " federalpolicyfee                 | 35          \n",
      " hfiaasurcharge                   | 0           \n",
      " latitude                         | 26.0        \n",
      " longitude                        | -80.1       \n",
      " lowestadjacentgrade              | NULL        \n",
      " lowestfloorelevation             | 6.9         \n",
      " numberoffloorsininsuredbuilding  | 1           \n",
      " occupancytype                    | 1           \n",
      " policycost                       | 1323        \n",
      " policycount                      | 1           \n",
      " policytermindicator              | 1           \n",
      " totalbuildinginsurancecoverage   | 250000      \n",
      " totalcontentsinsurancecoverage   | 100000      \n",
      " totalinsurancepremiumofthepolicy | 1288        \n",
      "only showing top 5 rows\n",
      "\n"
     ]
    }
   ],
   "source": [
    "numerical_df.show(5,vertical=True)"
   ]
  },
  {
   "cell_type": "code",
   "execution_count": 12,
   "id": "815d99a1-7348-4b2c-a42a-1aee2231685a",
   "metadata": {},
   "outputs": [
    {
     "name": "stderr",
     "output_type": "stream",
     "text": [
      "                                                                                \r"
     ]
    },
    {
     "data": {
      "text/plain": [
       "DataFrame[features: vector]"
      ]
     },
     "execution_count": 12,
     "metadata": {},
     "output_type": "execute_result"
    }
   ],
   "source": [
    "from pyspark.ml.stat import Correlation\n",
    "from pyspark.ml.feature import VectorAssembler\n",
    "from pyspark.ml.feature import Imputer\n",
    "\n",
    "v_col = \"features\"\n",
    "input = numerical_df.columns\n",
    "output = [v_col + str(i) for i in range(len(input))]\n",
    "imputer = Imputer(strategy='mean',inputCols=input,outputCols=output)\n",
    "changed_df = imputer.fit(numerical_df).transform(numerical_df) \n",
    "\n",
    "assembler = VectorAssembler(inputCols=output,outputCol=v_col)\n",
    "numerical_df_vector = assembler.transform(changed_df).select(v_col)\n",
    "numerical_df_vector"
   ]
  },
  {
   "cell_type": "code",
   "execution_count": 13,
   "id": "24a84814-8007-4d66-9ff1-a65c567c8f06",
   "metadata": {},
   "outputs": [
    {
     "name": "stderr",
     "output_type": "stream",
     "text": [
      "24/05/15 17:41:34 WARN InstanceBuilder: Failed to load implementation from:dev.ludovic.netlib.blas.JNIBLAS\n",
      "                                                                                \r"
     ]
    },
    {
     "name": "stdout",
     "output_type": "stream",
     "text": [
      "[[1.0, 0.05835923233138658, 0.04534871506023086, 0.04452366797155514, -0.1022692110809783, 7.47005824308549e-05, -0.010387177126363122, 0.01428401512834972, 0.12638383851377266, -0.13551456752425803, 0.8181030501174288, 0.3047834007873046, 0.021232049918501986, 0.03948821384956355, -0.0017586364749227305, -0.008273477372144565, -1.6570593107843474e-05, -0.007974781636194578, -0.034322440372659094, -0.002348467821387104], [0.05835923233138658, 1.0, 0.13623903586845484, 0.1322243889691115, -0.1337456840142641, 0.04144637455805757, 0.021515636223077703, 0.03920512967982893, 0.4322749154690187, 0.10160449532374921, 0.05012914035133893, -0.014776239600981917, 0.4205917981132781, -0.06389760287441464, 0.07213744564440353, 0.00879790297900046, -0.02450568557810686, 0.0069468869987788255, -0.09892408517021709, 0.0693259281247627], [0.04534871506023086, 0.13623903586845484, 1.0, 0.9861052821687086, -0.2363377259085023, 0.14064291796967068, -0.04651095355139787, -0.001706502567808509, 0.2712693913748729, 0.03869302136198095, 0.034632614969485595, 0.00013748359067109297, 0.1309207039214921, -0.021518544770044813, -0.009406725795160385, -0.023542521100064745, 0.035625079186622, -0.02664276057268567, 0.014045383330901539, -0.007888058597759437], [0.04452366797155514, 0.1322243889691115, 0.9861052821687086, 1.0, -0.23953380471436225, 0.13888862687868733, -0.04591061242264458, -0.003809403143624529, 0.2508501234655084, 0.04963240625202723, 0.03410361028464174, -0.0006806644490994336, 0.1266704346367964, -0.02083336431546965, -0.010202709301517733, -0.02335026782739592, 0.04136907348096722, -0.027360032357225793, 0.008361075386161178, -0.008511916163268999], [-0.1022692110809783, -0.1337456840142641, -0.2363377259085023, -0.23953380471436225, 1.0, -0.5259678054689083, 0.12618095833291212, 0.048954413784206216, -0.27508558815552225, 0.12376428198089935, -0.08582096552979475, -0.005754522318365612, -0.06978076159056358, 0.04701164748485698, 0.06739894183937774, 0.028147108771781164, -0.03970568654901237, 0.025212129977885484, -0.1443948051727502, 0.058638703250568816], [7.47005824308549e-05, 0.04144637455805757, 0.14064291796967068, 0.13888862687868733, -0.5259678054689083, 1.0, -0.12308129153346878, -0.049719595418787, 0.1959940803211799, -0.14955971097407336, 0.0024252710722784403, 0.005525565608556751, -0.029593681054096363, -0.050680829799671465, 0.0006468266631659087, -0.030650107257665246, 0.04104422570965058, -0.03866066385828043, 0.11507960281910591, 0.009922795564581026], [-0.010387177126363122, 0.021515636223077703, -0.04651095355139787, -0.04591061242264458, 0.12618095833291212, -0.12308129153346878, 1.0, 0.15998037490116274, -0.025691289046857822, 0.036433404846374536, -0.00935471628409477, -0.011257958056321798, 0.10729663798512859, 0.1423736707514655, 0.38647213373301115, 0.5481074038104508, -0.028390574934202866, 0.49635660866817927, -0.09552873635534821, 0.33594882023229616], [0.01428401512834972, 0.03920512967982893, -0.001706502567808509, -0.003809403143624529, 0.048954413784206216, -0.049719595418787, 0.15998037490116274, 1.0, 0.04994652724067948, 0.011012441102289194, 0.011091913551252462, -0.018746313988876353, 0.056225567874606905, 0.3014557593894686, 0.18235192862173985, 0.031949873197437695, -0.02571907189115425, 0.03871098206689112, 0.014049042681092581, 0.11148432510815016], [0.12638383851377266, 0.4322749154690187, 0.2712693913748729, 0.2508501234655084, -0.27508558815552225, 0.1959940803211799, -0.025691289046857822, 0.04994652724067948, 1.0, -0.1082262506822412, 0.10842310185825517, 0.01787552000870374, 0.3437598815781546, 0.037078977440137384, 0.06080599667465571, -0.025127279321340533, 0.001390069725837008, -0.02446116456239017, -0.10442024470081457, 0.06066938471879821], [-0.13551456752425803, 0.10160449532374921, 0.03869302136198095, 0.04963240625202723, 0.12376428198089935, -0.14955971097407336, 0.036433404846374536, 0.011012441102289194, -0.1082262506822412, 1.0, -0.12337700047640353, -0.042059964522486684, 0.1276384494270046, -0.002480491656868306, 0.02526211626729129, 0.01019871929455978, 0.005318202524779173, 0.0071488666890626796, -0.001737349490611997, 0.023512821648468855], [0.8181030501174288, 0.05012914035133893, 0.034632614969485595, 0.03410361028464174, -0.08582096552979475, 0.0024252710722784403, -0.00935471628409477, 0.011091913551252462, 0.10842310185825517, -0.12337700047640353, 1.0, 0.2693569000679416, 0.01599745258739415, 0.03196997211857207, -0.0024574239671749745, -0.007390834576595308, -1.6652186691462246e-05, -0.0071477367754422295, -0.032056743523771095, -0.002950093847013411], [0.3047834007873046, -0.014776239600981917, 0.00013748359067109297, -0.0006806644490994336, -0.005754522318365612, 0.005525565608556751, -0.011257958056321798, -0.018746313988876353, 0.01787552000870374, -0.042059964522486684, 0.2693569000679416, 1.0, -0.028631527400410913, -0.013359456175307356, -0.011281578509076988, -0.008788228443985273, -1.7500646587880414e-05, -0.009305806502271918, -0.009596184147296084, -0.010069264170787648], [0.021232049918501986, 0.4205917981132781, 0.1309207039214921, 0.1266704346367964, -0.06978076159056358, -0.029593681054096363, 0.10729663798512859, 0.056225567874606905, 0.3437598815781546, 0.1276384494270046, 0.01599745258739415, -0.028631527400410913, 1.0, 0.030588790472823733, 0.08060603844556682, 0.06980684688803301, -0.04448801970119596, 0.059600047604373416, -0.06299148189515304, 0.07387415456990586], [0.03948821384956355, -0.06389760287441464, -0.021518544770044813, -0.02083336431546965, 0.04701164748485698, -0.050680829799671465, 0.1423736707514655, 0.3014557593894686, 0.037078977440137384, -0.002480491656868306, 0.03196997211857207, -0.013359456175307356, 0.030588790472823733, 1.0, 0.2598750702057177, 0.08065471349337365, -0.020939086228725683, 0.08355504625754467, 0.1211947541532844, 0.2411040088493328], [-0.0017586364749227305, 0.07213744564440353, -0.009406725795160385, -0.010202709301517733, 0.06739894183937774, 0.0006468266631659087, 0.38647213373301115, 0.18235192862173985, 0.06080599667465571, 0.02526211626729129, -0.0024574239671749745, -0.011281578509076988, 0.08060603844556682, 0.2598750702057177, 1.0, 0.49588758667292604, -0.009773379888579665, 0.5147020510962004, 0.05342580468854643, 0.9938718539469001], [-0.008273477372144565, 0.00879790297900046, -0.023542521100064745, -0.02335026782739592, 0.028147108771781164, -0.030650107257665246, 0.5481074038104508, 0.031949873197437695, -0.025127279321340533, 0.01019871929455978, -0.007390834576595308, -0.008788228443985273, 0.06980684688803301, 0.08065471349337365, 0.49588758667292604, 1.0, -0.0028209245440631316, 0.9346500961070282, -0.024532698397620387, 0.48166575330237577], [-1.6570593107843474e-05, -0.02450568557810686, 0.035625079186622, 0.04136907348096722, -0.03970568654901237, 0.04104422570965058, -0.028390574934202866, -0.02571907189115425, 0.001390069725837008, 0.005318202524779173, -1.6652186691462246e-05, -1.7500646587880414e-05, -0.04448801970119596, -0.020939086228725683, -0.009773379888579665, -0.0028209245440631316, 1.0, -0.011846963244224972, -0.0463923411468774, -0.006256007464303934], [-0.007974781636194578, 0.0069468869987788255, -0.02664276057268567, -0.027360032357225793, 0.025212129977885484, -0.03866066385828043, 0.49635660866817927, 0.03871098206689112, -0.02446116456239017, 0.0071488666890626796, -0.0071477367754422295, -0.009305806502271918, 0.059600047604373416, 0.08355504625754467, 0.5147020510962004, 0.9346500961070282, -0.011846963244224972, 1.0, 0.021330561144657905, 0.5017542593666564], [-0.034322440372659094, -0.09892408517021709, 0.014045383330901539, 0.008361075386161178, -0.1443948051727502, 0.11507960281910591, -0.09552873635534821, 0.014049042681092581, -0.10442024470081457, -0.001737349490611997, -0.032056743523771095, -0.009596184147296084, -0.06299148189515304, 0.1211947541532844, 0.05342580468854643, -0.024532698397620387, -0.0463923411468774, 0.021330561144657905, 1.0, 0.058099200543920884], [-0.002348467821387104, 0.0693259281247627, -0.007888058597759437, -0.008511916163268999, 0.058638703250568816, 0.009922795564581026, 0.33594882023229616, 0.11148432510815016, 0.06066938471879821, 0.023512821648468855, -0.002950093847013411, -0.010069264170787648, 0.07387415456990586, 0.2411040088493328, 0.9938718539469001, 0.48166575330237577, -0.006256007464303934, 0.5017542593666564, 0.058099200543920884, 1.0]]\n"
     ]
    }
   ],
   "source": [
    "matrix = Correlation.corr(numerical_df_vector,v_col).collect()[0][0]\n",
    "corr_matrix = matrix.toArray().tolist()\n",
    "print(corr_matrix)"
   ]
  },
  {
   "cell_type": "code",
   "execution_count": 14,
   "id": "a6f7fb26-e714-4477-8744-0ee9f7099bc8",
   "metadata": {},
   "outputs": [
    {
     "data": {
      "text/plain": [
       "['basefloodelevation',\n",
       " 'basementenclosurecrawlspacetype',\n",
       " 'censustract',\n",
       " 'countycode',\n",
       " 'crsdiscount',\n",
       " 'elevationdifference',\n",
       " 'federalpolicyfee',\n",
       " 'hfiaasurcharge',\n",
       " 'latitude',\n",
       " 'longitude',\n",
       " 'lowestadjacentgrade',\n",
       " 'lowestfloorelevation',\n",
       " 'numberoffloorsininsuredbuilding',\n",
       " 'occupancytype',\n",
       " 'policycost',\n",
       " 'policycount',\n",
       " 'policytermindicator',\n",
       " 'totalbuildinginsurancecoverage',\n",
       " 'totalcontentsinsurancecoverage',\n",
       " 'totalinsurancepremiumofthepolicy']"
      ]
     },
     "execution_count": 14,
     "metadata": {},
     "output_type": "execute_result"
    }
   ],
   "source": [
    "numerical_df.columns"
   ]
  },
  {
   "cell_type": "code",
   "execution_count": 15,
   "id": "27bc495c-9b0c-4c2a-862a-e3911976008f",
   "metadata": {},
   "outputs": [],
   "source": [
    "columns = ['basefloodelevation',\n",
    " 'basementenclosurecrawlspacetype',\n",
    " 'censustract',\n",
    " 'countycode',\n",
    " 'crsdiscount',\n",
    " 'elevationdifference',\n",
    " 'federalpolicyfee',\n",
    " 'hfiaasurcharge',\n",
    " 'latitude',\n",
    " 'longitude',\n",
    " 'lowestadjacentgrade',\n",
    " 'lowestfloorelevation',\n",
    " 'numberoffloorsininsuredbuilding',\n",
    " 'occupancytype',\n",
    " 'policycost',\n",
    " 'policycount',\n",
    " 'policytermindicator',\n",
    " 'totalbuildinginsurancecoverage',\n",
    " 'totalcontentsinsurancecoverage',\n",
    " 'totalinsurancepremiumofthepolicy']\n",
    "df_c = spark.createDataFrame(corr_matrix,columns)"
   ]
  },
  {
   "cell_type": "code",
   "execution_count": 16,
   "id": "2dd59ba2-1e7e-48af-aab5-ce12e63ebbca",
   "metadata": {},
   "outputs": [
    {
     "name": "stderr",
     "output_type": "stream",
     "text": [
      "/Library/Frameworks/Python.framework/Versions/3.12/lib/python3.12/site-packages/pyspark/python/lib/pyspark.zip/pyspark/daemon.py:154: DeprecationWarning: This process (pid=37371) is multi-threaded, use of fork() may lead to deadlocks in the child.\n",
      "                                                                                \r"
     ]
    },
    {
     "name": "stdout",
     "output_type": "stream",
     "text": [
      "+--------------------+-------------------------------+--------------------+\n",
      "|  basefloodelevation|basementenclosurecrawlspacetype|         censustract|\n",
      "+--------------------+-------------------------------+--------------------+\n",
      "|                 1.0|            0.05835923233138658| 0.04534871506023086|\n",
      "| 0.05835923233138658|                            1.0| 0.13623903586845484|\n",
      "| 0.04534871506023086|            0.13623903586845484|                 1.0|\n",
      "| 0.04452366797155514|             0.1322243889691115|  0.9861052821687086|\n",
      "| -0.1022692110809783|            -0.1337456840142641| -0.2363377259085023|\n",
      "| 7.47005824308549E-5|            0.04144637455805757| 0.14064291796967068|\n",
      "|-0.01038717712636...|           0.021515636223077703|-0.04651095355139787|\n",
      "| 0.01428401512834972|            0.03920512967982893|-0.00170650256780...|\n",
      "| 0.12638383851377266|             0.4322749154690187|  0.2712693913748729|\n",
      "|-0.13551456752425803|            0.10160449532374921| 0.03869302136198095|\n",
      "|  0.8181030501174288|            0.05012914035133893|0.034632614969485595|\n",
      "|  0.3047834007873046|           -0.01477623960098...|1.374835906710929...|\n",
      "|0.021232049918501986|             0.4205917981132781|  0.1309207039214921|\n",
      "| 0.03948821384956355|           -0.06389760287441464|-0.02151854477004...|\n",
      "|-0.00175863647492...|            0.07213744564440353|-0.00940672579516...|\n",
      "|-0.00827347737214...|            0.00879790297900046|-0.02354252110006...|\n",
      "|-1.65705931078434...|           -0.02450568557810686|   0.035625079186622|\n",
      "|-0.00797478163619...|           0.006946886998778...|-0.02664276057268567|\n",
      "|-0.03432244037265...|           -0.09892408517021709|0.014045383330901539|\n",
      "|-0.00234846782138...|             0.0693259281247627|-0.00788805859775...|\n",
      "+--------------------+-------------------------------+--------------------+\n",
      "\n"
     ]
    }
   ],
   "source": [
    "df_c.select('basefloodelevation',\n",
    " 'basementenclosurecrawlspacetype',\n",
    " 'censustract').show(20)"
   ]
  },
  {
   "cell_type": "code",
   "execution_count": 17,
   "id": "0310dcee-68c8-452a-a83f-20273013c028",
   "metadata": {},
   "outputs": [
    {
     "name": "stdout",
     "output_type": "stream",
     "text": [
      "+--------------------+--------------------+--------------------+\n",
      "|          countycode|         crsdiscount| elevationdifference|\n",
      "+--------------------+--------------------+--------------------+\n",
      "| 0.04452366797155514| -0.1022692110809783| 7.47005824308549E-5|\n",
      "|  0.1322243889691115| -0.1337456840142641| 0.04144637455805757|\n",
      "|  0.9861052821687086| -0.2363377259085023| 0.14064291796967068|\n",
      "|                 1.0|-0.23953380471436225| 0.13888862687868733|\n",
      "|-0.23953380471436225|                 1.0| -0.5259678054689083|\n",
      "| 0.13888862687868733| -0.5259678054689083|                 1.0|\n",
      "|-0.04591061242264458| 0.12618095833291212|-0.12308129153346878|\n",
      "|-0.00380940314362...|0.048954413784206216|  -0.049719595418787|\n",
      "|  0.2508501234655084|-0.27508558815552225|  0.1959940803211799|\n",
      "| 0.04963240625202723| 0.12376428198089935|-0.14955971097407336|\n",
      "| 0.03410361028464174|-0.08582096552979475|0.002425271072278...|\n",
      "|-6.80664449099433...|-0.00575452231836...|0.005525565608556751|\n",
      "|  0.1266704346367964|-0.06978076159056358|-0.02959368105409...|\n",
      "|-0.02083336431546965| 0.04701164748485698|-0.05068082979967...|\n",
      "|-0.01020270930151...| 0.06739894183937774|6.468266631659087E-4|\n",
      "|-0.02335026782739592|0.028147108771781164|-0.03065010725766...|\n",
      "| 0.04136907348096722|-0.03970568654901237| 0.04104422570965058|\n",
      "|-0.02736003235722...|0.025212129977885484|-0.03866066385828043|\n",
      "|0.008361075386161178| -0.1443948051727502| 0.11507960281910591|\n",
      "|-0.00851191616326...|0.058638703250568816|0.009922795564581026|\n",
      "+--------------------+--------------------+--------------------+\n",
      "\n"
     ]
    }
   ],
   "source": [
    "df_c.select('countycode',\n",
    " 'crsdiscount',\n",
    " 'elevationdifference').show(20)"
   ]
  },
  {
   "cell_type": "code",
   "execution_count": 18,
   "id": "3ca97081-e7db-4b49-b4ef-63ebd3cf3fb4",
   "metadata": {},
   "outputs": [
    {
     "name": "stdout",
     "output_type": "stream",
     "text": [
      "+--------------------+--------------------+--------------------+\n",
      "|    federalpolicyfee|      hfiaasurcharge|            latitude|\n",
      "+--------------------+--------------------+--------------------+\n",
      "|-0.01038717712636...| 0.01428401512834972| 0.12638383851377266|\n",
      "|0.021515636223077703| 0.03920512967982893|  0.4322749154690187|\n",
      "|-0.04651095355139787|-0.00170650256780...|  0.2712693913748729|\n",
      "|-0.04591061242264458|-0.00380940314362...|  0.2508501234655084|\n",
      "| 0.12618095833291212|0.048954413784206216|-0.27508558815552225|\n",
      "|-0.12308129153346878|  -0.049719595418787|  0.1959940803211799|\n",
      "|                 1.0| 0.15998037490116274|-0.02569128904685...|\n",
      "| 0.15998037490116274|                 1.0| 0.04994652724067948|\n",
      "|-0.02569128904685...| 0.04994652724067948|                 1.0|\n",
      "|0.036433404846374536|0.011012441102289194| -0.1082262506822412|\n",
      "|-0.00935471628409477|0.011091913551252462| 0.10842310185825517|\n",
      "|-0.01125795805632...|-0.01874631398887...| 0.01787552000870374|\n",
      "| 0.10729663798512859|0.056225567874606905|  0.3437598815781546|\n",
      "|  0.1423736707514655|  0.3014557593894686|0.037078977440137384|\n",
      "| 0.38647213373301115| 0.18235192862173985| 0.06080599667465571|\n",
      "|  0.5481074038104508|0.031949873197437695|-0.02512727932134...|\n",
      "|-0.02839057493420...|-0.02571907189115425|0.001390069725837008|\n",
      "| 0.49635660866817927| 0.03871098206689112|-0.02446116456239017|\n",
      "|-0.09552873635534821|0.014049042681092581|-0.10442024470081457|\n",
      "| 0.33594882023229616| 0.11148432510815016| 0.06066938471879821|\n",
      "+--------------------+--------------------+--------------------+\n",
      "\n"
     ]
    }
   ],
   "source": [
    "df_c.select('federalpolicyfee',\n",
    " 'hfiaasurcharge',\n",
    " 'latitude').show(20)"
   ]
  },
  {
   "cell_type": "code",
   "execution_count": 19,
   "id": "ff0cad91-59a1-47e7-a55e-4bac354bca84",
   "metadata": {},
   "outputs": [
    {
     "name": "stdout",
     "output_type": "stream",
     "text": [
      "+--------------------+--------------------+--------------------+\n",
      "|           longitude| lowestadjacentgrade|lowestfloorelevation|\n",
      "+--------------------+--------------------+--------------------+\n",
      "|-0.13551456752425803|  0.8181030501174288|  0.3047834007873046|\n",
      "| 0.10160449532374921| 0.05012914035133893|-0.01477623960098...|\n",
      "| 0.03869302136198095|0.034632614969485595|1.374835906710929...|\n",
      "| 0.04963240625202723| 0.03410361028464174|-6.80664449099433...|\n",
      "| 0.12376428198089935|-0.08582096552979475|-0.00575452231836...|\n",
      "|-0.14955971097407336|0.002425271072278...|0.005525565608556751|\n",
      "|0.036433404846374536|-0.00935471628409477|-0.01125795805632...|\n",
      "|0.011012441102289194|0.011091913551252462|-0.01874631398887...|\n",
      "| -0.1082262506822412| 0.10842310185825517| 0.01787552000870374|\n",
      "|                 1.0|-0.12337700047640353|-0.04205996452248...|\n",
      "|-0.12337700047640353|                 1.0|  0.2693569000679416|\n",
      "|-0.04205996452248...|  0.2693569000679416|                 1.0|\n",
      "|  0.1276384494270046| 0.01599745258739415|-0.02863152740041...|\n",
      "|-0.00248049165686...| 0.03196997211857207|-0.01335945617530...|\n",
      "| 0.02526211626729129|-0.00245742396717...|-0.01128157850907...|\n",
      "| 0.01019871929455978|-0.00739083457659...|-0.00878822844398...|\n",
      "|0.005318202524779173|-1.66521866914622...|-1.75006465878804...|\n",
      "|0.007148866689062...|-0.00714773677544...|-0.00930580650227...|\n",
      "|-0.00173734949061...|-0.03205674352377...|-0.00959618414729...|\n",
      "|0.023512821648468855|-0.00295009384701...|-0.01006926417078...|\n",
      "+--------------------+--------------------+--------------------+\n",
      "\n"
     ]
    }
   ],
   "source": [
    "df_c.select('longitude',\n",
    " 'lowestadjacentgrade',\n",
    " 'lowestfloorelevation').show(20)"
   ]
  },
  {
   "cell_type": "code",
   "execution_count": 20,
   "id": "1852d6f6-8a18-46c7-bbdf-d9444f9fe7a4",
   "metadata": {},
   "outputs": [
    {
     "name": "stdout",
     "output_type": "stream",
     "text": [
      "+-------------------------------+--------------------+--------------------+\n",
      "|numberoffloorsininsuredbuilding|       occupancytype|          policycost|\n",
      "+-------------------------------+--------------------+--------------------+\n",
      "|           0.021232049918501986| 0.03948821384956355|-0.00175863647492...|\n",
      "|             0.4205917981132781|-0.06389760287441464| 0.07213744564440353|\n",
      "|             0.1309207039214921|-0.02151854477004...|-0.00940672579516...|\n",
      "|             0.1266704346367964|-0.02083336431546965|-0.01020270930151...|\n",
      "|           -0.06978076159056358| 0.04701164748485698| 0.06739894183937774|\n",
      "|           -0.02959368105409...|-0.05068082979967...|6.468266631659087E-4|\n",
      "|            0.10729663798512859|  0.1423736707514655| 0.38647213373301115|\n",
      "|           0.056225567874606905|  0.3014557593894686| 0.18235192862173985|\n",
      "|             0.3437598815781546|0.037078977440137384| 0.06080599667465571|\n",
      "|             0.1276384494270046|-0.00248049165686...| 0.02526211626729129|\n",
      "|            0.01599745258739415| 0.03196997211857207|-0.00245742396717...|\n",
      "|           -0.02863152740041...|-0.01335945617530...|-0.01128157850907...|\n",
      "|                            1.0|0.030588790472823733| 0.08060603844556682|\n",
      "|           0.030588790472823733|                 1.0|  0.2598750702057177|\n",
      "|            0.08060603844556682|  0.2598750702057177|                 1.0|\n",
      "|            0.06980684688803301| 0.08065471349337365| 0.49588758667292604|\n",
      "|           -0.04448801970119596|-0.02093908622872...|-0.00977337988857...|\n",
      "|           0.059600047604373416| 0.08355504625754467|  0.5147020510962004|\n",
      "|           -0.06299148189515304|  0.1211947541532844| 0.05342580468854643|\n",
      "|            0.07387415456990586|  0.2411040088493328|  0.9938718539469001|\n",
      "+-------------------------------+--------------------+--------------------+\n",
      "\n"
     ]
    }
   ],
   "source": [
    "df_c.select('numberoffloorsininsuredbuilding',\n",
    " 'occupancytype',\n",
    " 'policycost').show(20)"
   ]
  },
  {
   "cell_type": "code",
   "execution_count": 21,
   "id": "d4b8bef1-6303-4d11-9636-0b03ea59ebf6",
   "metadata": {},
   "outputs": [
    {
     "name": "stdout",
     "output_type": "stream",
     "text": [
      "+--------------------+--------------------+------------------------------+\n",
      "|         policycount| policytermindicator|totalbuildinginsurancecoverage|\n",
      "+--------------------+--------------------+------------------------------+\n",
      "|-0.00827347737214...|-1.65705931078434...|          -0.00797478163619...|\n",
      "| 0.00879790297900046|-0.02450568557810686|          0.006946886998778...|\n",
      "|-0.02354252110006...|   0.035625079186622|          -0.02664276057268567|\n",
      "|-0.02335026782739592| 0.04136907348096722|          -0.02736003235722...|\n",
      "|0.028147108771781164|-0.03970568654901237|          0.025212129977885484|\n",
      "|-0.03065010725766...| 0.04104422570965058|          -0.03866066385828043|\n",
      "|  0.5481074038104508|-0.02839057493420...|           0.49635660866817927|\n",
      "|0.031949873197437695|-0.02571907189115425|           0.03871098206689112|\n",
      "|-0.02512727932134...|0.001390069725837008|          -0.02446116456239017|\n",
      "| 0.01019871929455978|0.005318202524779173|          0.007148866689062...|\n",
      "|-0.00739083457659...|-1.66521866914622...|          -0.00714773677544...|\n",
      "|-0.00878822844398...|-1.75006465878804...|          -0.00930580650227...|\n",
      "| 0.06980684688803301|-0.04448801970119596|          0.059600047604373416|\n",
      "| 0.08065471349337365|-0.02093908622872...|           0.08355504625754467|\n",
      "| 0.49588758667292604|-0.00977337988857...|            0.5147020510962004|\n",
      "|                 1.0|-0.00282092454406...|            0.9346500961070282|\n",
      "|-0.00282092454406...|                 1.0|          -0.01184696324422...|\n",
      "|  0.9346500961070282|-0.01184696324422...|                           1.0|\n",
      "|-0.02453269839762...| -0.0463923411468774|          0.021330561144657905|\n",
      "| 0.48166575330237577|-0.00625600746430...|            0.5017542593666564|\n",
      "+--------------------+--------------------+------------------------------+\n",
      "\n"
     ]
    }
   ],
   "source": [
    "df_c.select('policycount',\n",
    " 'policytermindicator',\n",
    " 'totalbuildinginsurancecoverage').show(20)"
   ]
  },
  {
   "cell_type": "code",
   "execution_count": 22,
   "id": "add942fc-df40-4bfd-b481-ccc8d8a561c2",
   "metadata": {},
   "outputs": [
    {
     "name": "stdout",
     "output_type": "stream",
     "text": [
      "+------------------------------+--------------------------------+\n",
      "|totalcontentsinsurancecoverage|totalinsurancepremiumofthepolicy|\n",
      "+------------------------------+--------------------------------+\n",
      "|          -0.03432244037265...|            -0.00234846782138...|\n",
      "|          -0.09892408517021709|              0.0693259281247627|\n",
      "|          0.014045383330901539|            -0.00788805859775...|\n",
      "|          0.008361075386161178|            -0.00851191616326...|\n",
      "|           -0.1443948051727502|            0.058638703250568816|\n",
      "|           0.11507960281910591|            0.009922795564581026|\n",
      "|          -0.09552873635534821|             0.33594882023229616|\n",
      "|          0.014049042681092581|             0.11148432510815016|\n",
      "|          -0.10442024470081457|             0.06066938471879821|\n",
      "|          -0.00173734949061...|            0.023512821648468855|\n",
      "|          -0.03205674352377...|            -0.00295009384701...|\n",
      "|          -0.00959618414729...|            -0.01006926417078...|\n",
      "|          -0.06299148189515304|             0.07387415456990586|\n",
      "|            0.1211947541532844|              0.2411040088493328|\n",
      "|           0.05342580468854643|              0.9938718539469001|\n",
      "|          -0.02453269839762...|             0.48166575330237577|\n",
      "|           -0.0463923411468774|            -0.00625600746430...|\n",
      "|          0.021330561144657905|              0.5017542593666564|\n",
      "|                           1.0|            0.058099200543920884|\n",
      "|          0.058099200543920884|                             1.0|\n",
      "+------------------------------+--------------------------------+\n",
      "\n"
     ]
    }
   ],
   "source": [
    "df_c.select('totalcontentsinsurancecoverage',\n",
    " 'totalinsurancepremiumofthepolicy').show(20)"
   ]
  },
  {
   "cell_type": "markdown",
   "id": "9c070f80-06aa-4100-ad23-ec46429cfd59",
   "metadata": {},
   "source": [
    "The dataframe new_df is the dataframe with the imputed mean values and this code checks that there are zero missing values and the column names are changed from feature0, feature1 and so on to the original column names within the new_df dataframe."
   ]
  },
  {
   "cell_type": "code",
   "execution_count": 23,
   "id": "7da6c40c-952f-4142-bb58-ef0d6ce813c5",
   "metadata": {},
   "outputs": [
    {
     "name": "stdout",
     "output_type": "stream",
     "text": [
      "-RECORD 0------------------------\n",
      " features0  | 119.46875184553842 \n",
      " features1  | 2                  \n",
      " features2  | 33013038500        \n",
      " features3  | 33013              \n",
      " features4  | 0.0                \n",
      " features5  | 999                \n",
      " features6  | 13                 \n",
      " features7  | 0                  \n",
      " features8  | 43.3               \n",
      " features9  | -71.8              \n",
      " features10 | 129.1970600006573  \n",
      " features11 | 385.6220114835789  \n",
      " features12 | 2                  \n",
      " features13 | 1                  \n",
      " features14 | 388                \n",
      " features15 | 1                  \n",
      " features16 | 1                  \n",
      " features17 | 250000             \n",
      " features18 | 100000             \n",
      " features19 | 375                \n",
      "-RECORD 1------------------------\n",
      " features0  | 119.46875184553842 \n",
      " features1  | 0                  \n",
      " features2  | 22063040700        \n",
      " features3  | 22063              \n",
      " features4  | 0.05               \n",
      " features5  | 999                \n",
      " features6  | 35                 \n",
      " features7  | 0                  \n",
      " features8  | 30.5               \n",
      " features9  | -91.0              \n",
      " features10 | 129.1970600006573  \n",
      " features11 | 385.6220114835789  \n",
      " features12 | 1                  \n",
      " features13 | 3                  \n",
      " features14 | 315                \n",
      " features15 | 1                  \n",
      " features16 | 1                  \n",
      " features17 | 16400              \n",
      " features18 | 8800               \n",
      " features19 | 280                \n",
      "-RECORD 2------------------------\n",
      " features0  | 119.46875184553842 \n",
      " features1  | 0                  \n",
      " features2  | 45051060204        \n",
      " features3  | 45051              \n",
      " features4  | 0.0                \n",
      " features5  | 999                \n",
      " features6  | 13                 \n",
      " features7  | 0                  \n",
      " features8  | 33.7               \n",
      " features9  | -79.0              \n",
      " features10 | 129.1970600006573  \n",
      " features11 | 385.6220114835789  \n",
      " features12 | 1                  \n",
      " features13 | 1                  \n",
      " features14 | 348                \n",
      " features15 | 1                  \n",
      " features16 | 1                  \n",
      " features17 | 250000             \n",
      " features18 | 100000             \n",
      " features19 | 335                \n",
      "-RECORD 3------------------------\n",
      " features0  | 519.0              \n",
      " features1  | 2                  \n",
      " features2  | 1055001200         \n",
      " features3  | 1055               \n",
      " features4  | 0.0                \n",
      " features5  | -2                 \n",
      " features6  | 35                 \n",
      " features7  | 0                  \n",
      " features8  | 34.0               \n",
      " features9  | -86.0              \n",
      " features10 | 517.3              \n",
      " features11 | 517.3              \n",
      " features12 | 3                  \n",
      " features13 | 1                  \n",
      " features14 | 951                \n",
      " features15 | 1                  \n",
      " features16 | 1                  \n",
      " features17 | 174900             \n",
      " features18 | 21000              \n",
      " features19 | 916                \n",
      "-RECORD 4------------------------\n",
      " features0  | 7.0                \n",
      " features1  | 0                  \n",
      " features2  | 12086000115        \n",
      " features3  | 12086              \n",
      " features4  | 0.0                \n",
      " features5  | 0                  \n",
      " features6  | 35                 \n",
      " features7  | 0                  \n",
      " features8  | 26.0               \n",
      " features9  | -80.1              \n",
      " features10 | 129.1970600006573  \n",
      " features11 | 6.9                \n",
      " features12 | 1                  \n",
      " features13 | 1                  \n",
      " features14 | 1323               \n",
      " features15 | 1                  \n",
      " features16 | 1                  \n",
      " features17 | 250000             \n",
      " features18 | 100000             \n",
      " features19 | 1288               \n",
      "only showing top 5 rows\n",
      "\n"
     ]
    }
   ],
   "source": [
    "new_df = changed_df.drop('basefloodelevation',\n",
    " 'basementenclosurecrawlspacetype',\n",
    " 'censustract',\n",
    " 'countycode',\n",
    " 'crsdiscount',\n",
    " 'elevationdifference',\n",
    " 'federalpolicyfee',\n",
    " 'hfiaasurcharge',\n",
    " 'latitude',\n",
    " 'longitude',\n",
    " 'lowestadjacentgrade',\n",
    " 'lowestfloorelevation',\n",
    " 'numberoffloorsininsuredbuilding',\n",
    " 'occupancytype',\n",
    " 'policycost',\n",
    " 'policycount',\n",
    " 'policytermindicator',\n",
    " 'totalbuildinginsurancecoverage',\n",
    " 'totalcontentsinsurancecoverage',\n",
    " 'totalinsurancepremiumofthepolicy')\n",
    "new_df.show(5,vertical=True)"
   ]
  },
  {
   "cell_type": "code",
   "execution_count": 24,
   "id": "32070b59-92cf-4db7-a782-65dd7bab243b",
   "metadata": {},
   "outputs": [],
   "source": [
    "new_df_missing_vals = new_df.select(*(spark_sum(col(i).isNull().cast(\"int\")).alias(i) for i in new_df.columns))"
   ]
  },
  {
   "cell_type": "code",
   "execution_count": 25,
   "id": "91818d10-cebf-454c-a0f1-a0a3bcbb3b22",
   "metadata": {},
   "outputs": [
    {
     "name": "stderr",
     "output_type": "stream",
     "text": [
      "[Stage 47:=======================================================>(96 + 1) / 97]\r"
     ]
    },
    {
     "name": "stdout",
     "output_type": "stream",
     "text": [
      "-RECORD 0---------\n",
      " features0  | 0   \n",
      " features1  | 0   \n",
      " features2  | 0   \n",
      " features3  | 0   \n",
      " features4  | 0   \n",
      " features5  | 0   \n",
      " features6  | 0   \n",
      " features7  | 0   \n",
      " features8  | 0   \n",
      " features9  | 0   \n",
      " features10 | 0   \n",
      " features11 | 0   \n",
      " features12 | 0   \n",
      " features13 | 0   \n",
      " features14 | 0   \n",
      " features15 | 0   \n",
      " features16 | 0   \n",
      " features17 | 0   \n",
      " features18 | 0   \n",
      " features19 | 0   \n",
      "\n"
     ]
    },
    {
     "name": "stderr",
     "output_type": "stream",
     "text": [
      "                                                                                \r"
     ]
    }
   ],
   "source": [
    "new_df_missing_vals.show(vertical= True)"
   ]
  },
  {
   "cell_type": "code",
   "execution_count": 26,
   "id": "5967b8f8-115b-4026-998f-302c1719de6d",
   "metadata": {},
   "outputs": [
    {
     "name": "stdout",
     "output_type": "stream",
     "text": [
      "-RECORD 0----------------------------------------------\n",
      " basefloodelevation               | 119.46875184553842 \n",
      " basementenclosurecrawlspacetype  | 2                  \n",
      " censustract                      | 33013038500        \n",
      " countycode                       | 33013              \n",
      " crsdiscount                      | 0.0                \n",
      " elevationdifference              | 999                \n",
      " federalpolicyfee                 | 13                 \n",
      " hfiaasurcharge                   | 0                  \n",
      " latitude                         | 43.3               \n",
      " longitude                        | -71.8              \n",
      " lowestadjacentgrade              | 129.1970600006573  \n",
      " lowestfloorelevation             | 385.6220114835789  \n",
      " numberoffloorsininsuredbuilding  | 2                  \n",
      " occupancytype                    | 1                  \n",
      " policycost                       | 388                \n",
      " policycount                      | 1                  \n",
      " policytermindicator              | 1                  \n",
      " totalbuildinginsurancecoverage   | 250000             \n",
      " totalcontentsinsurancecoverage   | 100000             \n",
      " totalinsurancepremiumofthepolicy | 375                \n",
      "-RECORD 1----------------------------------------------\n",
      " basefloodelevation               | 119.46875184553842 \n",
      " basementenclosurecrawlspacetype  | 0                  \n",
      " censustract                      | 22063040700        \n",
      " countycode                       | 22063              \n",
      " crsdiscount                      | 0.05               \n",
      " elevationdifference              | 999                \n",
      " federalpolicyfee                 | 35                 \n",
      " hfiaasurcharge                   | 0                  \n",
      " latitude                         | 30.5               \n",
      " longitude                        | -91.0              \n",
      " lowestadjacentgrade              | 129.1970600006573  \n",
      " lowestfloorelevation             | 385.6220114835789  \n",
      " numberoffloorsininsuredbuilding  | 1                  \n",
      " occupancytype                    | 3                  \n",
      " policycost                       | 315                \n",
      " policycount                      | 1                  \n",
      " policytermindicator              | 1                  \n",
      " totalbuildinginsurancecoverage   | 16400              \n",
      " totalcontentsinsurancecoverage   | 8800               \n",
      " totalinsurancepremiumofthepolicy | 280                \n",
      "-RECORD 2----------------------------------------------\n",
      " basefloodelevation               | 119.46875184553842 \n",
      " basementenclosurecrawlspacetype  | 0                  \n",
      " censustract                      | 45051060204        \n",
      " countycode                       | 45051              \n",
      " crsdiscount                      | 0.0                \n",
      " elevationdifference              | 999                \n",
      " federalpolicyfee                 | 13                 \n",
      " hfiaasurcharge                   | 0                  \n",
      " latitude                         | 33.7               \n",
      " longitude                        | -79.0              \n",
      " lowestadjacentgrade              | 129.1970600006573  \n",
      " lowestfloorelevation             | 385.6220114835789  \n",
      " numberoffloorsininsuredbuilding  | 1                  \n",
      " occupancytype                    | 1                  \n",
      " policycost                       | 348                \n",
      " policycount                      | 1                  \n",
      " policytermindicator              | 1                  \n",
      " totalbuildinginsurancecoverage   | 250000             \n",
      " totalcontentsinsurancecoverage   | 100000             \n",
      " totalinsurancepremiumofthepolicy | 335                \n",
      "-RECORD 3----------------------------------------------\n",
      " basefloodelevation               | 519.0              \n",
      " basementenclosurecrawlspacetype  | 2                  \n",
      " censustract                      | 1055001200         \n",
      " countycode                       | 1055               \n",
      " crsdiscount                      | 0.0                \n",
      " elevationdifference              | -2                 \n",
      " federalpolicyfee                 | 35                 \n",
      " hfiaasurcharge                   | 0                  \n",
      " latitude                         | 34.0               \n",
      " longitude                        | -86.0              \n",
      " lowestadjacentgrade              | 517.3              \n",
      " lowestfloorelevation             | 517.3              \n",
      " numberoffloorsininsuredbuilding  | 3                  \n",
      " occupancytype                    | 1                  \n",
      " policycost                       | 951                \n",
      " policycount                      | 1                  \n",
      " policytermindicator              | 1                  \n",
      " totalbuildinginsurancecoverage   | 174900             \n",
      " totalcontentsinsurancecoverage   | 21000              \n",
      " totalinsurancepremiumofthepolicy | 916                \n",
      "-RECORD 4----------------------------------------------\n",
      " basefloodelevation               | 7.0                \n",
      " basementenclosurecrawlspacetype  | 0                  \n",
      " censustract                      | 12086000115        \n",
      " countycode                       | 12086              \n",
      " crsdiscount                      | 0.0                \n",
      " elevationdifference              | 0                  \n",
      " federalpolicyfee                 | 35                 \n",
      " hfiaasurcharge                   | 0                  \n",
      " latitude                         | 26.0               \n",
      " longitude                        | -80.1              \n",
      " lowestadjacentgrade              | 129.1970600006573  \n",
      " lowestfloorelevation             | 6.9                \n",
      " numberoffloorsininsuredbuilding  | 1                  \n",
      " occupancytype                    | 1                  \n",
      " policycost                       | 1323               \n",
      " policycount                      | 1                  \n",
      " policytermindicator              | 1                  \n",
      " totalbuildinginsurancecoverage   | 250000             \n",
      " totalcontentsinsurancecoverage   | 100000             \n",
      " totalinsurancepremiumofthepolicy | 1288               \n",
      "only showing top 5 rows\n",
      "\n"
     ]
    }
   ],
   "source": [
    "column_names = ['basefloodelevation',\n",
    " 'basementenclosurecrawlspacetype',\n",
    " 'censustract',\n",
    " 'countycode',\n",
    " 'crsdiscount',\n",
    " 'elevationdifference',\n",
    " 'federalpolicyfee',\n",
    " 'hfiaasurcharge',\n",
    " 'latitude',\n",
    " 'longitude',\n",
    " 'lowestadjacentgrade',\n",
    " 'lowestfloorelevation',\n",
    " 'numberoffloorsininsuredbuilding',\n",
    " 'occupancytype',\n",
    " 'policycost',\n",
    " 'policycount',\n",
    " 'policytermindicator',\n",
    " 'totalbuildinginsurancecoverage',\n",
    " 'totalcontentsinsurancecoverage',\n",
    " 'totalinsurancepremiumofthepolicy']\n",
    "new_df = new_df.toDF(*column_names)\n",
    "new_df.show(5,vertical=True)"
   ]
  },
  {
   "cell_type": "markdown",
   "id": "c9f5b933-e369-4bee-b609-6d70597657ff",
   "metadata": {},
   "source": [
    "### Scatterplots "
   ]
  },
  {
   "cell_type": "code",
   "execution_count": 27,
   "id": "6554a239-9402-4b17-901d-258733d8d3e2",
   "metadata": {},
   "outputs": [
    {
     "name": "stderr",
     "output_type": "stream",
     "text": [
      "                                                                                \r"
     ]
    },
    {
     "name": "stdout",
     "output_type": "stream",
     "text": [
      "         basefloodelevation  basementenclosurecrawlspacetype   censustract  \\\n",
      "0                       NaN                              0.0  2.206304e+10   \n",
      "1                     519.0                              2.0  1.055001e+09   \n",
      "2                     302.8                              0.0  6.107002e+09   \n",
      "3                      11.0                              0.0  1.207108e+10   \n",
      "4                       5.0                              0.0  2.209507e+10   \n",
      "...                     ...                              ...           ...   \n",
      "5039596                23.0                              0.0  2.205500e+10   \n",
      "5039597                 NaN                              0.0  1.200906e+10   \n",
      "5039598                 NaN                              0.0  6.037197e+09   \n",
      "5039599                 9.0                              0.0  5.151020e+10   \n",
      "5039600                 NaN                              0.0  3.902504e+10   \n",
      "\n",
      "         countycode  crsdiscount  elevationdifference  federalpolicyfee  \\\n",
      "0           22063.0         0.05                  999                35   \n",
      "1            1055.0         0.00                   -2                35   \n",
      "2            6107.0         0.00                    0                35   \n",
      "3           12071.0         0.25                    7                35   \n",
      "4           22095.0         0.05                    1                35   \n",
      "...             ...          ...                  ...               ...   \n",
      "5039596     22055.0         0.10                    2                50   \n",
      "5039597     12009.0         0.00                  999                25   \n",
      "5039598      6037.0         0.00                  999                25   \n",
      "5039599     51510.0         0.20                    1                 0   \n",
      "5039600     39025.0         0.00                  999                 0   \n",
      "\n",
      "         hfiaasurcharge  latitude  longitude  ...  features10  features11  \\\n",
      "0                     0      30.5      -91.0  ...   129.19706  385.622011   \n",
      "1                     0      34.0      -86.0  ...   517.30000  517.300000   \n",
      "2                     0      36.3     -119.4  ...     0.00000  303.000000   \n",
      "3                     0      26.4      -82.1  ...     8.10000   18.100000   \n",
      "4                     0      30.1      -90.5  ...     4.80000    5.500000   \n",
      "...                 ...       ...        ...  ...         ...         ...   \n",
      "5039596              25      30.1      -92.0  ...    23.20000   24.800000   \n",
      "5039597              25      28.2      -80.6  ...   129.19706  385.622011   \n",
      "5039598             250      34.1     -118.3  ...   129.19706  385.622011   \n",
      "5039599               0      38.8      -77.0  ...     9.80000   10.100000   \n",
      "5039600               1      39.1      -84.2  ...   129.19706  385.622011   \n",
      "\n",
      "         features12  features13  features14  features15  features16  \\\n",
      "0                 1           3         315           1           1   \n",
      "1                 3           1         951           1           1   \n",
      "2                 1           1         327           1           1   \n",
      "3                 3           1         377           1           1   \n",
      "4                 1           1         582           1           1   \n",
      "...             ...         ...         ...         ...         ...   \n",
      "5039596           1           1         611           1           1   \n",
      "5039597           2           3         269           1           1   \n",
      "5039598           2           1         705           1           1   \n",
      "5039599           3           1         609           1           1   \n",
      "5039600           1           1         458           1           1   \n",
      "\n",
      "         features17  features18  features19  \n",
      "0             16400        8800         280  \n",
      "1            174900       21000         916  \n",
      "2            250000           0         292  \n",
      "3            250000      100000         342  \n",
      "4            163000       25000         547  \n",
      "...             ...         ...         ...  \n",
      "5039596      250000           0         466  \n",
      "5039597       30000       40000         190  \n",
      "5039598      250000      100000         374  \n",
      "5039599      250000           0         269  \n",
      "5039600      250000      100000         376  \n",
      "\n",
      "[5039601 rows x 40 columns]\n"
     ]
    }
   ],
   "source": [
    "import matplotlib.pyplot as plt\n",
    "changed_num_df = changed_df.sample(False, 0.1)\n",
    "num_pdf = changed_num_df.toPandas()\n",
    "print(num_pdf)"
   ]
  },
  {
   "cell_type": "code",
   "execution_count": 28,
   "id": "1b8b2830-1613-4da2-9cd1-060dc91ba3a8",
   "metadata": {},
   "outputs": [
    {
     "data": {
      "image/png": "[encoded data removed]",
      "text/plain": [
       "<Figure size 640x480 with 1 Axes>"
      ]
     },
     "metadata": {},
     "output_type": "display_data"
    }
   ],
   "source": [
    "plt.scatter(x=num_pdf['policycost'],y=num_pdf['totalinsurancepremiumofthepolicy'])\n",
    "plt.xlabel('Policy Cost')\n",
    "plt.ylabel('Total Insurance Premium of the Policy')          \n",
    "plt.title('Policy Cost vs Total Insurance Premium of the Policy')\n",
    "plt.show()"
   ]
  },
  {
   "cell_type": "code",
   "execution_count": 29,
   "id": "8bdeceeb-ca90-4ffb-9ca1-28125c9acfbf",
   "metadata": {},
   "outputs": [
    {
     "data": {
      "image/png": "[encoded data removed]",
      "text/plain": [
       "<Figure size 640x480 with 1 Axes>"
      ]
     },
     "metadata": {},
     "output_type": "display_data"
    }
   ],
   "source": [
    "plt.scatter(x=num_pdf['countycode'],y=num_pdf['censustract'])\n",
    "plt.xlabel('County Code')\n",
    "plt.ylabel('Census Tract') \n",
    "plt.title('County Code vs Census Tract')\n",
    "plt.show()"
   ]
  },
  {
   "cell_type": "code",
   "execution_count": 30,
   "id": "63eadc63-86f7-4727-9c8a-0bcd96481610",
   "metadata": {},
   "outputs": [
    {
     "data": {
      "image/png": "[encoded data removed]",
      "text/plain": [
       "<Figure size 640x480 with 1 Axes>"
      ]
     },
     "metadata": {},
     "output_type": "display_data"
    }
   ],
   "source": [
    "plt.scatter(x=num_pdf['policycount'],y=num_pdf['totalbuildinginsurancecoverage'])\n",
    "plt.xlabel('Policy Count')\n",
    "plt.ylabel('Total Building Insurance Coverage') \n",
    "plt.title('Policy Count vs Total Building Insurance Coverage')\n",
    "plt.show()"
   ]
  },
  {
   "cell_type": "code",
   "execution_count": null,
   "id": "8dcba8cc-b505-4be9-92ea-7df422963e05",
   "metadata": {},
   "outputs": [],
   "source": []
  }
 ],
 "metadata": {
  "kernelspec": {
   "display_name": "Python 3 (ipykernel)",
   "language": "python",
   "name": "python3"
  },
  "language_info": {
   "codemirror_mode": {
    "name": "ipython",
    "version": 3
   },
   "file_extension": ".py",
   "mimetype": "text/x-python",
   "name": "python",
   "nbconvert_exporter": "python",
   "pygments_lexer": "ipython3",
   "version": "3.12.0"
  }
 },
 "nbformat": 4,
 "nbformat_minor": 5
}
